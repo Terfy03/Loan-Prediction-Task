{
 "cells": [
  {
   "cell_type": "code",
   "execution_count": 1,
   "metadata": {},
   "outputs": [],
   "source": [
    "import pandas as pd\n",
    "import numpy as np\n",
    "import matplotlib.pyplot as plt\n",
    "import seaborn as sns"
   ]
  },
  {
   "cell_type": "code",
   "execution_count": 2,
   "metadata": {},
   "outputs": [],
   "source": [
    "df = pd.read_csv('train_tc.csv')"
   ]
  },
  {
   "cell_type": "code",
   "execution_count": 92,
   "metadata": {},
   "outputs": [
    {
     "data": {
      "text/html": [
       "<div>\n",
       "<style scoped>\n",
       "    .dataframe tbody tr th:only-of-type {\n",
       "        vertical-align: middle;\n",
       "    }\n",
       "\n",
       "    .dataframe tbody tr th {\n",
       "        vertical-align: top;\n",
       "    }\n",
       "\n",
       "    .dataframe thead th {\n",
       "        text-align: right;\n",
       "    }\n",
       "</style>\n",
       "<table border=\"1\" class=\"dataframe\">\n",
       "  <thead>\n",
       "    <tr style=\"text-align: right;\">\n",
       "      <th></th>\n",
       "      <th>Current.Loan.Amount</th>\n",
       "      <th>Term</th>\n",
       "      <th>Home.Ownership</th>\n",
       "      <th>Annual.Income</th>\n",
       "      <th>Purpose</th>\n",
       "      <th>Monthly.Debt</th>\n",
       "      <th>Years.of.Credit.History</th>\n",
       "      <th>Number.of.Open.Accounts</th>\n",
       "      <th>Number.of.Credit.Problems</th>\n",
       "      <th>Current.Credit.Balance</th>\n",
       "      <th>Maximum.Open.Credit</th>\n",
       "      <th>Bankruptcies</th>\n",
       "      <th>Tax.Liens</th>\n",
       "      <th>Loan.Status</th>\n",
       "      <th>Years_in_job</th>\n",
       "      <th>Credit_Score_Fair</th>\n",
       "      <th>Credit_Score_Good</th>\n",
       "      <th>Credit_Score_Very Good</th>\n",
       "    </tr>\n",
       "  </thead>\n",
       "  <tbody>\n",
       "    <tr>\n",
       "      <th>0</th>\n",
       "      <td>17879</td>\n",
       "      <td>1</td>\n",
       "      <td>1</td>\n",
       "      <td>95357.0</td>\n",
       "      <td>0</td>\n",
       "      <td>1509.82</td>\n",
       "      <td>34.4</td>\n",
       "      <td>26</td>\n",
       "      <td>0</td>\n",
       "      <td>23986</td>\n",
       "      <td>40313</td>\n",
       "      <td>0.0</td>\n",
       "      <td>0.0</td>\n",
       "      <td>1</td>\n",
       "      <td>6</td>\n",
       "      <td>0</td>\n",
       "      <td>1</td>\n",
       "      <td>0</td>\n",
       "    </tr>\n",
       "    <tr>\n",
       "      <th>1</th>\n",
       "      <td>99999999</td>\n",
       "      <td>0</td>\n",
       "      <td>3</td>\n",
       "      <td>54406.0</td>\n",
       "      <td>0</td>\n",
       "      <td>1065.45</td>\n",
       "      <td>12.7</td>\n",
       "      <td>8</td>\n",
       "      <td>0</td>\n",
       "      <td>22938</td>\n",
       "      <td>31250</td>\n",
       "      <td>0.0</td>\n",
       "      <td>0.0</td>\n",
       "      <td>1</td>\n",
       "      <td>6</td>\n",
       "      <td>1</td>\n",
       "      <td>0</td>\n",
       "      <td>0</td>\n",
       "    </tr>\n",
       "    <tr>\n",
       "      <th>2</th>\n",
       "      <td>99999999</td>\n",
       "      <td>1</td>\n",
       "      <td>3</td>\n",
       "      <td>40480.0</td>\n",
       "      <td>2</td>\n",
       "      <td>573.47</td>\n",
       "      <td>32.7</td>\n",
       "      <td>9</td>\n",
       "      <td>1</td>\n",
       "      <td>3963</td>\n",
       "      <td>5669</td>\n",
       "      <td>1.0</td>\n",
       "      <td>0.0</td>\n",
       "      <td>1</td>\n",
       "      <td>0</td>\n",
       "      <td>0</td>\n",
       "      <td>1</td>\n",
       "      <td>0</td>\n",
       "    </tr>\n",
       "    <tr>\n",
       "      <th>3</th>\n",
       "      <td>11200</td>\n",
       "      <td>1</td>\n",
       "      <td>3</td>\n",
       "      <td>53965.0</td>\n",
       "      <td>0</td>\n",
       "      <td>1358.11</td>\n",
       "      <td>15.8</td>\n",
       "      <td>8</td>\n",
       "      <td>1</td>\n",
       "      <td>11782</td>\n",
       "      <td>25951</td>\n",
       "      <td>1.0</td>\n",
       "      <td>0.0</td>\n",
       "      <td>1</td>\n",
       "      <td>4</td>\n",
       "      <td>0</td>\n",
       "      <td>1</td>\n",
       "      <td>0</td>\n",
       "    </tr>\n",
       "    <tr>\n",
       "      <th>4</th>\n",
       "      <td>3608</td>\n",
       "      <td>1</td>\n",
       "      <td>1</td>\n",
       "      <td>47709.0</td>\n",
       "      <td>1</td>\n",
       "      <td>339.93</td>\n",
       "      <td>16.1</td>\n",
       "      <td>6</td>\n",
       "      <td>0</td>\n",
       "      <td>22909</td>\n",
       "      <td>25568</td>\n",
       "      <td>0.0</td>\n",
       "      <td>0.0</td>\n",
       "      <td>1</td>\n",
       "      <td>10</td>\n",
       "      <td>0</td>\n",
       "      <td>1</td>\n",
       "      <td>0</td>\n",
       "    </tr>\n",
       "  </tbody>\n",
       "</table>\n",
       "</div>"
      ],
      "text/plain": [
       "   Current.Loan.Amount  Term  Home.Ownership  Annual.Income  Purpose  \\\n",
       "0                17879     1               1        95357.0        0   \n",
       "1             99999999     0               3        54406.0        0   \n",
       "2             99999999     1               3        40480.0        2   \n",
       "3                11200     1               3        53965.0        0   \n",
       "4                 3608     1               1        47709.0        1   \n",
       "\n",
       "   Monthly.Debt  Years.of.Credit.History  Number.of.Open.Accounts  \\\n",
       "0       1509.82                     34.4                       26   \n",
       "1       1065.45                     12.7                        8   \n",
       "2        573.47                     32.7                        9   \n",
       "3       1358.11                     15.8                        8   \n",
       "4        339.93                     16.1                        6   \n",
       "\n",
       "   Number.of.Credit.Problems  Current.Credit.Balance  Maximum.Open.Credit  \\\n",
       "0                          0                   23986                40313   \n",
       "1                          0                   22938                31250   \n",
       "2                          1                    3963                 5669   \n",
       "3                          1                   11782                25951   \n",
       "4                          0                   22909                25568   \n",
       "\n",
       "   Bankruptcies  Tax.Liens  Loan.Status Years_in_job  Credit_Score_Fair  \\\n",
       "0           0.0        0.0            1            6                  0   \n",
       "1           0.0        0.0            1            6                  1   \n",
       "2           1.0        0.0            1            0                  0   \n",
       "3           1.0        0.0            1            4                  0   \n",
       "4           0.0        0.0            1           10                  0   \n",
       "\n",
       "   Credit_Score_Good  Credit_Score_Very Good  \n",
       "0                  1                       0  \n",
       "1                  0                       0  \n",
       "2                  1                       0  \n",
       "3                  1                       0  \n",
       "4                  1                       0  "
      ]
     },
     "execution_count": 92,
     "metadata": {},
     "output_type": "execute_result"
    }
   ],
   "source": [
    "df.head()"
   ]
  },
  {
   "cell_type": "code",
   "execution_count": 4,
   "metadata": {},
   "outputs": [
    {
     "data": {
      "text/plain": [
       "Loan.ID                           int64\n",
       "Current.Loan.Amount               int64\n",
       "Term                             object\n",
       "Credit.Score                    float64\n",
       "Years.in.current.job             object\n",
       "Home.Ownership                   object\n",
       "Annual.Income                   float64\n",
       "Purpose                          object\n",
       "Monthly.Debt                    float64\n",
       "Years.of.Credit.History         float64\n",
       "Months.since.last.delinquent    float64\n",
       "Number.of.Open.Accounts           int64\n",
       "Number.of.Credit.Problems         int64\n",
       "Current.Credit.Balance            int64\n",
       "Maximum.Open.Credit               int64\n",
       "Bankruptcies                    float64\n",
       "Tax.Liens                       float64\n",
       "Loan.Status                       int64\n",
       "dtype: object"
      ]
     },
     "execution_count": 4,
     "metadata": {},
     "output_type": "execute_result"
    }
   ],
   "source": [
    "df.dtypes"
   ]
  },
  {
   "cell_type": "code",
   "execution_count": 5,
   "metadata": {},
   "outputs": [
    {
     "name": "stdout",
     "output_type": "stream",
     "text": [
      "<class 'pandas.core.frame.DataFrame'>\n",
      "RangeIndex: 60804 entries, 0 to 60803\n",
      "Data columns (total 18 columns):\n",
      " #   Column                        Non-Null Count  Dtype  \n",
      "---  ------                        --------------  -----  \n",
      " 0   Loan.ID                       60804 non-null  int64  \n",
      " 1   Current.Loan.Amount           60804 non-null  int64  \n",
      " 2   Term                          60804 non-null  object \n",
      " 3   Credit.Score                  48575 non-null  float64\n",
      " 4   Years.in.current.job          58275 non-null  object \n",
      " 5   Home.Ownership                60804 non-null  object \n",
      " 6   Annual.Income                 48575 non-null  float64\n",
      " 7   Purpose                       60804 non-null  object \n",
      " 8   Monthly.Debt                  60804 non-null  float64\n",
      " 9   Years.of.Credit.History       60804 non-null  float64\n",
      " 10  Months.since.last.delinquent  28329 non-null  float64\n",
      " 11  Number.of.Open.Accounts       60804 non-null  int64  \n",
      " 12  Number.of.Credit.Problems     60804 non-null  int64  \n",
      " 13  Current.Credit.Balance        60804 non-null  int64  \n",
      " 14  Maximum.Open.Credit           60804 non-null  int64  \n",
      " 15  Bankruptcies                  60677 non-null  float64\n",
      " 16  Tax.Liens                     60802 non-null  float64\n",
      " 17  Loan.Status                   60804 non-null  int64  \n",
      "dtypes: float64(7), int64(7), object(4)\n",
      "memory usage: 8.4+ MB\n"
     ]
    }
   ],
   "source": [
    "df.info()"
   ]
  },
  {
   "cell_type": "code",
   "execution_count": 6,
   "metadata": {},
   "outputs": [
    {
     "data": {
      "text/html": [
       "<div>\n",
       "<style scoped>\n",
       "    .dataframe tbody tr th:only-of-type {\n",
       "        vertical-align: middle;\n",
       "    }\n",
       "\n",
       "    .dataframe tbody tr th {\n",
       "        vertical-align: top;\n",
       "    }\n",
       "\n",
       "    .dataframe thead th {\n",
       "        text-align: right;\n",
       "    }\n",
       "</style>\n",
       "<table border=\"1\" class=\"dataframe\">\n",
       "  <thead>\n",
       "    <tr style=\"text-align: right;\">\n",
       "      <th></th>\n",
       "      <th>Loan.ID</th>\n",
       "      <th>Current.Loan.Amount</th>\n",
       "      <th>Credit.Score</th>\n",
       "      <th>Annual.Income</th>\n",
       "      <th>Monthly.Debt</th>\n",
       "      <th>Years.of.Credit.History</th>\n",
       "      <th>Months.since.last.delinquent</th>\n",
       "      <th>Number.of.Open.Accounts</th>\n",
       "      <th>Number.of.Credit.Problems</th>\n",
       "      <th>Current.Credit.Balance</th>\n",
       "      <th>Maximum.Open.Credit</th>\n",
       "      <th>Bankruptcies</th>\n",
       "      <th>Tax.Liens</th>\n",
       "      <th>Loan.Status</th>\n",
       "    </tr>\n",
       "  </thead>\n",
       "  <tbody>\n",
       "    <tr>\n",
       "      <th>count</th>\n",
       "      <td>60804.000000</td>\n",
       "      <td>6.080400e+04</td>\n",
       "      <td>48575.000000</td>\n",
       "      <td>4.857500e+04</td>\n",
       "      <td>60804.00000</td>\n",
       "      <td>60804.000000</td>\n",
       "      <td>28329.000000</td>\n",
       "      <td>60804.000000</td>\n",
       "      <td>60804.000000</td>\n",
       "      <td>60804.000000</td>\n",
       "      <td>6.080400e+04</td>\n",
       "      <td>60677.000000</td>\n",
       "      <td>60802.00000</td>\n",
       "      <td>60804.000000</td>\n",
       "    </tr>\n",
       "    <tr>\n",
       "      <th>mean</th>\n",
       "      <td>42094.538451</td>\n",
       "      <td>1.217772e+07</td>\n",
       "      <td>1104.772331</td>\n",
       "      <td>7.252253e+04</td>\n",
       "      <td>967.75930</td>\n",
       "      <td>18.235654</td>\n",
       "      <td>34.859402</td>\n",
       "      <td>11.113397</td>\n",
       "      <td>0.165861</td>\n",
       "      <td>15430.033863</td>\n",
       "      <td>3.316369e+04</td>\n",
       "      <td>0.115645</td>\n",
       "      <td>0.02870</td>\n",
       "      <td>0.759457</td>\n",
       "    </tr>\n",
       "    <tr>\n",
       "      <th>std</th>\n",
       "      <td>24303.803897</td>\n",
       "      <td>3.268413e+07</td>\n",
       "      <td>1526.402013</td>\n",
       "      <td>6.246093e+04</td>\n",
       "      <td>631.18808</td>\n",
       "      <td>7.030016</td>\n",
       "      <td>21.976407</td>\n",
       "      <td>4.993859</td>\n",
       "      <td>0.479679</td>\n",
       "      <td>18906.126169</td>\n",
       "      <td>2.155779e+05</td>\n",
       "      <td>0.346800</td>\n",
       "      <td>0.25697</td>\n",
       "      <td>0.427417</td>\n",
       "    </tr>\n",
       "    <tr>\n",
       "      <th>min</th>\n",
       "      <td>0.000000</td>\n",
       "      <td>4.910000e+02</td>\n",
       "      <td>585.000000</td>\n",
       "      <td>4.268000e+03</td>\n",
       "      <td>0.00000</td>\n",
       "      <td>3.600000</td>\n",
       "      <td>0.000000</td>\n",
       "      <td>0.000000</td>\n",
       "      <td>0.000000</td>\n",
       "      <td>0.000000</td>\n",
       "      <td>0.000000e+00</td>\n",
       "      <td>0.000000</td>\n",
       "      <td>0.00000</td>\n",
       "      <td>0.000000</td>\n",
       "    </tr>\n",
       "    <tr>\n",
       "      <th>25%</th>\n",
       "      <td>21046.750000</td>\n",
       "      <td>8.167750e+03</td>\n",
       "      <td>707.000000</td>\n",
       "      <td>4.470300e+04</td>\n",
       "      <td>536.78750</td>\n",
       "      <td>13.500000</td>\n",
       "      <td>16.000000</td>\n",
       "      <td>8.000000</td>\n",
       "      <td>0.000000</td>\n",
       "      <td>5907.750000</td>\n",
       "      <td>1.252175e+04</td>\n",
       "      <td>0.000000</td>\n",
       "      <td>0.00000</td>\n",
       "      <td>1.000000</td>\n",
       "    </tr>\n",
       "    <tr>\n",
       "      <th>50%</th>\n",
       "      <td>42094.500000</td>\n",
       "      <td>1.424000e+04</td>\n",
       "      <td>726.000000</td>\n",
       "      <td>6.157600e+04</td>\n",
       "      <td>851.81000</td>\n",
       "      <td>17.000000</td>\n",
       "      <td>32.000000</td>\n",
       "      <td>10.000000</td>\n",
       "      <td>0.000000</td>\n",
       "      <td>10995.000000</td>\n",
       "      <td>2.130700e+04</td>\n",
       "      <td>0.000000</td>\n",
       "      <td>0.00000</td>\n",
       "      <td>1.000000</td>\n",
       "    </tr>\n",
       "    <tr>\n",
       "      <th>75%</th>\n",
       "      <td>63142.250000</td>\n",
       "      <td>2.402325e+04</td>\n",
       "      <td>741.000000</td>\n",
       "      <td>8.681950e+04</td>\n",
       "      <td>1259.65250</td>\n",
       "      <td>21.700000</td>\n",
       "      <td>51.000000</td>\n",
       "      <td>14.000000</td>\n",
       "      <td>0.000000</td>\n",
       "      <td>19321.000000</td>\n",
       "      <td>3.574025e+04</td>\n",
       "      <td>0.000000</td>\n",
       "      <td>0.00000</td>\n",
       "      <td>1.000000</td>\n",
       "    </tr>\n",
       "    <tr>\n",
       "      <th>max</th>\n",
       "      <td>84189.000000</td>\n",
       "      <td>1.000000e+08</td>\n",
       "      <td>7510.000000</td>\n",
       "      <td>8.713547e+06</td>\n",
       "      <td>9060.85000</td>\n",
       "      <td>60.500000</td>\n",
       "      <td>176.000000</td>\n",
       "      <td>76.000000</td>\n",
       "      <td>15.000000</td>\n",
       "      <td>854602.000000</td>\n",
       "      <td>3.628434e+07</td>\n",
       "      <td>6.000000</td>\n",
       "      <td>15.00000</td>\n",
       "      <td>1.000000</td>\n",
       "    </tr>\n",
       "  </tbody>\n",
       "</table>\n",
       "</div>"
      ],
      "text/plain": [
       "            Loan.ID  Current.Loan.Amount  Credit.Score  Annual.Income  \\\n",
       "count  60804.000000         6.080400e+04  48575.000000   4.857500e+04   \n",
       "mean   42094.538451         1.217772e+07   1104.772331   7.252253e+04   \n",
       "std    24303.803897         3.268413e+07   1526.402013   6.246093e+04   \n",
       "min        0.000000         4.910000e+02    585.000000   4.268000e+03   \n",
       "25%    21046.750000         8.167750e+03    707.000000   4.470300e+04   \n",
       "50%    42094.500000         1.424000e+04    726.000000   6.157600e+04   \n",
       "75%    63142.250000         2.402325e+04    741.000000   8.681950e+04   \n",
       "max    84189.000000         1.000000e+08   7510.000000   8.713547e+06   \n",
       "\n",
       "       Monthly.Debt  Years.of.Credit.History  Months.since.last.delinquent  \\\n",
       "count   60804.00000             60804.000000                  28329.000000   \n",
       "mean      967.75930                18.235654                     34.859402   \n",
       "std       631.18808                 7.030016                     21.976407   \n",
       "min         0.00000                 3.600000                      0.000000   \n",
       "25%       536.78750                13.500000                     16.000000   \n",
       "50%       851.81000                17.000000                     32.000000   \n",
       "75%      1259.65250                21.700000                     51.000000   \n",
       "max      9060.85000                60.500000                    176.000000   \n",
       "\n",
       "       Number.of.Open.Accounts  Number.of.Credit.Problems  \\\n",
       "count             60804.000000               60804.000000   \n",
       "mean                 11.113397                   0.165861   \n",
       "std                   4.993859                   0.479679   \n",
       "min                   0.000000                   0.000000   \n",
       "25%                   8.000000                   0.000000   \n",
       "50%                  10.000000                   0.000000   \n",
       "75%                  14.000000                   0.000000   \n",
       "max                  76.000000                  15.000000   \n",
       "\n",
       "       Current.Credit.Balance  Maximum.Open.Credit  Bankruptcies    Tax.Liens  \\\n",
       "count            60804.000000         6.080400e+04  60677.000000  60802.00000   \n",
       "mean             15430.033863         3.316369e+04      0.115645      0.02870   \n",
       "std              18906.126169         2.155779e+05      0.346800      0.25697   \n",
       "min                  0.000000         0.000000e+00      0.000000      0.00000   \n",
       "25%               5907.750000         1.252175e+04      0.000000      0.00000   \n",
       "50%              10995.000000         2.130700e+04      0.000000      0.00000   \n",
       "75%              19321.000000         3.574025e+04      0.000000      0.00000   \n",
       "max             854602.000000         3.628434e+07      6.000000     15.00000   \n",
       "\n",
       "        Loan.Status  \n",
       "count  60804.000000  \n",
       "mean       0.759457  \n",
       "std        0.427417  \n",
       "min        0.000000  \n",
       "25%        1.000000  \n",
       "50%        1.000000  \n",
       "75%        1.000000  \n",
       "max        1.000000  "
      ]
     },
     "execution_count": 6,
     "metadata": {},
     "output_type": "execute_result"
    }
   ],
   "source": [
    "df.describe()"
   ]
  },
  {
   "cell_type": "code",
   "execution_count": 7,
   "metadata": {},
   "outputs": [
    {
     "data": {
      "text/plain": [
       "Loan.ID                             0\n",
       "Current.Loan.Amount                 0\n",
       "Term                                0\n",
       "Credit.Score                    12229\n",
       "Years.in.current.job             2529\n",
       "Home.Ownership                      0\n",
       "Annual.Income                   12229\n",
       "Purpose                             0\n",
       "Monthly.Debt                        0\n",
       "Years.of.Credit.History             0\n",
       "Months.since.last.delinquent    32475\n",
       "Number.of.Open.Accounts             0\n",
       "Number.of.Credit.Problems           0\n",
       "Current.Credit.Balance              0\n",
       "Maximum.Open.Credit                 0\n",
       "Bankruptcies                      127\n",
       "Tax.Liens                           2\n",
       "Loan.Status                         0\n",
       "dtype: int64"
      ]
     },
     "execution_count": 7,
     "metadata": {},
     "output_type": "execute_result"
    }
   ],
   "source": [
    "df.isnull().sum()"
   ]
  },
  {
   "cell_type": "code",
   "execution_count": 8,
   "metadata": {},
   "outputs": [],
   "source": [
    "#Years in current job, extracting years"
   ]
  },
  {
   "cell_type": "code",
   "execution_count": 9,
   "metadata": {},
   "outputs": [],
   "source": [
    "df['Years.in.current.job'].fillna('Not Available', inplace = True)"
   ]
  },
  {
   "cell_type": "code",
   "execution_count": 10,
   "metadata": {},
   "outputs": [
    {
     "data": {
      "text/plain": [
       "10+ years            18810\n",
       "2 years               5539\n",
       "3 years               5048\n",
       "less than  1 year     4996\n",
       "5 years               4150\n",
       "1 year                3901\n",
       "4 years               3754\n",
       "6 years               3532\n",
       "7 years               3313\n",
       "8 years               2831\n",
       "Not Available         2529\n",
       "9 years               2401\n",
       "Name: Years.in.current.job, dtype: int64"
      ]
     },
     "execution_count": 10,
     "metadata": {},
     "output_type": "execute_result"
    }
   ],
   "source": [
    "df['Years.in.current.job'].value_counts()"
   ]
  },
  {
   "cell_type": "code",
   "execution_count": 11,
   "metadata": {},
   "outputs": [],
   "source": [
    "#Replacing less than 1 year as 0\n",
    "df['Years.in.current.job'] = df['Years.in.current.job'].replace('less than  1 year', '0 years')"
   ]
  },
  {
   "cell_type": "code",
   "execution_count": 12,
   "metadata": {},
   "outputs": [
    {
     "data": {
      "text/plain": [
       "10+ years        18810\n",
       "2 years           5539\n",
       "3 years           5048\n",
       "0 years           4996\n",
       "5 years           4150\n",
       "1 year            3901\n",
       "4 years           3754\n",
       "6 years           3532\n",
       "7 years           3313\n",
       "8 years           2831\n",
       "Not Available     2529\n",
       "9 years           2401\n",
       "Name: Years.in.current.job, dtype: int64"
      ]
     },
     "execution_count": 12,
     "metadata": {},
     "output_type": "execute_result"
    }
   ],
   "source": [
    "df['Years.in.current.job'].value_counts()"
   ]
  },
  {
   "cell_type": "code",
   "execution_count": 13,
   "metadata": {},
   "outputs": [],
   "source": [
    "import re"
   ]
  },
  {
   "cell_type": "code",
   "execution_count": 14,
   "metadata": {},
   "outputs": [],
   "source": [
    "df['Years_in_job'] = df['Years.in.current.job'].str.extract('(\\d+)')"
   ]
  },
  {
   "cell_type": "code",
   "execution_count": 15,
   "metadata": {},
   "outputs": [
    {
     "data": {
      "text/html": [
       "<div>\n",
       "<style scoped>\n",
       "    .dataframe tbody tr th:only-of-type {\n",
       "        vertical-align: middle;\n",
       "    }\n",
       "\n",
       "    .dataframe tbody tr th {\n",
       "        vertical-align: top;\n",
       "    }\n",
       "\n",
       "    .dataframe thead th {\n",
       "        text-align: right;\n",
       "    }\n",
       "</style>\n",
       "<table border=\"1\" class=\"dataframe\">\n",
       "  <thead>\n",
       "    <tr style=\"text-align: right;\">\n",
       "      <th></th>\n",
       "      <th>Loan.ID</th>\n",
       "      <th>Current.Loan.Amount</th>\n",
       "      <th>Term</th>\n",
       "      <th>Credit.Score</th>\n",
       "      <th>Years.in.current.job</th>\n",
       "      <th>Home.Ownership</th>\n",
       "      <th>Annual.Income</th>\n",
       "      <th>Purpose</th>\n",
       "      <th>Monthly.Debt</th>\n",
       "      <th>Years.of.Credit.History</th>\n",
       "      <th>Months.since.last.delinquent</th>\n",
       "      <th>Number.of.Open.Accounts</th>\n",
       "      <th>Number.of.Credit.Problems</th>\n",
       "      <th>Current.Credit.Balance</th>\n",
       "      <th>Maximum.Open.Credit</th>\n",
       "      <th>Bankruptcies</th>\n",
       "      <th>Tax.Liens</th>\n",
       "      <th>Loan.Status</th>\n",
       "      <th>Years_in_job</th>\n",
       "    </tr>\n",
       "  </thead>\n",
       "  <tbody>\n",
       "    <tr>\n",
       "      <th>0</th>\n",
       "      <td>0</td>\n",
       "      <td>17879</td>\n",
       "      <td>Short Term</td>\n",
       "      <td>739.0</td>\n",
       "      <td>6 years</td>\n",
       "      <td>Home Mortgage</td>\n",
       "      <td>95357.0</td>\n",
       "      <td>Debt Consolidation</td>\n",
       "      <td>1509.82</td>\n",
       "      <td>34.4</td>\n",
       "      <td>5.0</td>\n",
       "      <td>26</td>\n",
       "      <td>0</td>\n",
       "      <td>23986</td>\n",
       "      <td>40313</td>\n",
       "      <td>0.0</td>\n",
       "      <td>0.0</td>\n",
       "      <td>1</td>\n",
       "      <td>6</td>\n",
       "    </tr>\n",
       "    <tr>\n",
       "      <th>1</th>\n",
       "      <td>1</td>\n",
       "      <td>99999999</td>\n",
       "      <td>Long Term</td>\n",
       "      <td>619.0</td>\n",
       "      <td>6 years</td>\n",
       "      <td>Rent</td>\n",
       "      <td>54406.0</td>\n",
       "      <td>Debt Consolidation</td>\n",
       "      <td>1065.45</td>\n",
       "      <td>12.7</td>\n",
       "      <td>NaN</td>\n",
       "      <td>8</td>\n",
       "      <td>0</td>\n",
       "      <td>22938</td>\n",
       "      <td>31250</td>\n",
       "      <td>0.0</td>\n",
       "      <td>0.0</td>\n",
       "      <td>1</td>\n",
       "      <td>6</td>\n",
       "    </tr>\n",
       "    <tr>\n",
       "      <th>2</th>\n",
       "      <td>3</td>\n",
       "      <td>99999999</td>\n",
       "      <td>Short Term</td>\n",
       "      <td>738.0</td>\n",
       "      <td>0 years</td>\n",
       "      <td>Rent</td>\n",
       "      <td>40480.0</td>\n",
       "      <td>Medical Bills</td>\n",
       "      <td>573.47</td>\n",
       "      <td>32.7</td>\n",
       "      <td>60.0</td>\n",
       "      <td>9</td>\n",
       "      <td>1</td>\n",
       "      <td>3963</td>\n",
       "      <td>5669</td>\n",
       "      <td>1.0</td>\n",
       "      <td>0.0</td>\n",
       "      <td>1</td>\n",
       "      <td>0</td>\n",
       "    </tr>\n",
       "    <tr>\n",
       "      <th>3</th>\n",
       "      <td>4</td>\n",
       "      <td>11200</td>\n",
       "      <td>Short Term</td>\n",
       "      <td>738.0</td>\n",
       "      <td>4 years</td>\n",
       "      <td>Rent</td>\n",
       "      <td>53965.0</td>\n",
       "      <td>Debt Consolidation</td>\n",
       "      <td>1358.11</td>\n",
       "      <td>15.8</td>\n",
       "      <td>NaN</td>\n",
       "      <td>8</td>\n",
       "      <td>1</td>\n",
       "      <td>11782</td>\n",
       "      <td>25951</td>\n",
       "      <td>1.0</td>\n",
       "      <td>0.0</td>\n",
       "      <td>1</td>\n",
       "      <td>4</td>\n",
       "    </tr>\n",
       "    <tr>\n",
       "      <th>4</th>\n",
       "      <td>5</td>\n",
       "      <td>3608</td>\n",
       "      <td>Short Term</td>\n",
       "      <td>731.0</td>\n",
       "      <td>10+ years</td>\n",
       "      <td>Home Mortgage</td>\n",
       "      <td>47709.0</td>\n",
       "      <td>Home Improvements</td>\n",
       "      <td>339.93</td>\n",
       "      <td>16.1</td>\n",
       "      <td>47.0</td>\n",
       "      <td>6</td>\n",
       "      <td>0</td>\n",
       "      <td>22909</td>\n",
       "      <td>25568</td>\n",
       "      <td>0.0</td>\n",
       "      <td>0.0</td>\n",
       "      <td>1</td>\n",
       "      <td>10</td>\n",
       "    </tr>\n",
       "  </tbody>\n",
       "</table>\n",
       "</div>"
      ],
      "text/plain": [
       "   Loan.ID  Current.Loan.Amount        Term  Credit.Score  \\\n",
       "0        0                17879  Short Term         739.0   \n",
       "1        1             99999999   Long Term         619.0   \n",
       "2        3             99999999  Short Term         738.0   \n",
       "3        4                11200  Short Term         738.0   \n",
       "4        5                 3608  Short Term         731.0   \n",
       "\n",
       "  Years.in.current.job Home.Ownership  Annual.Income             Purpose  \\\n",
       "0              6 years  Home Mortgage        95357.0  Debt Consolidation   \n",
       "1              6 years           Rent        54406.0  Debt Consolidation   \n",
       "2              0 years           Rent        40480.0       Medical Bills   \n",
       "3              4 years           Rent        53965.0  Debt Consolidation   \n",
       "4            10+ years  Home Mortgage        47709.0   Home Improvements   \n",
       "\n",
       "   Monthly.Debt  Years.of.Credit.History  Months.since.last.delinquent  \\\n",
       "0       1509.82                     34.4                           5.0   \n",
       "1       1065.45                     12.7                           NaN   \n",
       "2        573.47                     32.7                          60.0   \n",
       "3       1358.11                     15.8                           NaN   \n",
       "4        339.93                     16.1                          47.0   \n",
       "\n",
       "   Number.of.Open.Accounts  Number.of.Credit.Problems  Current.Credit.Balance  \\\n",
       "0                       26                          0                   23986   \n",
       "1                        8                          0                   22938   \n",
       "2                        9                          1                    3963   \n",
       "3                        8                          1                   11782   \n",
       "4                        6                          0                   22909   \n",
       "\n",
       "   Maximum.Open.Credit  Bankruptcies  Tax.Liens  Loan.Status Years_in_job  \n",
       "0                40313           0.0        0.0            1            6  \n",
       "1                31250           0.0        0.0            1            6  \n",
       "2                 5669           1.0        0.0            1            0  \n",
       "3                25951           1.0        0.0            1            4  \n",
       "4                25568           0.0        0.0            1           10  "
      ]
     },
     "execution_count": 15,
     "metadata": {},
     "output_type": "execute_result"
    }
   ],
   "source": [
    "df.head()"
   ]
  },
  {
   "cell_type": "code",
   "execution_count": 16,
   "metadata": {},
   "outputs": [
    {
     "data": {
      "text/plain": [
       "10    18810\n",
       "2      5539\n",
       "3      5048\n",
       "0      4996\n",
       "5      4150\n",
       "1      3901\n",
       "4      3754\n",
       "6      3532\n",
       "7      3313\n",
       "8      2831\n",
       "9      2401\n",
       "Name: Years_in_job, dtype: int64"
      ]
     },
     "execution_count": 16,
     "metadata": {},
     "output_type": "execute_result"
    }
   ],
   "source": [
    "df['Years_in_job'].value_counts()"
   ]
  },
  {
   "cell_type": "code",
   "execution_count": 17,
   "metadata": {},
   "outputs": [],
   "source": [
    "#Dummy Variable"
   ]
  },
  {
   "cell_type": "code",
   "execution_count": 18,
   "metadata": {},
   "outputs": [
    {
     "data": {
      "text/plain": [
       "Short Term    44184\n",
       "Long Term     16620\n",
       "Name: Term, dtype: int64"
      ]
     },
     "execution_count": 18,
     "metadata": {},
     "output_type": "execute_result"
    }
   ],
   "source": [
    "df['Term'].value_counts()"
   ]
  },
  {
   "cell_type": "code",
   "execution_count": 19,
   "metadata": {},
   "outputs": [
    {
     "data": {
      "text/plain": [
       "Home Mortgage    29447\n",
       "Rent             25737\n",
       "Own Home          5516\n",
       "HaveMortgage       104\n",
       "Name: Home.Ownership, dtype: int64"
      ]
     },
     "execution_count": 19,
     "metadata": {},
     "output_type": "execute_result"
    }
   ],
   "source": [
    "df['Home.Ownership'].value_counts()"
   ]
  },
  {
   "cell_type": "code",
   "execution_count": 20,
   "metadata": {},
   "outputs": [],
   "source": [
    "df['Purpose'] = df['Purpose'].replace('other', 'Other')"
   ]
  },
  {
   "cell_type": "code",
   "execution_count": 21,
   "metadata": {},
   "outputs": [
    {
     "data": {
      "text/plain": [
       "Debt Consolidation      47888\n",
       "Other                    5628\n",
       "Home Improvements        3535\n",
       "Business Loan             910\n",
       "Buy a Car                 765\n",
       "Medical Bills             695\n",
       "Buy House                 420\n",
       "Take a Trip               296\n",
       "major_purchase            213\n",
       "small_business            170\n",
       "moving                     83\n",
       "Educational Expenses       70\n",
       "vacation                   65\n",
       "wedding                    64\n",
       "renewable_energy            2\n",
       "Name: Purpose, dtype: int64"
      ]
     },
     "execution_count": 21,
     "metadata": {},
     "output_type": "execute_result"
    }
   ],
   "source": [
    "df['Purpose'].value_counts()"
   ]
  },
  {
   "cell_type": "code",
   "execution_count": 22,
   "metadata": {},
   "outputs": [],
   "source": [
    "df['Purpose'] = df['Purpose'].replace('Business Loan', 'Misc')\n",
    "df['Purpose'] = df['Purpose'].replace('Buy a Car', 'Misc')\n",
    "df['Purpose'] = df['Purpose'].replace('Medical Bills', 'Misc')\n",
    "df['Purpose'] = df['Purpose'].replace('Buy House', 'Misc')\n",
    "df['Purpose'] = df['Purpose'].replace('Take a Trip', 'Misc')\n",
    "df['Purpose'] = df['Purpose'].replace('major_purchase', 'Misc')\n",
    "df['Purpose'] = df['Purpose'].replace('small_business', 'Misc')\n",
    "df['Purpose'] = df['Purpose'].replace('moving', 'Misc')\n",
    "df['Purpose'] = df['Purpose'].replace('Educational Expenses', 'Misc')\n",
    "df['Purpose'] = df['Purpose'].replace('vacation', 'Misc')\n",
    "df['Purpose'] = df['Purpose'].replace('renewable_energy', 'Misc')\n",
    "df['Purpose'] = df['Purpose'].replace('wedding', 'Misc')"
   ]
  },
  {
   "cell_type": "code",
   "execution_count": 23,
   "metadata": {},
   "outputs": [],
   "source": [
    "'''#One Hot Encoding\n",
    "df = pd.get_dummies(df, columns=['Term'], prefix = ['Term'])\n",
    "df = pd.get_dummies(df, columns=['Home.Ownership'], prefix = ['Home.Ownership'])\n",
    "df = pd.get_dummies(df, columns=['Purpose'], prefix = ['Purpose'])'''\n",
    "\n",
    "#label Encoding\n",
    "from sklearn import preprocessing\n",
    "label_encoder_term = preprocessing.LabelEncoder() \n",
    "label_encoder_Purpose = preprocessing.LabelEncoder() \n",
    "label_encoder_HO = preprocessing.LabelEncoder() \n",
    "\n",
    "df['Term']= label_encoder_term.fit_transform(df['Term']) \n",
    "df['Purpose']= label_encoder_Purpose.fit_transform(df['Purpose']) \n",
    "df['Home.Ownership']= label_encoder_HO.fit_transform(df['Home.Ownership']) "
   ]
  },
  {
   "cell_type": "code",
   "execution_count": 24,
   "metadata": {},
   "outputs": [
    {
     "data": {
      "text/html": [
       "<div>\n",
       "<style scoped>\n",
       "    .dataframe tbody tr th:only-of-type {\n",
       "        vertical-align: middle;\n",
       "    }\n",
       "\n",
       "    .dataframe tbody tr th {\n",
       "        vertical-align: top;\n",
       "    }\n",
       "\n",
       "    .dataframe thead th {\n",
       "        text-align: right;\n",
       "    }\n",
       "</style>\n",
       "<table border=\"1\" class=\"dataframe\">\n",
       "  <thead>\n",
       "    <tr style=\"text-align: right;\">\n",
       "      <th></th>\n",
       "      <th>Loan.ID</th>\n",
       "      <th>Current.Loan.Amount</th>\n",
       "      <th>Term</th>\n",
       "      <th>Credit.Score</th>\n",
       "      <th>Years.in.current.job</th>\n",
       "      <th>Home.Ownership</th>\n",
       "      <th>Annual.Income</th>\n",
       "      <th>Purpose</th>\n",
       "      <th>Monthly.Debt</th>\n",
       "      <th>Years.of.Credit.History</th>\n",
       "      <th>Months.since.last.delinquent</th>\n",
       "      <th>Number.of.Open.Accounts</th>\n",
       "      <th>Number.of.Credit.Problems</th>\n",
       "      <th>Current.Credit.Balance</th>\n",
       "      <th>Maximum.Open.Credit</th>\n",
       "      <th>Bankruptcies</th>\n",
       "      <th>Tax.Liens</th>\n",
       "      <th>Loan.Status</th>\n",
       "      <th>Years_in_job</th>\n",
       "    </tr>\n",
       "  </thead>\n",
       "  <tbody>\n",
       "    <tr>\n",
       "      <th>0</th>\n",
       "      <td>0</td>\n",
       "      <td>17879</td>\n",
       "      <td>1</td>\n",
       "      <td>739.0</td>\n",
       "      <td>6 years</td>\n",
       "      <td>1</td>\n",
       "      <td>95357.0</td>\n",
       "      <td>0</td>\n",
       "      <td>1509.82</td>\n",
       "      <td>34.4</td>\n",
       "      <td>5.0</td>\n",
       "      <td>26</td>\n",
       "      <td>0</td>\n",
       "      <td>23986</td>\n",
       "      <td>40313</td>\n",
       "      <td>0.0</td>\n",
       "      <td>0.0</td>\n",
       "      <td>1</td>\n",
       "      <td>6</td>\n",
       "    </tr>\n",
       "    <tr>\n",
       "      <th>1</th>\n",
       "      <td>1</td>\n",
       "      <td>99999999</td>\n",
       "      <td>0</td>\n",
       "      <td>619.0</td>\n",
       "      <td>6 years</td>\n",
       "      <td>3</td>\n",
       "      <td>54406.0</td>\n",
       "      <td>0</td>\n",
       "      <td>1065.45</td>\n",
       "      <td>12.7</td>\n",
       "      <td>NaN</td>\n",
       "      <td>8</td>\n",
       "      <td>0</td>\n",
       "      <td>22938</td>\n",
       "      <td>31250</td>\n",
       "      <td>0.0</td>\n",
       "      <td>0.0</td>\n",
       "      <td>1</td>\n",
       "      <td>6</td>\n",
       "    </tr>\n",
       "    <tr>\n",
       "      <th>2</th>\n",
       "      <td>3</td>\n",
       "      <td>99999999</td>\n",
       "      <td>1</td>\n",
       "      <td>738.0</td>\n",
       "      <td>0 years</td>\n",
       "      <td>3</td>\n",
       "      <td>40480.0</td>\n",
       "      <td>2</td>\n",
       "      <td>573.47</td>\n",
       "      <td>32.7</td>\n",
       "      <td>60.0</td>\n",
       "      <td>9</td>\n",
       "      <td>1</td>\n",
       "      <td>3963</td>\n",
       "      <td>5669</td>\n",
       "      <td>1.0</td>\n",
       "      <td>0.0</td>\n",
       "      <td>1</td>\n",
       "      <td>0</td>\n",
       "    </tr>\n",
       "    <tr>\n",
       "      <th>3</th>\n",
       "      <td>4</td>\n",
       "      <td>11200</td>\n",
       "      <td>1</td>\n",
       "      <td>738.0</td>\n",
       "      <td>4 years</td>\n",
       "      <td>3</td>\n",
       "      <td>53965.0</td>\n",
       "      <td>0</td>\n",
       "      <td>1358.11</td>\n",
       "      <td>15.8</td>\n",
       "      <td>NaN</td>\n",
       "      <td>8</td>\n",
       "      <td>1</td>\n",
       "      <td>11782</td>\n",
       "      <td>25951</td>\n",
       "      <td>1.0</td>\n",
       "      <td>0.0</td>\n",
       "      <td>1</td>\n",
       "      <td>4</td>\n",
       "    </tr>\n",
       "    <tr>\n",
       "      <th>4</th>\n",
       "      <td>5</td>\n",
       "      <td>3608</td>\n",
       "      <td>1</td>\n",
       "      <td>731.0</td>\n",
       "      <td>10+ years</td>\n",
       "      <td>1</td>\n",
       "      <td>47709.0</td>\n",
       "      <td>1</td>\n",
       "      <td>339.93</td>\n",
       "      <td>16.1</td>\n",
       "      <td>47.0</td>\n",
       "      <td>6</td>\n",
       "      <td>0</td>\n",
       "      <td>22909</td>\n",
       "      <td>25568</td>\n",
       "      <td>0.0</td>\n",
       "      <td>0.0</td>\n",
       "      <td>1</td>\n",
       "      <td>10</td>\n",
       "    </tr>\n",
       "  </tbody>\n",
       "</table>\n",
       "</div>"
      ],
      "text/plain": [
       "   Loan.ID  Current.Loan.Amount  Term  Credit.Score Years.in.current.job  \\\n",
       "0        0                17879     1         739.0              6 years   \n",
       "1        1             99999999     0         619.0              6 years   \n",
       "2        3             99999999     1         738.0              0 years   \n",
       "3        4                11200     1         738.0              4 years   \n",
       "4        5                 3608     1         731.0            10+ years   \n",
       "\n",
       "   Home.Ownership  Annual.Income  Purpose  Monthly.Debt  \\\n",
       "0               1        95357.0        0       1509.82   \n",
       "1               3        54406.0        0       1065.45   \n",
       "2               3        40480.0        2        573.47   \n",
       "3               3        53965.0        0       1358.11   \n",
       "4               1        47709.0        1        339.93   \n",
       "\n",
       "   Years.of.Credit.History  Months.since.last.delinquent  \\\n",
       "0                     34.4                           5.0   \n",
       "1                     12.7                           NaN   \n",
       "2                     32.7                          60.0   \n",
       "3                     15.8                           NaN   \n",
       "4                     16.1                          47.0   \n",
       "\n",
       "   Number.of.Open.Accounts  Number.of.Credit.Problems  Current.Credit.Balance  \\\n",
       "0                       26                          0                   23986   \n",
       "1                        8                          0                   22938   \n",
       "2                        9                          1                    3963   \n",
       "3                        8                          1                   11782   \n",
       "4                        6                          0                   22909   \n",
       "\n",
       "   Maximum.Open.Credit  Bankruptcies  Tax.Liens  Loan.Status Years_in_job  \n",
       "0                40313           0.0        0.0            1            6  \n",
       "1                31250           0.0        0.0            1            6  \n",
       "2                 5669           1.0        0.0            1            0  \n",
       "3                25951           1.0        0.0            1            4  \n",
       "4                25568           0.0        0.0            1           10  "
      ]
     },
     "execution_count": 24,
     "metadata": {},
     "output_type": "execute_result"
    }
   ],
   "source": [
    "#Viewing Dataframe\n",
    "df.head()"
   ]
  },
  {
   "cell_type": "code",
   "execution_count": 25,
   "metadata": {},
   "outputs": [],
   "source": [
    "#Replacing nan in Years in Bankruptcies\n",
    "df['Bankruptcies'].fillna(float(0.0), inplace = True)"
   ]
  },
  {
   "cell_type": "code",
   "execution_count": 26,
   "metadata": {},
   "outputs": [],
   "source": [
    "df['Tax.Liens'].fillna(0, inplace = True)"
   ]
  },
  {
   "cell_type": "code",
   "execution_count": 27,
   "metadata": {},
   "outputs": [],
   "source": [
    "#Logic is If annual income is missing then probably out of job\n",
    "df.loc[ (pd.isnull(df['Years_in_job'])) & (pd.isnull(df['Annual.Income'])), 'Years_in_job'] = 0"
   ]
  },
  {
   "cell_type": "code",
   "execution_count": 28,
   "metadata": {},
   "outputs": [],
   "source": [
    "#Replacing string 0 to int 0\n",
    "df['Years_in_job'] = df['Years_in_job'].replace('0', 0)"
   ]
  },
  {
   "cell_type": "code",
   "execution_count": 29,
   "metadata": {},
   "outputs": [
    {
     "data": {
      "text/plain": [
       "Loan.ID                             0\n",
       "Current.Loan.Amount                 0\n",
       "Term                                0\n",
       "Credit.Score                    12229\n",
       "Years.in.current.job                0\n",
       "Home.Ownership                      0\n",
       "Annual.Income                   12229\n",
       "Purpose                             0\n",
       "Monthly.Debt                        0\n",
       "Years.of.Credit.History             0\n",
       "Months.since.last.delinquent    32475\n",
       "Number.of.Open.Accounts             0\n",
       "Number.of.Credit.Problems           0\n",
       "Current.Credit.Balance              0\n",
       "Maximum.Open.Credit                 0\n",
       "Bankruptcies                        0\n",
       "Tax.Liens                           0\n",
       "Loan.Status                         0\n",
       "Years_in_job                     2010\n",
       "dtype: int64"
      ]
     },
     "execution_count": 29,
     "metadata": {},
     "output_type": "execute_result"
    }
   ],
   "source": [
    "df.isnull().sum()"
   ]
  },
  {
   "cell_type": "code",
   "execution_count": 30,
   "metadata": {},
   "outputs": [],
   "source": [
    "cut_labels_5 = ['Fair', 'Good', 'Very Good', 'Poor']\n",
    "cut_bins = [579, 669, 739, 799, 8000]\n",
    "df['Credit_Score_Cat'] = pd.cut(df['Credit.Score'], bins=cut_bins, labels=cut_labels_5)"
   ]
  },
  {
   "cell_type": "code",
   "execution_count": 31,
   "metadata": {},
   "outputs": [],
   "source": [
    "#Filling missing values\n",
    "df['Credit_Score_Cat'].fillna('Fair', inplace = True)"
   ]
  },
  {
   "cell_type": "code",
   "execution_count": 32,
   "metadata": {},
   "outputs": [],
   "source": [
    "df = pd.get_dummies(df, columns=['Credit_Score_Cat'], prefix = ['Credit_Score'])"
   ]
  },
  {
   "cell_type": "code",
   "execution_count": 33,
   "metadata": {},
   "outputs": [],
   "source": [
    "df['Annual.Income'].fillna(df['Annual.Income'].mean(), inplace = True)"
   ]
  },
  {
   "cell_type": "code",
   "execution_count": 34,
   "metadata": {},
   "outputs": [],
   "source": [
    "#Dropping empty years in job this time\n",
    "df['Years_in_job'].fillna(5, inplace = True)"
   ]
  },
  {
   "cell_type": "code",
   "execution_count": 35,
   "metadata": {},
   "outputs": [
    {
     "data": {
      "text/plain": [
       "0         6\n",
       "1         6\n",
       "2         0\n",
       "3         4\n",
       "4        10\n",
       "         ..\n",
       "60799     3\n",
       "60800     3\n",
       "60801     5\n",
       "60802     9\n",
       "60803     8\n",
       "Name: Years_in_job, Length: 60804, dtype: int32"
      ]
     },
     "execution_count": 35,
     "metadata": {},
     "output_type": "execute_result"
    }
   ],
   "source": [
    "df['Years_in_job'].astype(str).astype(int)"
   ]
  },
  {
   "cell_type": "code",
   "execution_count": 36,
   "metadata": {},
   "outputs": [
    {
     "data": {
      "text/html": [
       "<div>\n",
       "<style scoped>\n",
       "    .dataframe tbody tr th:only-of-type {\n",
       "        vertical-align: middle;\n",
       "    }\n",
       "\n",
       "    .dataframe tbody tr th {\n",
       "        vertical-align: top;\n",
       "    }\n",
       "\n",
       "    .dataframe thead th {\n",
       "        text-align: right;\n",
       "    }\n",
       "</style>\n",
       "<table border=\"1\" class=\"dataframe\">\n",
       "  <thead>\n",
       "    <tr style=\"text-align: right;\">\n",
       "      <th></th>\n",
       "      <th>Loan.ID</th>\n",
       "      <th>Current.Loan.Amount</th>\n",
       "      <th>Term</th>\n",
       "      <th>Credit.Score</th>\n",
       "      <th>Years.in.current.job</th>\n",
       "      <th>Home.Ownership</th>\n",
       "      <th>Annual.Income</th>\n",
       "      <th>Purpose</th>\n",
       "      <th>Monthly.Debt</th>\n",
       "      <th>Years.of.Credit.History</th>\n",
       "      <th>...</th>\n",
       "      <th>Current.Credit.Balance</th>\n",
       "      <th>Maximum.Open.Credit</th>\n",
       "      <th>Bankruptcies</th>\n",
       "      <th>Tax.Liens</th>\n",
       "      <th>Loan.Status</th>\n",
       "      <th>Years_in_job</th>\n",
       "      <th>Credit_Score_Fair</th>\n",
       "      <th>Credit_Score_Good</th>\n",
       "      <th>Credit_Score_Very Good</th>\n",
       "      <th>Credit_Score_Poor</th>\n",
       "    </tr>\n",
       "  </thead>\n",
       "  <tbody>\n",
       "    <tr>\n",
       "      <th>0</th>\n",
       "      <td>0</td>\n",
       "      <td>17879</td>\n",
       "      <td>1</td>\n",
       "      <td>739.0</td>\n",
       "      <td>6 years</td>\n",
       "      <td>1</td>\n",
       "      <td>95357.0</td>\n",
       "      <td>0</td>\n",
       "      <td>1509.82</td>\n",
       "      <td>34.4</td>\n",
       "      <td>...</td>\n",
       "      <td>23986</td>\n",
       "      <td>40313</td>\n",
       "      <td>0.0</td>\n",
       "      <td>0.0</td>\n",
       "      <td>1</td>\n",
       "      <td>6</td>\n",
       "      <td>0</td>\n",
       "      <td>1</td>\n",
       "      <td>0</td>\n",
       "      <td>0</td>\n",
       "    </tr>\n",
       "    <tr>\n",
       "      <th>1</th>\n",
       "      <td>1</td>\n",
       "      <td>99999999</td>\n",
       "      <td>0</td>\n",
       "      <td>619.0</td>\n",
       "      <td>6 years</td>\n",
       "      <td>3</td>\n",
       "      <td>54406.0</td>\n",
       "      <td>0</td>\n",
       "      <td>1065.45</td>\n",
       "      <td>12.7</td>\n",
       "      <td>...</td>\n",
       "      <td>22938</td>\n",
       "      <td>31250</td>\n",
       "      <td>0.0</td>\n",
       "      <td>0.0</td>\n",
       "      <td>1</td>\n",
       "      <td>6</td>\n",
       "      <td>1</td>\n",
       "      <td>0</td>\n",
       "      <td>0</td>\n",
       "      <td>0</td>\n",
       "    </tr>\n",
       "    <tr>\n",
       "      <th>2</th>\n",
       "      <td>3</td>\n",
       "      <td>99999999</td>\n",
       "      <td>1</td>\n",
       "      <td>738.0</td>\n",
       "      <td>0 years</td>\n",
       "      <td>3</td>\n",
       "      <td>40480.0</td>\n",
       "      <td>2</td>\n",
       "      <td>573.47</td>\n",
       "      <td>32.7</td>\n",
       "      <td>...</td>\n",
       "      <td>3963</td>\n",
       "      <td>5669</td>\n",
       "      <td>1.0</td>\n",
       "      <td>0.0</td>\n",
       "      <td>1</td>\n",
       "      <td>0</td>\n",
       "      <td>0</td>\n",
       "      <td>1</td>\n",
       "      <td>0</td>\n",
       "      <td>0</td>\n",
       "    </tr>\n",
       "    <tr>\n",
       "      <th>3</th>\n",
       "      <td>4</td>\n",
       "      <td>11200</td>\n",
       "      <td>1</td>\n",
       "      <td>738.0</td>\n",
       "      <td>4 years</td>\n",
       "      <td>3</td>\n",
       "      <td>53965.0</td>\n",
       "      <td>0</td>\n",
       "      <td>1358.11</td>\n",
       "      <td>15.8</td>\n",
       "      <td>...</td>\n",
       "      <td>11782</td>\n",
       "      <td>25951</td>\n",
       "      <td>1.0</td>\n",
       "      <td>0.0</td>\n",
       "      <td>1</td>\n",
       "      <td>4</td>\n",
       "      <td>0</td>\n",
       "      <td>1</td>\n",
       "      <td>0</td>\n",
       "      <td>0</td>\n",
       "    </tr>\n",
       "    <tr>\n",
       "      <th>4</th>\n",
       "      <td>5</td>\n",
       "      <td>3608</td>\n",
       "      <td>1</td>\n",
       "      <td>731.0</td>\n",
       "      <td>10+ years</td>\n",
       "      <td>1</td>\n",
       "      <td>47709.0</td>\n",
       "      <td>1</td>\n",
       "      <td>339.93</td>\n",
       "      <td>16.1</td>\n",
       "      <td>...</td>\n",
       "      <td>22909</td>\n",
       "      <td>25568</td>\n",
       "      <td>0.0</td>\n",
       "      <td>0.0</td>\n",
       "      <td>1</td>\n",
       "      <td>10</td>\n",
       "      <td>0</td>\n",
       "      <td>1</td>\n",
       "      <td>0</td>\n",
       "      <td>0</td>\n",
       "    </tr>\n",
       "  </tbody>\n",
       "</table>\n",
       "<p>5 rows × 23 columns</p>\n",
       "</div>"
      ],
      "text/plain": [
       "   Loan.ID  Current.Loan.Amount  Term  Credit.Score Years.in.current.job  \\\n",
       "0        0                17879     1         739.0              6 years   \n",
       "1        1             99999999     0         619.0              6 years   \n",
       "2        3             99999999     1         738.0              0 years   \n",
       "3        4                11200     1         738.0              4 years   \n",
       "4        5                 3608     1         731.0            10+ years   \n",
       "\n",
       "   Home.Ownership  Annual.Income  Purpose  Monthly.Debt  \\\n",
       "0               1        95357.0        0       1509.82   \n",
       "1               3        54406.0        0       1065.45   \n",
       "2               3        40480.0        2        573.47   \n",
       "3               3        53965.0        0       1358.11   \n",
       "4               1        47709.0        1        339.93   \n",
       "\n",
       "   Years.of.Credit.History  ...  Current.Credit.Balance  Maximum.Open.Credit  \\\n",
       "0                     34.4  ...                   23986                40313   \n",
       "1                     12.7  ...                   22938                31250   \n",
       "2                     32.7  ...                    3963                 5669   \n",
       "3                     15.8  ...                   11782                25951   \n",
       "4                     16.1  ...                   22909                25568   \n",
       "\n",
       "   Bankruptcies  Tax.Liens  Loan.Status  Years_in_job  Credit_Score_Fair  \\\n",
       "0           0.0        0.0            1             6                  0   \n",
       "1           0.0        0.0            1             6                  1   \n",
       "2           1.0        0.0            1             0                  0   \n",
       "3           1.0        0.0            1             4                  0   \n",
       "4           0.0        0.0            1            10                  0   \n",
       "\n",
       "   Credit_Score_Good Credit_Score_Very Good  Credit_Score_Poor  \n",
       "0                  1                      0                  0  \n",
       "1                  0                      0                  0  \n",
       "2                  1                      0                  0  \n",
       "3                  1                      0                  0  \n",
       "4                  1                      0                  0  \n",
       "\n",
       "[5 rows x 23 columns]"
      ]
     },
     "execution_count": 36,
     "metadata": {},
     "output_type": "execute_result"
    }
   ],
   "source": [
    "df.head()"
   ]
  },
  {
   "cell_type": "code",
   "execution_count": 37,
   "metadata": {},
   "outputs": [],
   "source": [
    "#Dropping columns\n",
    "df.drop([ 'Months.since.last.delinquent', 'Years.in.current.job', 'Loan.ID', 'Credit.Score','Credit_Score_Poor' ], axis = 1, inplace = True) "
   ]
  },
  {
   "cell_type": "code",
   "execution_count": 97,
   "metadata": {},
   "outputs": [],
   "source": [
    "df.loc[ (df['Number.of.Credit.Problems'] != 0), 'Number.of.Credit.Problems'] = 1\n",
    "df.loc[ (df['Number.of.Credit.Problems'] == 0), 'Number.of.Credit.Problems'] = 0"
   ]
  },
  {
   "cell_type": "code",
   "execution_count": 98,
   "metadata": {},
   "outputs": [],
   "source": [
    "from sklearn.model_selection import train_test_split"
   ]
  },
  {
   "cell_type": "code",
   "execution_count": 99,
   "metadata": {},
   "outputs": [
    {
     "data": {
      "text/plain": [
       "Index(['Current.Loan.Amount', 'Term', 'Home.Ownership', 'Annual.Income',\n",
       "       'Purpose', 'Monthly.Debt', 'Years.of.Credit.History',\n",
       "       'Number.of.Open.Accounts', 'Number.of.Credit.Problems',\n",
       "       'Current.Credit.Balance', 'Maximum.Open.Credit', 'Bankruptcies',\n",
       "       'Tax.Liens', 'Loan.Status', 'Years_in_job', 'Credit_Score_Fair',\n",
       "       'Credit_Score_Good', 'Credit_Score_Very Good'],\n",
       "      dtype='object')"
      ]
     },
     "execution_count": 99,
     "metadata": {},
     "output_type": "execute_result"
    }
   ],
   "source": [
    "df.columns"
   ]
  },
  {
   "cell_type": "code",
   "execution_count": 100,
   "metadata": {},
   "outputs": [],
   "source": [
    "X_label = ['Current.Loan.Amount', 'Term', 'Home.Ownership', 'Annual.Income',\n",
    "       'Purpose', 'Monthly.Debt', 'Years.of.Credit.History',\n",
    "       'Number.of.Open.Accounts', 'Number.of.Credit.Problems',\n",
    "       'Current.Credit.Balance', 'Maximum.Open.Credit', 'Bankruptcies',\n",
    "       'Tax.Liens', 'Years_in_job', 'Credit_Score_Fair',\n",
    "       'Credit_Score_Good', 'Credit_Score_Very Good']"
   ]
  },
  {
   "cell_type": "code",
   "execution_count": 101,
   "metadata": {},
   "outputs": [],
   "source": [
    "y_label = ['Loan.Status']"
   ]
  },
  {
   "cell_type": "code",
   "execution_count": 102,
   "metadata": {},
   "outputs": [],
   "source": [
    "X = df[X_label]"
   ]
  },
  {
   "cell_type": "code",
   "execution_count": 103,
   "metadata": {},
   "outputs": [],
   "source": [
    "y = df[y_label]"
   ]
  },
  {
   "cell_type": "code",
   "execution_count": 104,
   "metadata": {},
   "outputs": [],
   "source": [
    "X_train, X_test, y_train, y_test = train_test_split(X, y, test_size=0.2, random_state=42)"
   ]
  },
  {
   "cell_type": "code",
   "execution_count": 105,
   "metadata": {},
   "outputs": [],
   "source": [
    "from sklearn.ensemble import RandomForestClassifier\n",
    "\n",
    "clf=RandomForestClassifier(random_state = 1111)\n"
   ]
  },
  {
   "cell_type": "code",
   "execution_count": 106,
   "metadata": {},
   "outputs": [
    {
     "name": "stderr",
     "output_type": "stream",
     "text": [
      "C:\\Users\\LENOVO\\anaconda3\\lib\\site-packages\\ipykernel_launcher.py:1: DataConversionWarning: A column-vector y was passed when a 1d array was expected. Please change the shape of y to (n_samples,), for example using ravel().\n",
      "  \"\"\"Entry point for launching an IPython kernel.\n"
     ]
    },
    {
     "data": {
      "text/plain": [
       "RandomForestClassifier(bootstrap=True, ccp_alpha=0.0, class_weight=None,\n",
       "                       criterion='gini', max_depth=None, max_features='auto',\n",
       "                       max_leaf_nodes=None, max_samples=None,\n",
       "                       min_impurity_decrease=0.0, min_impurity_split=None,\n",
       "                       min_samples_leaf=1, min_samples_split=2,\n",
       "                       min_weight_fraction_leaf=0.0, n_estimators=100,\n",
       "                       n_jobs=None, oob_score=False, random_state=1111,\n",
       "                       verbose=0, warm_start=False)"
      ]
     },
     "execution_count": 106,
     "metadata": {},
     "output_type": "execute_result"
    }
   ],
   "source": [
    "clf.fit(X_train,y_train)"
   ]
  },
  {
   "cell_type": "code",
   "execution_count": 107,
   "metadata": {},
   "outputs": [],
   "source": [
    "y_pred = clf.predict(X_test)"
   ]
  },
  {
   "cell_type": "code",
   "execution_count": 108,
   "metadata": {},
   "outputs": [
    {
     "name": "stdout",
     "output_type": "stream",
     "text": [
      "Accuracy: 0.8098018255077707\n"
     ]
    }
   ],
   "source": [
    "from sklearn import metrics\n",
    "# Model Accuracy, how often is the classifier correct?\n",
    "print(\"Accuracy:\",metrics.accuracy_score(y_test, y_pred))"
   ]
  },
  {
   "cell_type": "code",
   "execution_count": 109,
   "metadata": {},
   "outputs": [],
   "source": [
    "rf_best_cv = RandomForestClassifier(n_estimators = 1400, min_samples_split = 5, min_samples_leaf = 1, max_features = 'sqrt', max_depth = 30, bootstrap = True, random_state = 1111 )"
   ]
  },
  {
   "cell_type": "code",
   "execution_count": 110,
   "metadata": {},
   "outputs": [
    {
     "name": "stderr",
     "output_type": "stream",
     "text": [
      "C:\\Users\\LENOVO\\anaconda3\\lib\\site-packages\\ipykernel_launcher.py:1: DataConversionWarning: A column-vector y was passed when a 1d array was expected. Please change the shape of y to (n_samples,), for example using ravel().\n",
      "  \"\"\"Entry point for launching an IPython kernel.\n"
     ]
    },
    {
     "data": {
      "text/plain": [
       "RandomForestClassifier(bootstrap=True, ccp_alpha=0.0, class_weight=None,\n",
       "                       criterion='gini', max_depth=30, max_features='sqrt',\n",
       "                       max_leaf_nodes=None, max_samples=None,\n",
       "                       min_impurity_decrease=0.0, min_impurity_split=None,\n",
       "                       min_samples_leaf=1, min_samples_split=5,\n",
       "                       min_weight_fraction_leaf=0.0, n_estimators=1400,\n",
       "                       n_jobs=None, oob_score=False, random_state=1111,\n",
       "                       verbose=0, warm_start=False)"
      ]
     },
     "execution_count": 110,
     "metadata": {},
     "output_type": "execute_result"
    }
   ],
   "source": [
    "rf_best_cv.fit(X_train, y_train)"
   ]
  },
  {
   "cell_type": "code",
   "execution_count": 111,
   "metadata": {},
   "outputs": [],
   "source": [
    "y_pred_rf_best_cv = rf_best_cv.predict(X_test)"
   ]
  },
  {
   "cell_type": "code",
   "execution_count": 112,
   "metadata": {},
   "outputs": [
    {
     "name": "stdout",
     "output_type": "stream",
     "text": [
      "Accuracy: 0.8121864978209029\n"
     ]
    }
   ],
   "source": [
    "from sklearn import metrics\n",
    "# Model Accuracy, how often is the classifier correct?\n",
    "print(\"Accuracy:\",metrics.accuracy_score(y_test, y_pred_rf_best_cv))"
   ]
  },
  {
   "cell_type": "code",
   "execution_count": 94,
   "metadata": {},
   "outputs": [
    {
     "data": {
      "text/plain": [
       "0     52438\n",
       "1      7224\n",
       "2       790\n",
       "3       233\n",
       "4        73\n",
       "5        23\n",
       "6        10\n",
       "8         4\n",
       "7         4\n",
       "10        2\n",
       "15        1\n",
       "11        1\n",
       "9         1\n",
       "Name: Number.of.Credit.Problems, dtype: int64"
      ]
     },
     "execution_count": 94,
     "metadata": {},
     "output_type": "execute_result"
    }
   ],
   "source": [
    "df['Number.of.Credit.Problems'].value_counts()"
   ]
  },
  {
   "cell_type": "code",
   "execution_count": 95,
   "metadata": {},
   "outputs": [
    {
     "data": {
      "text/plain": [
       "1    6372\n",
       "0    1994\n",
       "Name: Loan.Status, dtype: int64"
      ]
     },
     "execution_count": 95,
     "metadata": {},
     "output_type": "execute_result"
    }
   ],
   "source": [
    "df.loc[ (df['Number.of.Credit.Problems'] != 0), 'Loan.Status'].value_counts()"
   ]
  },
  {
   "cell_type": "code",
   "execution_count": null,
   "metadata": {},
   "outputs": [],
   "source": []
  },
  {
   "cell_type": "code",
   "execution_count": 62,
   "metadata": {},
   "outputs": [],
   "source": [
    "df_submission = pd.read_csv('test_TC.csv')"
   ]
  },
  {
   "cell_type": "code",
   "execution_count": 63,
   "metadata": {},
   "outputs": [],
   "source": [
    "df_submission['Years.in.current.job'].fillna('Not Available', inplace = True)"
   ]
  },
  {
   "cell_type": "code",
   "execution_count": 64,
   "metadata": {},
   "outputs": [],
   "source": [
    "#Replacing less than 1 year as 0\n",
    "df_submission['Years.in.current.job'] = df_submission['Years.in.current.job'].replace('less than  1 year', '0 years')"
   ]
  },
  {
   "cell_type": "code",
   "execution_count": 65,
   "metadata": {},
   "outputs": [],
   "source": [
    "df_submission['Years_in_job'] = df_submission['Years.in.current.job'].str.extract('(\\d+)')"
   ]
  },
  {
   "cell_type": "code",
   "execution_count": 66,
   "metadata": {},
   "outputs": [],
   "source": [
    "df_submission['Purpose'] = df_submission['Purpose'].replace('other', 'Other')\n"
   ]
  },
  {
   "cell_type": "code",
   "execution_count": 67,
   "metadata": {},
   "outputs": [],
   "source": [
    "df_submission['Purpose'] = df_submission['Purpose'].replace('Business Loan', 'Misc')\n",
    "df_submission['Purpose'] = df_submission['Purpose'].replace('Buy a Car', 'Misc')\n",
    "df_submission['Purpose'] = df_submission['Purpose'].replace('Medical Bills', 'Misc')\n",
    "df_submission['Purpose'] = df_submission['Purpose'].replace('Buy House', 'Misc')\n",
    "df_submission['Purpose'] = df_submission['Purpose'].replace('Take a Trip', 'Misc')\n",
    "df_submission['Purpose'] = df_submission['Purpose'].replace('major_purchase', 'Misc')\n",
    "df_submission['Purpose'] = df_submission['Purpose'].replace('small_business', 'Misc')\n",
    "df_submission['Purpose'] = df_submission['Purpose'].replace('moving', 'Misc')\n",
    "df_submission['Purpose'] = df_submission['Purpose'].replace('Educational Expenses', 'Misc')\n",
    "df_submission['Purpose'] = df_submission['Purpose'].replace('vacation', 'Misc')\n",
    "df_submission['Purpose'] = df_submission['Purpose'].replace('renewable_energy', 'Misc')\n",
    "df_submission['Purpose'] = df_submission['Purpose'].replace('wedding', 'Misc')"
   ]
  },
  {
   "cell_type": "code",
   "execution_count": 68,
   "metadata": {},
   "outputs": [],
   "source": [
    "#label Encoding\n",
    "from sklearn import preprocessing\n",
    "label_encoder_term_submission = preprocessing.LabelEncoder() \n",
    "label_encoder_Purpose_submission = preprocessing.LabelEncoder() \n",
    "label_encoder_HO_submission = preprocessing.LabelEncoder() \n",
    "\n",
    "df_submission['Term']= label_encoder_term_submission.fit_transform(df_submission['Term']) \n",
    "df_submission['Purpose']= label_encoder_Purpose_submission.fit_transform(df_submission['Purpose']) \n",
    "df_submission['Home.Ownership']= label_encoder_HO_submission.fit_transform(df_submission['Home.Ownership']) "
   ]
  },
  {
   "cell_type": "code",
   "execution_count": 69,
   "metadata": {},
   "outputs": [],
   "source": [
    "#Replacing nan in Years in Bankruptcies\n",
    "df_submission['Bankruptcies'].fillna(float(0.0), inplace = True)"
   ]
  },
  {
   "cell_type": "code",
   "execution_count": 70,
   "metadata": {},
   "outputs": [],
   "source": [
    "df_submission['Tax.Liens'].fillna(0, inplace = True)"
   ]
  },
  {
   "cell_type": "code",
   "execution_count": 71,
   "metadata": {},
   "outputs": [],
   "source": [
    "#Logic is If annual income is missing then probably out of job\n",
    "df_submission.loc[ (pd.isnull(df_submission['Years_in_job'])) & (pd.isnull(df_submission['Annual.Income'])), 'Years_in_job'] = 0"
   ]
  },
  {
   "cell_type": "code",
   "execution_count": 72,
   "metadata": {},
   "outputs": [],
   "source": [
    "#Replacing string 0 to int 0\n",
    "df_submission['Years_in_job'] = df_submission['Years_in_job'].replace('0', 0)"
   ]
  },
  {
   "cell_type": "code",
   "execution_count": 73,
   "metadata": {},
   "outputs": [],
   "source": [
    "df_submission['Credit_Score_Cat'] = pd.cut(df_submission['Credit.Score'], bins=cut_bins, labels=cut_labels_5)"
   ]
  },
  {
   "cell_type": "code",
   "execution_count": 74,
   "metadata": {},
   "outputs": [],
   "source": [
    "#Filling missing values\n",
    "df_submission['Credit_Score_Cat'].fillna('Fair', inplace = True)"
   ]
  },
  {
   "cell_type": "code",
   "execution_count": 75,
   "metadata": {},
   "outputs": [],
   "source": [
    "df_submission = pd.get_dummies(df_submission, columns=['Credit_Score_Cat'], prefix = ['Credit_Score'])"
   ]
  },
  {
   "cell_type": "code",
   "execution_count": 76,
   "metadata": {},
   "outputs": [],
   "source": [
    "df_submission['Annual.Income'].fillna(df_submission['Annual.Income'].mean(), inplace = True)"
   ]
  },
  {
   "cell_type": "code",
   "execution_count": 77,
   "metadata": {},
   "outputs": [],
   "source": [
    "#Dropping empty years in job this time\n",
    "df_submission['Years_in_job'].fillna(5, inplace = True)"
   ]
  },
  {
   "cell_type": "code",
   "execution_count": 78,
   "metadata": {},
   "outputs": [
    {
     "data": {
      "text/plain": [
       "0        1\n",
       "1        6\n",
       "2        3\n",
       "3        3\n",
       "4        0\n",
       "        ..\n",
       "23381    8\n",
       "23382    5\n",
       "23383    0\n",
       "23384    1\n",
       "23385    1\n",
       "Name: Years_in_job, Length: 23386, dtype: int32"
      ]
     },
     "execution_count": 78,
     "metadata": {},
     "output_type": "execute_result"
    }
   ],
   "source": [
    "df_submission['Years_in_job'].astype(str).astype(int)"
   ]
  },
  {
   "cell_type": "code",
   "execution_count": 79,
   "metadata": {},
   "outputs": [],
   "source": [
    "#Dropping columns\n",
    "df_submission.drop([ 'Months.since.last.delinquent', 'Years.in.current.job', 'Loan.ID', 'Credit.Score','Credit_Score_Poor' ], axis = 1, inplace = True) "
   ]
  },
  {
   "cell_type": "code",
   "execution_count": 80,
   "metadata": {},
   "outputs": [],
   "source": [
    "X_test_submission = df_submission[X_label]"
   ]
  },
  {
   "cell_type": "code",
   "execution_count": 81,
   "metadata": {},
   "outputs": [],
   "source": [
    "y_pred_submission = clf.predict(X_test_submission)"
   ]
  },
  {
   "cell_type": "code",
   "execution_count": 90,
   "metadata": {},
   "outputs": [],
   "source": [
    "y_pred_rf_best_cv = rf_best_cv.predict(X_test_submission)"
   ]
  },
  {
   "cell_type": "code",
   "execution_count": 83,
   "metadata": {},
   "outputs": [],
   "source": [
    "np.savetxt(\"Submission_4_Status.csv\", y_pred_submission, delimiter=\",\")"
   ]
  },
  {
   "cell_type": "code",
   "execution_count": 91,
   "metadata": {},
   "outputs": [],
   "source": [
    "np.savetxt(\"Submission_5_Status_GridCV.csv\", y_pred_rf_best_cv, delimiter=\",\")"
   ]
  },
  {
   "cell_type": "code",
   "execution_count": null,
   "metadata": {},
   "outputs": [],
   "source": []
  }
 ],
 "metadata": {
  "kernelspec": {
   "display_name": "Python 3",
   "language": "python",
   "name": "python3"
  },
  "language_info": {
   "codemirror_mode": {
    "name": "ipython",
    "version": 3
   },
   "file_extension": ".py",
   "mimetype": "text/x-python",
   "name": "python",
   "nbconvert_exporter": "python",
   "pygments_lexer": "ipython3",
   "version": "3.7.6"
  }
 },
 "nbformat": 4,
 "nbformat_minor": 4
}
