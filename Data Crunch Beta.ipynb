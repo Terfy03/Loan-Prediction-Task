{
 "cells": [
  {
   "cell_type": "code",
   "execution_count": 1,
   "metadata": {},
   "outputs": [],
   "source": [
    "import pandas as pd\n",
    "import numpy as np\n",
    "import matplotlib.pyplot as plt\n",
    "import seaborn as sns"
   ]
  },
  {
   "cell_type": "code",
   "execution_count": 132,
   "metadata": {},
   "outputs": [],
   "source": [
    "df = pd.read_csv('train_tc.csv')"
   ]
  },
  {
   "cell_type": "code",
   "execution_count": 133,
   "metadata": {
    "scrolled": true
   },
   "outputs": [
    {
     "data": {
      "text/html": [
       "<div>\n",
       "<style scoped>\n",
       "    .dataframe tbody tr th:only-of-type {\n",
       "        vertical-align: middle;\n",
       "    }\n",
       "\n",
       "    .dataframe tbody tr th {\n",
       "        vertical-align: top;\n",
       "    }\n",
       "\n",
       "    .dataframe thead th {\n",
       "        text-align: right;\n",
       "    }\n",
       "</style>\n",
       "<table border=\"1\" class=\"dataframe\">\n",
       "  <thead>\n",
       "    <tr style=\"text-align: right;\">\n",
       "      <th></th>\n",
       "      <th>Loan.ID</th>\n",
       "      <th>Current.Loan.Amount</th>\n",
       "      <th>Term</th>\n",
       "      <th>Credit.Score</th>\n",
       "      <th>Years.in.current.job</th>\n",
       "      <th>Home.Ownership</th>\n",
       "      <th>Annual.Income</th>\n",
       "      <th>Purpose</th>\n",
       "      <th>Monthly.Debt</th>\n",
       "      <th>Years.of.Credit.History</th>\n",
       "      <th>Months.since.last.delinquent</th>\n",
       "      <th>Number.of.Open.Accounts</th>\n",
       "      <th>Number.of.Credit.Problems</th>\n",
       "      <th>Current.Credit.Balance</th>\n",
       "      <th>Maximum.Open.Credit</th>\n",
       "      <th>Bankruptcies</th>\n",
       "      <th>Tax.Liens</th>\n",
       "      <th>Loan.Status</th>\n",
       "    </tr>\n",
       "  </thead>\n",
       "  <tbody>\n",
       "    <tr>\n",
       "      <th>0</th>\n",
       "      <td>0</td>\n",
       "      <td>17879</td>\n",
       "      <td>Short Term</td>\n",
       "      <td>739.0</td>\n",
       "      <td>6 years</td>\n",
       "      <td>Home Mortgage</td>\n",
       "      <td>95357.0</td>\n",
       "      <td>Debt Consolidation</td>\n",
       "      <td>1509.82</td>\n",
       "      <td>34.4</td>\n",
       "      <td>5.0</td>\n",
       "      <td>26</td>\n",
       "      <td>0</td>\n",
       "      <td>23986</td>\n",
       "      <td>40313</td>\n",
       "      <td>0.0</td>\n",
       "      <td>0.0</td>\n",
       "      <td>1</td>\n",
       "    </tr>\n",
       "    <tr>\n",
       "      <th>1</th>\n",
       "      <td>1</td>\n",
       "      <td>99999999</td>\n",
       "      <td>Long Term</td>\n",
       "      <td>619.0</td>\n",
       "      <td>6 years</td>\n",
       "      <td>Rent</td>\n",
       "      <td>54406.0</td>\n",
       "      <td>Debt Consolidation</td>\n",
       "      <td>1065.45</td>\n",
       "      <td>12.7</td>\n",
       "      <td>NaN</td>\n",
       "      <td>8</td>\n",
       "      <td>0</td>\n",
       "      <td>22938</td>\n",
       "      <td>31250</td>\n",
       "      <td>0.0</td>\n",
       "      <td>0.0</td>\n",
       "      <td>1</td>\n",
       "    </tr>\n",
       "    <tr>\n",
       "      <th>2</th>\n",
       "      <td>3</td>\n",
       "      <td>99999999</td>\n",
       "      <td>Short Term</td>\n",
       "      <td>738.0</td>\n",
       "      <td>less than  1 year</td>\n",
       "      <td>Rent</td>\n",
       "      <td>40480.0</td>\n",
       "      <td>Medical Bills</td>\n",
       "      <td>573.47</td>\n",
       "      <td>32.7</td>\n",
       "      <td>60.0</td>\n",
       "      <td>9</td>\n",
       "      <td>1</td>\n",
       "      <td>3963</td>\n",
       "      <td>5669</td>\n",
       "      <td>1.0</td>\n",
       "      <td>0.0</td>\n",
       "      <td>1</td>\n",
       "    </tr>\n",
       "    <tr>\n",
       "      <th>3</th>\n",
       "      <td>4</td>\n",
       "      <td>11200</td>\n",
       "      <td>Short Term</td>\n",
       "      <td>738.0</td>\n",
       "      <td>4 years</td>\n",
       "      <td>Rent</td>\n",
       "      <td>53965.0</td>\n",
       "      <td>Debt Consolidation</td>\n",
       "      <td>1358.11</td>\n",
       "      <td>15.8</td>\n",
       "      <td>NaN</td>\n",
       "      <td>8</td>\n",
       "      <td>1</td>\n",
       "      <td>11782</td>\n",
       "      <td>25951</td>\n",
       "      <td>1.0</td>\n",
       "      <td>0.0</td>\n",
       "      <td>1</td>\n",
       "    </tr>\n",
       "    <tr>\n",
       "      <th>4</th>\n",
       "      <td>5</td>\n",
       "      <td>3608</td>\n",
       "      <td>Short Term</td>\n",
       "      <td>731.0</td>\n",
       "      <td>10+ years</td>\n",
       "      <td>Home Mortgage</td>\n",
       "      <td>47709.0</td>\n",
       "      <td>Home Improvements</td>\n",
       "      <td>339.93</td>\n",
       "      <td>16.1</td>\n",
       "      <td>47.0</td>\n",
       "      <td>6</td>\n",
       "      <td>0</td>\n",
       "      <td>22909</td>\n",
       "      <td>25568</td>\n",
       "      <td>0.0</td>\n",
       "      <td>0.0</td>\n",
       "      <td>1</td>\n",
       "    </tr>\n",
       "  </tbody>\n",
       "</table>\n",
       "</div>"
      ],
      "text/plain": [
       "   Loan.ID  Current.Loan.Amount        Term  Credit.Score  \\\n",
       "0        0                17879  Short Term         739.0   \n",
       "1        1             99999999   Long Term         619.0   \n",
       "2        3             99999999  Short Term         738.0   \n",
       "3        4                11200  Short Term         738.0   \n",
       "4        5                 3608  Short Term         731.0   \n",
       "\n",
       "  Years.in.current.job Home.Ownership  Annual.Income             Purpose  \\\n",
       "0              6 years  Home Mortgage        95357.0  Debt Consolidation   \n",
       "1              6 years           Rent        54406.0  Debt Consolidation   \n",
       "2    less than  1 year           Rent        40480.0       Medical Bills   \n",
       "3              4 years           Rent        53965.0  Debt Consolidation   \n",
       "4            10+ years  Home Mortgage        47709.0   Home Improvements   \n",
       "\n",
       "   Monthly.Debt  Years.of.Credit.History  Months.since.last.delinquent  \\\n",
       "0       1509.82                     34.4                           5.0   \n",
       "1       1065.45                     12.7                           NaN   \n",
       "2        573.47                     32.7                          60.0   \n",
       "3       1358.11                     15.8                           NaN   \n",
       "4        339.93                     16.1                          47.0   \n",
       "\n",
       "   Number.of.Open.Accounts  Number.of.Credit.Problems  Current.Credit.Balance  \\\n",
       "0                       26                          0                   23986   \n",
       "1                        8                          0                   22938   \n",
       "2                        9                          1                    3963   \n",
       "3                        8                          1                   11782   \n",
       "4                        6                          0                   22909   \n",
       "\n",
       "   Maximum.Open.Credit  Bankruptcies  Tax.Liens  Loan.Status  \n",
       "0                40313           0.0        0.0            1  \n",
       "1                31250           0.0        0.0            1  \n",
       "2                 5669           1.0        0.0            1  \n",
       "3                25951           1.0        0.0            1  \n",
       "4                25568           0.0        0.0            1  "
      ]
     },
     "execution_count": 133,
     "metadata": {},
     "output_type": "execute_result"
    }
   ],
   "source": [
    "df.head()"
   ]
  },
  {
   "cell_type": "code",
   "execution_count": 134,
   "metadata": {},
   "outputs": [
    {
     "data": {
      "text/plain": [
       "Loan.ID                           int64\n",
       "Current.Loan.Amount               int64\n",
       "Term                             object\n",
       "Credit.Score                    float64\n",
       "Years.in.current.job             object\n",
       "Home.Ownership                   object\n",
       "Annual.Income                   float64\n",
       "Purpose                          object\n",
       "Monthly.Debt                    float64\n",
       "Years.of.Credit.History         float64\n",
       "Months.since.last.delinquent    float64\n",
       "Number.of.Open.Accounts           int64\n",
       "Number.of.Credit.Problems         int64\n",
       "Current.Credit.Balance            int64\n",
       "Maximum.Open.Credit               int64\n",
       "Bankruptcies                    float64\n",
       "Tax.Liens                       float64\n",
       "Loan.Status                       int64\n",
       "dtype: object"
      ]
     },
     "execution_count": 134,
     "metadata": {},
     "output_type": "execute_result"
    }
   ],
   "source": [
    "df.dtypes"
   ]
  },
  {
   "cell_type": "code",
   "execution_count": 135,
   "metadata": {},
   "outputs": [
    {
     "name": "stdout",
     "output_type": "stream",
     "text": [
      "<class 'pandas.core.frame.DataFrame'>\n",
      "RangeIndex: 60804 entries, 0 to 60803\n",
      "Data columns (total 18 columns):\n",
      " #   Column                        Non-Null Count  Dtype  \n",
      "---  ------                        --------------  -----  \n",
      " 0   Loan.ID                       60804 non-null  int64  \n",
      " 1   Current.Loan.Amount           60804 non-null  int64  \n",
      " 2   Term                          60804 non-null  object \n",
      " 3   Credit.Score                  48575 non-null  float64\n",
      " 4   Years.in.current.job          58275 non-null  object \n",
      " 5   Home.Ownership                60804 non-null  object \n",
      " 6   Annual.Income                 48575 non-null  float64\n",
      " 7   Purpose                       60804 non-null  object \n",
      " 8   Monthly.Debt                  60804 non-null  float64\n",
      " 9   Years.of.Credit.History       60804 non-null  float64\n",
      " 10  Months.since.last.delinquent  28329 non-null  float64\n",
      " 11  Number.of.Open.Accounts       60804 non-null  int64  \n",
      " 12  Number.of.Credit.Problems     60804 non-null  int64  \n",
      " 13  Current.Credit.Balance        60804 non-null  int64  \n",
      " 14  Maximum.Open.Credit           60804 non-null  int64  \n",
      " 15  Bankruptcies                  60677 non-null  float64\n",
      " 16  Tax.Liens                     60802 non-null  float64\n",
      " 17  Loan.Status                   60804 non-null  int64  \n",
      "dtypes: float64(7), int64(7), object(4)\n",
      "memory usage: 8.4+ MB\n"
     ]
    }
   ],
   "source": [
    "df.info()"
   ]
  },
  {
   "cell_type": "code",
   "execution_count": 136,
   "metadata": {},
   "outputs": [
    {
     "data": {
      "text/html": [
       "<div>\n",
       "<style scoped>\n",
       "    .dataframe tbody tr th:only-of-type {\n",
       "        vertical-align: middle;\n",
       "    }\n",
       "\n",
       "    .dataframe tbody tr th {\n",
       "        vertical-align: top;\n",
       "    }\n",
       "\n",
       "    .dataframe thead th {\n",
       "        text-align: right;\n",
       "    }\n",
       "</style>\n",
       "<table border=\"1\" class=\"dataframe\">\n",
       "  <thead>\n",
       "    <tr style=\"text-align: right;\">\n",
       "      <th></th>\n",
       "      <th>Loan.ID</th>\n",
       "      <th>Current.Loan.Amount</th>\n",
       "      <th>Credit.Score</th>\n",
       "      <th>Annual.Income</th>\n",
       "      <th>Monthly.Debt</th>\n",
       "      <th>Years.of.Credit.History</th>\n",
       "      <th>Months.since.last.delinquent</th>\n",
       "      <th>Number.of.Open.Accounts</th>\n",
       "      <th>Number.of.Credit.Problems</th>\n",
       "      <th>Current.Credit.Balance</th>\n",
       "      <th>Maximum.Open.Credit</th>\n",
       "      <th>Bankruptcies</th>\n",
       "      <th>Tax.Liens</th>\n",
       "      <th>Loan.Status</th>\n",
       "    </tr>\n",
       "  </thead>\n",
       "  <tbody>\n",
       "    <tr>\n",
       "      <th>count</th>\n",
       "      <td>60804.000000</td>\n",
       "      <td>6.080400e+04</td>\n",
       "      <td>48575.000000</td>\n",
       "      <td>4.857500e+04</td>\n",
       "      <td>60804.00000</td>\n",
       "      <td>60804.000000</td>\n",
       "      <td>28329.000000</td>\n",
       "      <td>60804.000000</td>\n",
       "      <td>60804.000000</td>\n",
       "      <td>60804.000000</td>\n",
       "      <td>6.080400e+04</td>\n",
       "      <td>60677.000000</td>\n",
       "      <td>60802.00000</td>\n",
       "      <td>60804.000000</td>\n",
       "    </tr>\n",
       "    <tr>\n",
       "      <th>mean</th>\n",
       "      <td>42094.538451</td>\n",
       "      <td>1.217772e+07</td>\n",
       "      <td>1104.772331</td>\n",
       "      <td>7.252253e+04</td>\n",
       "      <td>967.75930</td>\n",
       "      <td>18.235654</td>\n",
       "      <td>34.859402</td>\n",
       "      <td>11.113397</td>\n",
       "      <td>0.165861</td>\n",
       "      <td>15430.033863</td>\n",
       "      <td>3.316369e+04</td>\n",
       "      <td>0.115645</td>\n",
       "      <td>0.02870</td>\n",
       "      <td>0.759457</td>\n",
       "    </tr>\n",
       "    <tr>\n",
       "      <th>std</th>\n",
       "      <td>24303.803897</td>\n",
       "      <td>3.268413e+07</td>\n",
       "      <td>1526.402013</td>\n",
       "      <td>6.246093e+04</td>\n",
       "      <td>631.18808</td>\n",
       "      <td>7.030016</td>\n",
       "      <td>21.976407</td>\n",
       "      <td>4.993859</td>\n",
       "      <td>0.479679</td>\n",
       "      <td>18906.126169</td>\n",
       "      <td>2.155779e+05</td>\n",
       "      <td>0.346800</td>\n",
       "      <td>0.25697</td>\n",
       "      <td>0.427417</td>\n",
       "    </tr>\n",
       "    <tr>\n",
       "      <th>min</th>\n",
       "      <td>0.000000</td>\n",
       "      <td>4.910000e+02</td>\n",
       "      <td>585.000000</td>\n",
       "      <td>4.268000e+03</td>\n",
       "      <td>0.00000</td>\n",
       "      <td>3.600000</td>\n",
       "      <td>0.000000</td>\n",
       "      <td>0.000000</td>\n",
       "      <td>0.000000</td>\n",
       "      <td>0.000000</td>\n",
       "      <td>0.000000e+00</td>\n",
       "      <td>0.000000</td>\n",
       "      <td>0.00000</td>\n",
       "      <td>0.000000</td>\n",
       "    </tr>\n",
       "    <tr>\n",
       "      <th>25%</th>\n",
       "      <td>21046.750000</td>\n",
       "      <td>8.167750e+03</td>\n",
       "      <td>707.000000</td>\n",
       "      <td>4.470300e+04</td>\n",
       "      <td>536.78750</td>\n",
       "      <td>13.500000</td>\n",
       "      <td>16.000000</td>\n",
       "      <td>8.000000</td>\n",
       "      <td>0.000000</td>\n",
       "      <td>5907.750000</td>\n",
       "      <td>1.252175e+04</td>\n",
       "      <td>0.000000</td>\n",
       "      <td>0.00000</td>\n",
       "      <td>1.000000</td>\n",
       "    </tr>\n",
       "    <tr>\n",
       "      <th>50%</th>\n",
       "      <td>42094.500000</td>\n",
       "      <td>1.424000e+04</td>\n",
       "      <td>726.000000</td>\n",
       "      <td>6.157600e+04</td>\n",
       "      <td>851.81000</td>\n",
       "      <td>17.000000</td>\n",
       "      <td>32.000000</td>\n",
       "      <td>10.000000</td>\n",
       "      <td>0.000000</td>\n",
       "      <td>10995.000000</td>\n",
       "      <td>2.130700e+04</td>\n",
       "      <td>0.000000</td>\n",
       "      <td>0.00000</td>\n",
       "      <td>1.000000</td>\n",
       "    </tr>\n",
       "    <tr>\n",
       "      <th>75%</th>\n",
       "      <td>63142.250000</td>\n",
       "      <td>2.402325e+04</td>\n",
       "      <td>741.000000</td>\n",
       "      <td>8.681950e+04</td>\n",
       "      <td>1259.65250</td>\n",
       "      <td>21.700000</td>\n",
       "      <td>51.000000</td>\n",
       "      <td>14.000000</td>\n",
       "      <td>0.000000</td>\n",
       "      <td>19321.000000</td>\n",
       "      <td>3.574025e+04</td>\n",
       "      <td>0.000000</td>\n",
       "      <td>0.00000</td>\n",
       "      <td>1.000000</td>\n",
       "    </tr>\n",
       "    <tr>\n",
       "      <th>max</th>\n",
       "      <td>84189.000000</td>\n",
       "      <td>1.000000e+08</td>\n",
       "      <td>7510.000000</td>\n",
       "      <td>8.713547e+06</td>\n",
       "      <td>9060.85000</td>\n",
       "      <td>60.500000</td>\n",
       "      <td>176.000000</td>\n",
       "      <td>76.000000</td>\n",
       "      <td>15.000000</td>\n",
       "      <td>854602.000000</td>\n",
       "      <td>3.628434e+07</td>\n",
       "      <td>6.000000</td>\n",
       "      <td>15.00000</td>\n",
       "      <td>1.000000</td>\n",
       "    </tr>\n",
       "  </tbody>\n",
       "</table>\n",
       "</div>"
      ],
      "text/plain": [
       "            Loan.ID  Current.Loan.Amount  Credit.Score  Annual.Income  \\\n",
       "count  60804.000000         6.080400e+04  48575.000000   4.857500e+04   \n",
       "mean   42094.538451         1.217772e+07   1104.772331   7.252253e+04   \n",
       "std    24303.803897         3.268413e+07   1526.402013   6.246093e+04   \n",
       "min        0.000000         4.910000e+02    585.000000   4.268000e+03   \n",
       "25%    21046.750000         8.167750e+03    707.000000   4.470300e+04   \n",
       "50%    42094.500000         1.424000e+04    726.000000   6.157600e+04   \n",
       "75%    63142.250000         2.402325e+04    741.000000   8.681950e+04   \n",
       "max    84189.000000         1.000000e+08   7510.000000   8.713547e+06   \n",
       "\n",
       "       Monthly.Debt  Years.of.Credit.History  Months.since.last.delinquent  \\\n",
       "count   60804.00000             60804.000000                  28329.000000   \n",
       "mean      967.75930                18.235654                     34.859402   \n",
       "std       631.18808                 7.030016                     21.976407   \n",
       "min         0.00000                 3.600000                      0.000000   \n",
       "25%       536.78750                13.500000                     16.000000   \n",
       "50%       851.81000                17.000000                     32.000000   \n",
       "75%      1259.65250                21.700000                     51.000000   \n",
       "max      9060.85000                60.500000                    176.000000   \n",
       "\n",
       "       Number.of.Open.Accounts  Number.of.Credit.Problems  \\\n",
       "count             60804.000000               60804.000000   \n",
       "mean                 11.113397                   0.165861   \n",
       "std                   4.993859                   0.479679   \n",
       "min                   0.000000                   0.000000   \n",
       "25%                   8.000000                   0.000000   \n",
       "50%                  10.000000                   0.000000   \n",
       "75%                  14.000000                   0.000000   \n",
       "max                  76.000000                  15.000000   \n",
       "\n",
       "       Current.Credit.Balance  Maximum.Open.Credit  Bankruptcies    Tax.Liens  \\\n",
       "count            60804.000000         6.080400e+04  60677.000000  60802.00000   \n",
       "mean             15430.033863         3.316369e+04      0.115645      0.02870   \n",
       "std              18906.126169         2.155779e+05      0.346800      0.25697   \n",
       "min                  0.000000         0.000000e+00      0.000000      0.00000   \n",
       "25%               5907.750000         1.252175e+04      0.000000      0.00000   \n",
       "50%              10995.000000         2.130700e+04      0.000000      0.00000   \n",
       "75%              19321.000000         3.574025e+04      0.000000      0.00000   \n",
       "max             854602.000000         3.628434e+07      6.000000     15.00000   \n",
       "\n",
       "        Loan.Status  \n",
       "count  60804.000000  \n",
       "mean       0.759457  \n",
       "std        0.427417  \n",
       "min        0.000000  \n",
       "25%        1.000000  \n",
       "50%        1.000000  \n",
       "75%        1.000000  \n",
       "max        1.000000  "
      ]
     },
     "execution_count": 136,
     "metadata": {},
     "output_type": "execute_result"
    }
   ],
   "source": [
    "df.describe()"
   ]
  },
  {
   "cell_type": "code",
   "execution_count": 137,
   "metadata": {
    "scrolled": false
   },
   "outputs": [
    {
     "data": {
      "text/plain": [
       "Loan.ID                             0\n",
       "Current.Loan.Amount                 0\n",
       "Term                                0\n",
       "Credit.Score                    12229\n",
       "Years.in.current.job             2529\n",
       "Home.Ownership                      0\n",
       "Annual.Income                   12229\n",
       "Purpose                             0\n",
       "Monthly.Debt                        0\n",
       "Years.of.Credit.History             0\n",
       "Months.since.last.delinquent    32475\n",
       "Number.of.Open.Accounts             0\n",
       "Number.of.Credit.Problems           0\n",
       "Current.Credit.Balance              0\n",
       "Maximum.Open.Credit                 0\n",
       "Bankruptcies                      127\n",
       "Tax.Liens                           2\n",
       "Loan.Status                         0\n",
       "dtype: int64"
      ]
     },
     "execution_count": 137,
     "metadata": {},
     "output_type": "execute_result"
    }
   ],
   "source": [
    "df.isnull().sum()"
   ]
  },
  {
   "cell_type": "code",
   "execution_count": 138,
   "metadata": {},
   "outputs": [],
   "source": [
    "#Replacing nan in Years in current job\n",
    "df['Years.in.current.job'].fillna('Not Available', inplace = True)"
   ]
  },
  {
   "cell_type": "code",
   "execution_count": 139,
   "metadata": {},
   "outputs": [
    {
     "data": {
      "text/plain": [
       "10+ years            18810\n",
       "2 years               5539\n",
       "3 years               5048\n",
       "less than  1 year     4996\n",
       "5 years               4150\n",
       "1 year                3901\n",
       "4 years               3754\n",
       "6 years               3532\n",
       "7 years               3313\n",
       "8 years               2831\n",
       "Not Available         2529\n",
       "9 years               2401\n",
       "Name: Years.in.current.job, dtype: int64"
      ]
     },
     "execution_count": 139,
     "metadata": {},
     "output_type": "execute_result"
    }
   ],
   "source": [
    "df['Years.in.current.job'].value_counts()"
   ]
  },
  {
   "cell_type": "code",
   "execution_count": 140,
   "metadata": {},
   "outputs": [],
   "source": [
    "#Replacing less than 1 year as 0\n",
    "df['Years.in.current.job'] = df['Years.in.current.job'].replace('less than  1 year', '0 years')"
   ]
  },
  {
   "cell_type": "code",
   "execution_count": 141,
   "metadata": {},
   "outputs": [
    {
     "data": {
      "text/plain": [
       "10+ years        18810\n",
       "2 years           5539\n",
       "3 years           5048\n",
       "0 years           4996\n",
       "5 years           4150\n",
       "1 year            3901\n",
       "4 years           3754\n",
       "6 years           3532\n",
       "7 years           3313\n",
       "8 years           2831\n",
       "Not Available     2529\n",
       "9 years           2401\n",
       "Name: Years.in.current.job, dtype: int64"
      ]
     },
     "execution_count": 141,
     "metadata": {},
     "output_type": "execute_result"
    }
   ],
   "source": [
    "df['Years.in.current.job'].value_counts()"
   ]
  },
  {
   "cell_type": "code",
   "execution_count": 142,
   "metadata": {},
   "outputs": [],
   "source": [
    "import re"
   ]
  },
  {
   "cell_type": "code",
   "execution_count": 143,
   "metadata": {},
   "outputs": [],
   "source": [
    "df['Years_in_job'] = df['Years.in.current.job'].str.extract('(\\d+)')"
   ]
  },
  {
   "cell_type": "code",
   "execution_count": 144,
   "metadata": {},
   "outputs": [
    {
     "data": {
      "text/html": [
       "<div>\n",
       "<style scoped>\n",
       "    .dataframe tbody tr th:only-of-type {\n",
       "        vertical-align: middle;\n",
       "    }\n",
       "\n",
       "    .dataframe tbody tr th {\n",
       "        vertical-align: top;\n",
       "    }\n",
       "\n",
       "    .dataframe thead th {\n",
       "        text-align: right;\n",
       "    }\n",
       "</style>\n",
       "<table border=\"1\" class=\"dataframe\">\n",
       "  <thead>\n",
       "    <tr style=\"text-align: right;\">\n",
       "      <th></th>\n",
       "      <th>Loan.ID</th>\n",
       "      <th>Current.Loan.Amount</th>\n",
       "      <th>Term</th>\n",
       "      <th>Credit.Score</th>\n",
       "      <th>Years.in.current.job</th>\n",
       "      <th>Home.Ownership</th>\n",
       "      <th>Annual.Income</th>\n",
       "      <th>Purpose</th>\n",
       "      <th>Monthly.Debt</th>\n",
       "      <th>Years.of.Credit.History</th>\n",
       "      <th>Months.since.last.delinquent</th>\n",
       "      <th>Number.of.Open.Accounts</th>\n",
       "      <th>Number.of.Credit.Problems</th>\n",
       "      <th>Current.Credit.Balance</th>\n",
       "      <th>Maximum.Open.Credit</th>\n",
       "      <th>Bankruptcies</th>\n",
       "      <th>Tax.Liens</th>\n",
       "      <th>Loan.Status</th>\n",
       "      <th>Years_in_job</th>\n",
       "    </tr>\n",
       "  </thead>\n",
       "  <tbody>\n",
       "    <tr>\n",
       "      <th>0</th>\n",
       "      <td>0</td>\n",
       "      <td>17879</td>\n",
       "      <td>Short Term</td>\n",
       "      <td>739.0</td>\n",
       "      <td>6 years</td>\n",
       "      <td>Home Mortgage</td>\n",
       "      <td>95357.0</td>\n",
       "      <td>Debt Consolidation</td>\n",
       "      <td>1509.82</td>\n",
       "      <td>34.4</td>\n",
       "      <td>5.0</td>\n",
       "      <td>26</td>\n",
       "      <td>0</td>\n",
       "      <td>23986</td>\n",
       "      <td>40313</td>\n",
       "      <td>0.0</td>\n",
       "      <td>0.0</td>\n",
       "      <td>1</td>\n",
       "      <td>6</td>\n",
       "    </tr>\n",
       "    <tr>\n",
       "      <th>1</th>\n",
       "      <td>1</td>\n",
       "      <td>99999999</td>\n",
       "      <td>Long Term</td>\n",
       "      <td>619.0</td>\n",
       "      <td>6 years</td>\n",
       "      <td>Rent</td>\n",
       "      <td>54406.0</td>\n",
       "      <td>Debt Consolidation</td>\n",
       "      <td>1065.45</td>\n",
       "      <td>12.7</td>\n",
       "      <td>NaN</td>\n",
       "      <td>8</td>\n",
       "      <td>0</td>\n",
       "      <td>22938</td>\n",
       "      <td>31250</td>\n",
       "      <td>0.0</td>\n",
       "      <td>0.0</td>\n",
       "      <td>1</td>\n",
       "      <td>6</td>\n",
       "    </tr>\n",
       "    <tr>\n",
       "      <th>2</th>\n",
       "      <td>3</td>\n",
       "      <td>99999999</td>\n",
       "      <td>Short Term</td>\n",
       "      <td>738.0</td>\n",
       "      <td>0 years</td>\n",
       "      <td>Rent</td>\n",
       "      <td>40480.0</td>\n",
       "      <td>Medical Bills</td>\n",
       "      <td>573.47</td>\n",
       "      <td>32.7</td>\n",
       "      <td>60.0</td>\n",
       "      <td>9</td>\n",
       "      <td>1</td>\n",
       "      <td>3963</td>\n",
       "      <td>5669</td>\n",
       "      <td>1.0</td>\n",
       "      <td>0.0</td>\n",
       "      <td>1</td>\n",
       "      <td>0</td>\n",
       "    </tr>\n",
       "    <tr>\n",
       "      <th>3</th>\n",
       "      <td>4</td>\n",
       "      <td>11200</td>\n",
       "      <td>Short Term</td>\n",
       "      <td>738.0</td>\n",
       "      <td>4 years</td>\n",
       "      <td>Rent</td>\n",
       "      <td>53965.0</td>\n",
       "      <td>Debt Consolidation</td>\n",
       "      <td>1358.11</td>\n",
       "      <td>15.8</td>\n",
       "      <td>NaN</td>\n",
       "      <td>8</td>\n",
       "      <td>1</td>\n",
       "      <td>11782</td>\n",
       "      <td>25951</td>\n",
       "      <td>1.0</td>\n",
       "      <td>0.0</td>\n",
       "      <td>1</td>\n",
       "      <td>4</td>\n",
       "    </tr>\n",
       "    <tr>\n",
       "      <th>4</th>\n",
       "      <td>5</td>\n",
       "      <td>3608</td>\n",
       "      <td>Short Term</td>\n",
       "      <td>731.0</td>\n",
       "      <td>10+ years</td>\n",
       "      <td>Home Mortgage</td>\n",
       "      <td>47709.0</td>\n",
       "      <td>Home Improvements</td>\n",
       "      <td>339.93</td>\n",
       "      <td>16.1</td>\n",
       "      <td>47.0</td>\n",
       "      <td>6</td>\n",
       "      <td>0</td>\n",
       "      <td>22909</td>\n",
       "      <td>25568</td>\n",
       "      <td>0.0</td>\n",
       "      <td>0.0</td>\n",
       "      <td>1</td>\n",
       "      <td>10</td>\n",
       "    </tr>\n",
       "  </tbody>\n",
       "</table>\n",
       "</div>"
      ],
      "text/plain": [
       "   Loan.ID  Current.Loan.Amount        Term  Credit.Score  \\\n",
       "0        0                17879  Short Term         739.0   \n",
       "1        1             99999999   Long Term         619.0   \n",
       "2        3             99999999  Short Term         738.0   \n",
       "3        4                11200  Short Term         738.0   \n",
       "4        5                 3608  Short Term         731.0   \n",
       "\n",
       "  Years.in.current.job Home.Ownership  Annual.Income             Purpose  \\\n",
       "0              6 years  Home Mortgage        95357.0  Debt Consolidation   \n",
       "1              6 years           Rent        54406.0  Debt Consolidation   \n",
       "2              0 years           Rent        40480.0       Medical Bills   \n",
       "3              4 years           Rent        53965.0  Debt Consolidation   \n",
       "4            10+ years  Home Mortgage        47709.0   Home Improvements   \n",
       "\n",
       "   Monthly.Debt  Years.of.Credit.History  Months.since.last.delinquent  \\\n",
       "0       1509.82                     34.4                           5.0   \n",
       "1       1065.45                     12.7                           NaN   \n",
       "2        573.47                     32.7                          60.0   \n",
       "3       1358.11                     15.8                           NaN   \n",
       "4        339.93                     16.1                          47.0   \n",
       "\n",
       "   Number.of.Open.Accounts  Number.of.Credit.Problems  Current.Credit.Balance  \\\n",
       "0                       26                          0                   23986   \n",
       "1                        8                          0                   22938   \n",
       "2                        9                          1                    3963   \n",
       "3                        8                          1                   11782   \n",
       "4                        6                          0                   22909   \n",
       "\n",
       "   Maximum.Open.Credit  Bankruptcies  Tax.Liens  Loan.Status Years_in_job  \n",
       "0                40313           0.0        0.0            1            6  \n",
       "1                31250           0.0        0.0            1            6  \n",
       "2                 5669           1.0        0.0            1            0  \n",
       "3                25951           1.0        0.0            1            4  \n",
       "4                25568           0.0        0.0            1           10  "
      ]
     },
     "execution_count": 144,
     "metadata": {},
     "output_type": "execute_result"
    }
   ],
   "source": [
    "df.head()"
   ]
  },
  {
   "cell_type": "code",
   "execution_count": 145,
   "metadata": {},
   "outputs": [
    {
     "data": {
      "text/plain": [
       "10    18810\n",
       "2      5539\n",
       "3      5048\n",
       "0      4996\n",
       "5      4150\n",
       "1      3901\n",
       "4      3754\n",
       "6      3532\n",
       "7      3313\n",
       "8      2831\n",
       "9      2401\n",
       "Name: Years_in_job, dtype: int64"
      ]
     },
     "execution_count": 145,
     "metadata": {},
     "output_type": "execute_result"
    }
   ],
   "source": [
    "df['Years_in_job'].value_counts()"
   ]
  },
  {
   "cell_type": "code",
   "execution_count": 146,
   "metadata": {},
   "outputs": [
    {
     "data": {
      "text/plain": [
       "Short Term    44184\n",
       "Long Term     16620\n",
       "Name: Term, dtype: int64"
      ]
     },
     "execution_count": 146,
     "metadata": {},
     "output_type": "execute_result"
    }
   ],
   "source": [
    "#Dummy variable\n",
    "df['Term'].value_counts()"
   ]
  },
  {
   "cell_type": "code",
   "execution_count": 147,
   "metadata": {},
   "outputs": [
    {
     "data": {
      "text/plain": [
       "Home Mortgage    29447\n",
       "Rent             25737\n",
       "Own Home          5516\n",
       "HaveMortgage       104\n",
       "Name: Home.Ownership, dtype: int64"
      ]
     },
     "execution_count": 147,
     "metadata": {},
     "output_type": "execute_result"
    }
   ],
   "source": [
    "df['Home.Ownership'].value_counts()"
   ]
  },
  {
   "cell_type": "code",
   "execution_count": 148,
   "metadata": {},
   "outputs": [],
   "source": [
    "df['Purpose'] = df['Purpose'].replace('other', 'Other')"
   ]
  },
  {
   "cell_type": "code",
   "execution_count": 149,
   "metadata": {},
   "outputs": [
    {
     "data": {
      "text/plain": [
       "Debt Consolidation      47888\n",
       "Other                    5628\n",
       "Home Improvements        3535\n",
       "Business Loan             910\n",
       "Buy a Car                 765\n",
       "Medical Bills             695\n",
       "Buy House                 420\n",
       "Take a Trip               296\n",
       "major_purchase            213\n",
       "small_business            170\n",
       "moving                     83\n",
       "Educational Expenses       70\n",
       "vacation                   65\n",
       "wedding                    64\n",
       "renewable_energy            2\n",
       "Name: Purpose, dtype: int64"
      ]
     },
     "execution_count": 149,
     "metadata": {},
     "output_type": "execute_result"
    }
   ],
   "source": [
    "df['Purpose'].value_counts()"
   ]
  },
  {
   "cell_type": "code",
   "execution_count": 150,
   "metadata": {},
   "outputs": [],
   "source": [
    "df['Purpose'] = df['Purpose'].replace('Business Loan', 'Misc')\n",
    "df['Purpose'] = df['Purpose'].replace('Buy a Car', 'Misc')\n",
    "df['Purpose'] = df['Purpose'].replace('Medical Bills', 'Misc')\n",
    "df['Purpose'] = df['Purpose'].replace('Buy House', 'Misc')\n",
    "df['Purpose'] = df['Purpose'].replace('Take a Trip', 'Misc')\n",
    "df['Purpose'] = df['Purpose'].replace('major_purchase', 'Misc')\n",
    "df['Purpose'] = df['Purpose'].replace('small_business', 'Misc')\n",
    "df['Purpose'] = df['Purpose'].replace('moving', 'Misc')\n",
    "df['Purpose'] = df['Purpose'].replace('Educational Expenses', 'Misc')\n",
    "df['Purpose'] = df['Purpose'].replace('vacation', 'Misc')\n",
    "df['Purpose'] = df['Purpose'].replace('renewable_energy', 'Misc')\n",
    "df['Purpose'] = df['Purpose'].replace('wedding', 'Misc')"
   ]
  },
  {
   "cell_type": "code",
   "execution_count": 151,
   "metadata": {},
   "outputs": [
    {
     "data": {
      "text/plain": [
       "Debt Consolidation    47888\n",
       "Other                  5628\n",
       "Misc                   3753\n",
       "Home Improvements      3535\n",
       "Name: Purpose, dtype: int64"
      ]
     },
     "execution_count": 151,
     "metadata": {},
     "output_type": "execute_result"
    }
   ],
   "source": [
    "df['Purpose'].value_counts()"
   ]
  },
  {
   "cell_type": "code",
   "execution_count": 152,
   "metadata": {},
   "outputs": [
    {
     "data": {
      "text/plain": [
       "\"df = pd.get_dummies(df, columns=['Term'], prefix = ['Term'])\""
      ]
     },
     "execution_count": 152,
     "metadata": {},
     "output_type": "execute_result"
    }
   ],
   "source": [
    "'''df = pd.get_dummies(df, columns=['Term'], prefix = ['Term'])'''"
   ]
  },
  {
   "cell_type": "code",
   "execution_count": 153,
   "metadata": {},
   "outputs": [
    {
     "data": {
      "text/plain": [
       "\"df = pd.get_dummies(df, columns=['Home.Ownership'], prefix = ['Home.Ownership'])\""
      ]
     },
     "execution_count": 153,
     "metadata": {},
     "output_type": "execute_result"
    }
   ],
   "source": [
    "'''df = pd.get_dummies(df, columns=['Home.Ownership'], prefix = ['Home.Ownership'])'''"
   ]
  },
  {
   "cell_type": "code",
   "execution_count": 154,
   "metadata": {},
   "outputs": [
    {
     "data": {
      "text/plain": [
       "\"df = pd.get_dummies(df, columns=['Purpose'], prefix = ['Purpose'])\""
      ]
     },
     "execution_count": 154,
     "metadata": {},
     "output_type": "execute_result"
    }
   ],
   "source": [
    "'''df = pd.get_dummies(df, columns=['Purpose'], prefix = ['Purpose'])'''"
   ]
  },
  {
   "cell_type": "code",
   "execution_count": 155,
   "metadata": {},
   "outputs": [],
   "source": [
    "from sklearn import preprocessing\n",
    "label_encoder_term = preprocessing.LabelEncoder() \n",
    "label_encoder_Purpose = preprocessing.LabelEncoder() \n",
    "label_encoder_HO = preprocessing.LabelEncoder() \n",
    "\n",
    "df['Term']= label_encoder_term.fit_transform(df['Term']) \n",
    "df['Purpose']= label_encoder_Purpose.fit_transform(df['Purpose']) \n",
    "df['Home.Ownership']= label_encoder_HO.fit_transform(df['Home.Ownership']) "
   ]
  },
  {
   "cell_type": "code",
   "execution_count": 156,
   "metadata": {},
   "outputs": [
    {
     "data": {
      "text/html": [
       "<div>\n",
       "<style scoped>\n",
       "    .dataframe tbody tr th:only-of-type {\n",
       "        vertical-align: middle;\n",
       "    }\n",
       "\n",
       "    .dataframe tbody tr th {\n",
       "        vertical-align: top;\n",
       "    }\n",
       "\n",
       "    .dataframe thead th {\n",
       "        text-align: right;\n",
       "    }\n",
       "</style>\n",
       "<table border=\"1\" class=\"dataframe\">\n",
       "  <thead>\n",
       "    <tr style=\"text-align: right;\">\n",
       "      <th></th>\n",
       "      <th>Loan.ID</th>\n",
       "      <th>Current.Loan.Amount</th>\n",
       "      <th>Term</th>\n",
       "      <th>Credit.Score</th>\n",
       "      <th>Years.in.current.job</th>\n",
       "      <th>Home.Ownership</th>\n",
       "      <th>Annual.Income</th>\n",
       "      <th>Purpose</th>\n",
       "      <th>Monthly.Debt</th>\n",
       "      <th>Years.of.Credit.History</th>\n",
       "      <th>Months.since.last.delinquent</th>\n",
       "      <th>Number.of.Open.Accounts</th>\n",
       "      <th>Number.of.Credit.Problems</th>\n",
       "      <th>Current.Credit.Balance</th>\n",
       "      <th>Maximum.Open.Credit</th>\n",
       "      <th>Bankruptcies</th>\n",
       "      <th>Tax.Liens</th>\n",
       "      <th>Loan.Status</th>\n",
       "      <th>Years_in_job</th>\n",
       "    </tr>\n",
       "  </thead>\n",
       "  <tbody>\n",
       "    <tr>\n",
       "      <th>0</th>\n",
       "      <td>0</td>\n",
       "      <td>17879</td>\n",
       "      <td>1</td>\n",
       "      <td>739.0</td>\n",
       "      <td>6 years</td>\n",
       "      <td>1</td>\n",
       "      <td>95357.0</td>\n",
       "      <td>0</td>\n",
       "      <td>1509.82</td>\n",
       "      <td>34.4</td>\n",
       "      <td>5.0</td>\n",
       "      <td>26</td>\n",
       "      <td>0</td>\n",
       "      <td>23986</td>\n",
       "      <td>40313</td>\n",
       "      <td>0.0</td>\n",
       "      <td>0.0</td>\n",
       "      <td>1</td>\n",
       "      <td>6</td>\n",
       "    </tr>\n",
       "    <tr>\n",
       "      <th>1</th>\n",
       "      <td>1</td>\n",
       "      <td>99999999</td>\n",
       "      <td>0</td>\n",
       "      <td>619.0</td>\n",
       "      <td>6 years</td>\n",
       "      <td>3</td>\n",
       "      <td>54406.0</td>\n",
       "      <td>0</td>\n",
       "      <td>1065.45</td>\n",
       "      <td>12.7</td>\n",
       "      <td>NaN</td>\n",
       "      <td>8</td>\n",
       "      <td>0</td>\n",
       "      <td>22938</td>\n",
       "      <td>31250</td>\n",
       "      <td>0.0</td>\n",
       "      <td>0.0</td>\n",
       "      <td>1</td>\n",
       "      <td>6</td>\n",
       "    </tr>\n",
       "    <tr>\n",
       "      <th>2</th>\n",
       "      <td>3</td>\n",
       "      <td>99999999</td>\n",
       "      <td>1</td>\n",
       "      <td>738.0</td>\n",
       "      <td>0 years</td>\n",
       "      <td>3</td>\n",
       "      <td>40480.0</td>\n",
       "      <td>2</td>\n",
       "      <td>573.47</td>\n",
       "      <td>32.7</td>\n",
       "      <td>60.0</td>\n",
       "      <td>9</td>\n",
       "      <td>1</td>\n",
       "      <td>3963</td>\n",
       "      <td>5669</td>\n",
       "      <td>1.0</td>\n",
       "      <td>0.0</td>\n",
       "      <td>1</td>\n",
       "      <td>0</td>\n",
       "    </tr>\n",
       "    <tr>\n",
       "      <th>3</th>\n",
       "      <td>4</td>\n",
       "      <td>11200</td>\n",
       "      <td>1</td>\n",
       "      <td>738.0</td>\n",
       "      <td>4 years</td>\n",
       "      <td>3</td>\n",
       "      <td>53965.0</td>\n",
       "      <td>0</td>\n",
       "      <td>1358.11</td>\n",
       "      <td>15.8</td>\n",
       "      <td>NaN</td>\n",
       "      <td>8</td>\n",
       "      <td>1</td>\n",
       "      <td>11782</td>\n",
       "      <td>25951</td>\n",
       "      <td>1.0</td>\n",
       "      <td>0.0</td>\n",
       "      <td>1</td>\n",
       "      <td>4</td>\n",
       "    </tr>\n",
       "    <tr>\n",
       "      <th>4</th>\n",
       "      <td>5</td>\n",
       "      <td>3608</td>\n",
       "      <td>1</td>\n",
       "      <td>731.0</td>\n",
       "      <td>10+ years</td>\n",
       "      <td>1</td>\n",
       "      <td>47709.0</td>\n",
       "      <td>1</td>\n",
       "      <td>339.93</td>\n",
       "      <td>16.1</td>\n",
       "      <td>47.0</td>\n",
       "      <td>6</td>\n",
       "      <td>0</td>\n",
       "      <td>22909</td>\n",
       "      <td>25568</td>\n",
       "      <td>0.0</td>\n",
       "      <td>0.0</td>\n",
       "      <td>1</td>\n",
       "      <td>10</td>\n",
       "    </tr>\n",
       "  </tbody>\n",
       "</table>\n",
       "</div>"
      ],
      "text/plain": [
       "   Loan.ID  Current.Loan.Amount  Term  Credit.Score Years.in.current.job  \\\n",
       "0        0                17879     1         739.0              6 years   \n",
       "1        1             99999999     0         619.0              6 years   \n",
       "2        3             99999999     1         738.0              0 years   \n",
       "3        4                11200     1         738.0              4 years   \n",
       "4        5                 3608     1         731.0            10+ years   \n",
       "\n",
       "   Home.Ownership  Annual.Income  Purpose  Monthly.Debt  \\\n",
       "0               1        95357.0        0       1509.82   \n",
       "1               3        54406.0        0       1065.45   \n",
       "2               3        40480.0        2        573.47   \n",
       "3               3        53965.0        0       1358.11   \n",
       "4               1        47709.0        1        339.93   \n",
       "\n",
       "   Years.of.Credit.History  Months.since.last.delinquent  \\\n",
       "0                     34.4                           5.0   \n",
       "1                     12.7                           NaN   \n",
       "2                     32.7                          60.0   \n",
       "3                     15.8                           NaN   \n",
       "4                     16.1                          47.0   \n",
       "\n",
       "   Number.of.Open.Accounts  Number.of.Credit.Problems  Current.Credit.Balance  \\\n",
       "0                       26                          0                   23986   \n",
       "1                        8                          0                   22938   \n",
       "2                        9                          1                    3963   \n",
       "3                        8                          1                   11782   \n",
       "4                        6                          0                   22909   \n",
       "\n",
       "   Maximum.Open.Credit  Bankruptcies  Tax.Liens  Loan.Status Years_in_job  \n",
       "0                40313           0.0        0.0            1            6  \n",
       "1                31250           0.0        0.0            1            6  \n",
       "2                 5669           1.0        0.0            1            0  \n",
       "3                25951           1.0        0.0            1            4  \n",
       "4                25568           0.0        0.0            1           10  "
      ]
     },
     "execution_count": 156,
     "metadata": {},
     "output_type": "execute_result"
    }
   ],
   "source": [
    "df.head()"
   ]
  },
  {
   "cell_type": "code",
   "execution_count": 157,
   "metadata": {},
   "outputs": [],
   "source": [
    "df.drop(['Months.since.last.delinquent', 'Years.in.current.job'], axis = 1, inplace = True) "
   ]
  },
  {
   "cell_type": "code",
   "execution_count": 158,
   "metadata": {},
   "outputs": [
    {
     "data": {
      "text/html": [
       "<div>\n",
       "<style scoped>\n",
       "    .dataframe tbody tr th:only-of-type {\n",
       "        vertical-align: middle;\n",
       "    }\n",
       "\n",
       "    .dataframe tbody tr th {\n",
       "        vertical-align: top;\n",
       "    }\n",
       "\n",
       "    .dataframe thead th {\n",
       "        text-align: right;\n",
       "    }\n",
       "</style>\n",
       "<table border=\"1\" class=\"dataframe\">\n",
       "  <thead>\n",
       "    <tr style=\"text-align: right;\">\n",
       "      <th></th>\n",
       "      <th>Loan.ID</th>\n",
       "      <th>Current.Loan.Amount</th>\n",
       "      <th>Term</th>\n",
       "      <th>Credit.Score</th>\n",
       "      <th>Home.Ownership</th>\n",
       "      <th>Annual.Income</th>\n",
       "      <th>Purpose</th>\n",
       "      <th>Monthly.Debt</th>\n",
       "      <th>Years.of.Credit.History</th>\n",
       "      <th>Number.of.Open.Accounts</th>\n",
       "      <th>Number.of.Credit.Problems</th>\n",
       "      <th>Current.Credit.Balance</th>\n",
       "      <th>Maximum.Open.Credit</th>\n",
       "      <th>Bankruptcies</th>\n",
       "      <th>Tax.Liens</th>\n",
       "      <th>Loan.Status</th>\n",
       "      <th>Years_in_job</th>\n",
       "    </tr>\n",
       "  </thead>\n",
       "  <tbody>\n",
       "    <tr>\n",
       "      <th>0</th>\n",
       "      <td>0</td>\n",
       "      <td>17879</td>\n",
       "      <td>1</td>\n",
       "      <td>739.0</td>\n",
       "      <td>1</td>\n",
       "      <td>95357.0</td>\n",
       "      <td>0</td>\n",
       "      <td>1509.82</td>\n",
       "      <td>34.4</td>\n",
       "      <td>26</td>\n",
       "      <td>0</td>\n",
       "      <td>23986</td>\n",
       "      <td>40313</td>\n",
       "      <td>0.0</td>\n",
       "      <td>0.0</td>\n",
       "      <td>1</td>\n",
       "      <td>6</td>\n",
       "    </tr>\n",
       "    <tr>\n",
       "      <th>1</th>\n",
       "      <td>1</td>\n",
       "      <td>99999999</td>\n",
       "      <td>0</td>\n",
       "      <td>619.0</td>\n",
       "      <td>3</td>\n",
       "      <td>54406.0</td>\n",
       "      <td>0</td>\n",
       "      <td>1065.45</td>\n",
       "      <td>12.7</td>\n",
       "      <td>8</td>\n",
       "      <td>0</td>\n",
       "      <td>22938</td>\n",
       "      <td>31250</td>\n",
       "      <td>0.0</td>\n",
       "      <td>0.0</td>\n",
       "      <td>1</td>\n",
       "      <td>6</td>\n",
       "    </tr>\n",
       "    <tr>\n",
       "      <th>2</th>\n",
       "      <td>3</td>\n",
       "      <td>99999999</td>\n",
       "      <td>1</td>\n",
       "      <td>738.0</td>\n",
       "      <td>3</td>\n",
       "      <td>40480.0</td>\n",
       "      <td>2</td>\n",
       "      <td>573.47</td>\n",
       "      <td>32.7</td>\n",
       "      <td>9</td>\n",
       "      <td>1</td>\n",
       "      <td>3963</td>\n",
       "      <td>5669</td>\n",
       "      <td>1.0</td>\n",
       "      <td>0.0</td>\n",
       "      <td>1</td>\n",
       "      <td>0</td>\n",
       "    </tr>\n",
       "    <tr>\n",
       "      <th>3</th>\n",
       "      <td>4</td>\n",
       "      <td>11200</td>\n",
       "      <td>1</td>\n",
       "      <td>738.0</td>\n",
       "      <td>3</td>\n",
       "      <td>53965.0</td>\n",
       "      <td>0</td>\n",
       "      <td>1358.11</td>\n",
       "      <td>15.8</td>\n",
       "      <td>8</td>\n",
       "      <td>1</td>\n",
       "      <td>11782</td>\n",
       "      <td>25951</td>\n",
       "      <td>1.0</td>\n",
       "      <td>0.0</td>\n",
       "      <td>1</td>\n",
       "      <td>4</td>\n",
       "    </tr>\n",
       "    <tr>\n",
       "      <th>4</th>\n",
       "      <td>5</td>\n",
       "      <td>3608</td>\n",
       "      <td>1</td>\n",
       "      <td>731.0</td>\n",
       "      <td>1</td>\n",
       "      <td>47709.0</td>\n",
       "      <td>1</td>\n",
       "      <td>339.93</td>\n",
       "      <td>16.1</td>\n",
       "      <td>6</td>\n",
       "      <td>0</td>\n",
       "      <td>22909</td>\n",
       "      <td>25568</td>\n",
       "      <td>0.0</td>\n",
       "      <td>0.0</td>\n",
       "      <td>1</td>\n",
       "      <td>10</td>\n",
       "    </tr>\n",
       "  </tbody>\n",
       "</table>\n",
       "</div>"
      ],
      "text/plain": [
       "   Loan.ID  Current.Loan.Amount  Term  Credit.Score  Home.Ownership  \\\n",
       "0        0                17879     1         739.0               1   \n",
       "1        1             99999999     0         619.0               3   \n",
       "2        3             99999999     1         738.0               3   \n",
       "3        4                11200     1         738.0               3   \n",
       "4        5                 3608     1         731.0               1   \n",
       "\n",
       "   Annual.Income  Purpose  Monthly.Debt  Years.of.Credit.History  \\\n",
       "0        95357.0        0       1509.82                     34.4   \n",
       "1        54406.0        0       1065.45                     12.7   \n",
       "2        40480.0        2        573.47                     32.7   \n",
       "3        53965.0        0       1358.11                     15.8   \n",
       "4        47709.0        1        339.93                     16.1   \n",
       "\n",
       "   Number.of.Open.Accounts  Number.of.Credit.Problems  Current.Credit.Balance  \\\n",
       "0                       26                          0                   23986   \n",
       "1                        8                          0                   22938   \n",
       "2                        9                          1                    3963   \n",
       "3                        8                          1                   11782   \n",
       "4                        6                          0                   22909   \n",
       "\n",
       "   Maximum.Open.Credit  Bankruptcies  Tax.Liens  Loan.Status Years_in_job  \n",
       "0                40313           0.0        0.0            1            6  \n",
       "1                31250           0.0        0.0            1            6  \n",
       "2                 5669           1.0        0.0            1            0  \n",
       "3                25951           1.0        0.0            1            4  \n",
       "4                25568           0.0        0.0            1           10  "
      ]
     },
     "execution_count": 158,
     "metadata": {},
     "output_type": "execute_result"
    }
   ],
   "source": [
    "df.head()"
   ]
  },
  {
   "cell_type": "code",
   "execution_count": 159,
   "metadata": {},
   "outputs": [
    {
     "data": {
      "text/plain": [
       "' \\nCredit.Score                  48575 non-null  float64\\nAnnual.Income                 48575 non-null  float64\\nBankruptcies                  60677 non-null  float64\\nTax.Liens                     60802 non-null  float64\\nYears_in_job                  58275 non-null  object \\n'"
      ]
     },
     "execution_count": 159,
     "metadata": {},
     "output_type": "execute_result"
    }
   ],
   "source": [
    "# Columns to fill missing values in\n",
    "''' \n",
    "Credit.Score                  48575 non-null  float64\n",
    "Annual.Income                 48575 non-null  float64\n",
    "Bankruptcies                  60677 non-null  float64\n",
    "Tax.Liens                     60802 non-null  float64\n",
    "Years_in_job                  58275 non-null  object \n",
    "'''"
   ]
  },
  {
   "cell_type": "code",
   "execution_count": 160,
   "metadata": {},
   "outputs": [
    {
     "data": {
      "text/plain": [
       "0.0    54086\n",
       "1.0     6260\n",
       "2.0      256\n",
       "3.0       59\n",
       "4.0       13\n",
       "5.0        2\n",
       "6.0        1\n",
       "Name: Bankruptcies, dtype: int64"
      ]
     },
     "execution_count": 160,
     "metadata": {},
     "output_type": "execute_result"
    }
   ],
   "source": [
    "df['Bankruptcies'].value_counts()"
   ]
  },
  {
   "cell_type": "code",
   "execution_count": 161,
   "metadata": {},
   "outputs": [],
   "source": [
    "#Replacing nan in Years in Bankruptcies\n",
    "df['Bankruptcies'].fillna(float(0.0), inplace = True)"
   ]
  },
  {
   "cell_type": "code",
   "execution_count": 162,
   "metadata": {},
   "outputs": [
    {
     "data": {
      "text/plain": [
       "0.0     59656\n",
       "1.0       795\n",
       "2.0       222\n",
       "3.0        75\n",
       "4.0        32\n",
       "5.0         7\n",
       "6.0         6\n",
       "7.0         4\n",
       "9.0         2\n",
       "15.0        1\n",
       "10.0        1\n",
       "11.0        1\n",
       "Name: Tax.Liens, dtype: int64"
      ]
     },
     "execution_count": 162,
     "metadata": {},
     "output_type": "execute_result"
    }
   ],
   "source": [
    "df['Tax.Liens'].value_counts()"
   ]
  },
  {
   "cell_type": "code",
   "execution_count": 163,
   "metadata": {},
   "outputs": [],
   "source": [
    "df['Tax.Liens'].fillna(0, inplace = True)"
   ]
  },
  {
   "cell_type": "code",
   "execution_count": 164,
   "metadata": {},
   "outputs": [],
   "source": [
    "#Logic is If annual income is missing then probably out of job\n",
    "df.loc[ (pd.isnull(df['Years_in_job'])) & (pd.isnull(df['Annual.Income'])), 'Years_in_job'] = 0"
   ]
  },
  {
   "cell_type": "code",
   "execution_count": 165,
   "metadata": {},
   "outputs": [],
   "source": [
    "#Replacing string 0 to int 0\n",
    "df['Years_in_job'] = df['Years_in_job'].replace('0', 0)"
   ]
  },
  {
   "cell_type": "code",
   "execution_count": 166,
   "metadata": {},
   "outputs": [
    {
     "data": {
      "text/plain": [
       "Loan.ID                          0\n",
       "Current.Loan.Amount              0\n",
       "Term                             0\n",
       "Credit.Score                 12229\n",
       "Home.Ownership                   0\n",
       "Annual.Income                12229\n",
       "Purpose                          0\n",
       "Monthly.Debt                     0\n",
       "Years.of.Credit.History          0\n",
       "Number.of.Open.Accounts          0\n",
       "Number.of.Credit.Problems        0\n",
       "Current.Credit.Balance           0\n",
       "Maximum.Open.Credit              0\n",
       "Bankruptcies                     0\n",
       "Tax.Liens                        0\n",
       "Loan.Status                      0\n",
       "Years_in_job                  2010\n",
       "dtype: int64"
      ]
     },
     "execution_count": 166,
     "metadata": {},
     "output_type": "execute_result"
    }
   ],
   "source": [
    "df.isnull().sum()"
   ]
  },
  {
   "cell_type": "code",
   "execution_count": 167,
   "metadata": {},
   "outputs": [
    {
     "data": {
      "text/plain": [
       "12229"
      ]
     },
     "execution_count": 167,
     "metadata": {},
     "output_type": "execute_result"
    }
   ],
   "source": [
    "df.loc[ (pd.isnull(df['Credit.Score'])) & (pd.isnull(df['Annual.Income'])), 'Credit.Score'].isnull().sum()"
   ]
  },
  {
   "cell_type": "code",
   "execution_count": 168,
   "metadata": {},
   "outputs": [
    {
     "data": {
      "text/plain": [
       "<matplotlib.axes._subplots.AxesSubplot at 0x1e84f6489c8>"
      ]
     },
     "execution_count": 168,
     "metadata": {},
     "output_type": "execute_result"
    },
    {
     "data": {
      "image/png": "[encoded data removed]",
      "text/plain": [
       "<Figure size 432x288 with 1 Axes>"
      ]
     },
     "metadata": {
      "needs_background": "light"
     },
     "output_type": "display_data"
    }
   ],
   "source": [
    "sns.countplot(x = 'Bankruptcies', data = df[df['Credit.Score'].isnull()])"
   ]
  },
  {
   "cell_type": "code",
   "execution_count": 169,
   "metadata": {},
   "outputs": [],
   "source": [
    "cut_labels_5 = ['Fair', 'Good', 'Very Good', 'Poor']\n",
    "cut_bins = [579, 669, 739, 799, 8000]\n",
    "df['Credit_Score_Cat'] = pd.cut(df['Credit.Score'], bins=cut_bins, labels=cut_labels_5)"
   ]
  },
  {
   "cell_type": "code",
   "execution_count": 170,
   "metadata": {},
   "outputs": [
    {
     "data": {
      "text/plain": [
       "<matplotlib.axes._subplots.AxesSubplot at 0x1e84f61dd48>"
      ]
     },
     "execution_count": 170,
     "metadata": {},
     "output_type": "execute_result"
    },
    {
     "data": {
      "image/png": "[encoded data removed]",
      "text/plain": [
       "<Figure size 432x288 with 1 Axes>"
      ]
     },
     "metadata": {
      "needs_background": "light"
     },
     "output_type": "display_data"
    }
   ],
   "source": [
    "sns.countplot(x = 'Credit_Score_Cat', data = df, hue = 'Loan.Status')"
   ]
  },
  {
   "cell_type": "code",
   "execution_count": 171,
   "metadata": {},
   "outputs": [],
   "source": [
    "df['Credit_Score_Cat'].fillna('Good', inplace = True)"
   ]
  },
  {
   "cell_type": "code",
   "execution_count": 172,
   "metadata": {},
   "outputs": [
    {
     "data": {
      "text/plain": [
       "Loan.ID                          0\n",
       "Current.Loan.Amount              0\n",
       "Term                             0\n",
       "Credit.Score                 12229\n",
       "Home.Ownership                   0\n",
       "Annual.Income                12229\n",
       "Purpose                          0\n",
       "Monthly.Debt                     0\n",
       "Years.of.Credit.History          0\n",
       "Number.of.Open.Accounts          0\n",
       "Number.of.Credit.Problems        0\n",
       "Current.Credit.Balance           0\n",
       "Maximum.Open.Credit              0\n",
       "Bankruptcies                     0\n",
       "Tax.Liens                        0\n",
       "Loan.Status                      0\n",
       "Years_in_job                  2010\n",
       "Credit_Score_Cat                 0\n",
       "dtype: int64"
      ]
     },
     "execution_count": 172,
     "metadata": {},
     "output_type": "execute_result"
    }
   ],
   "source": [
    "df.isnull().sum()"
   ]
  },
  {
   "cell_type": "code",
   "execution_count": 173,
   "metadata": {},
   "outputs": [],
   "source": [
    "df['Annual.Income'].fillna(df['Annual.Income'].mean(), inplace = True)"
   ]
  },
  {
   "cell_type": "code",
   "execution_count": 174,
   "metadata": {},
   "outputs": [
    {
     "data": {
      "text/html": [
       "<div>\n",
       "<style scoped>\n",
       "    .dataframe tbody tr th:only-of-type {\n",
       "        vertical-align: middle;\n",
       "    }\n",
       "\n",
       "    .dataframe tbody tr th {\n",
       "        vertical-align: top;\n",
       "    }\n",
       "\n",
       "    .dataframe thead th {\n",
       "        text-align: right;\n",
       "    }\n",
       "</style>\n",
       "<table border=\"1\" class=\"dataframe\">\n",
       "  <thead>\n",
       "    <tr style=\"text-align: right;\">\n",
       "      <th></th>\n",
       "      <th>Loan.ID</th>\n",
       "      <th>Current.Loan.Amount</th>\n",
       "      <th>Term</th>\n",
       "      <th>Credit.Score</th>\n",
       "      <th>Home.Ownership</th>\n",
       "      <th>Annual.Income</th>\n",
       "      <th>Purpose</th>\n",
       "      <th>Monthly.Debt</th>\n",
       "      <th>Years.of.Credit.History</th>\n",
       "      <th>Number.of.Open.Accounts</th>\n",
       "      <th>Number.of.Credit.Problems</th>\n",
       "      <th>Current.Credit.Balance</th>\n",
       "      <th>Maximum.Open.Credit</th>\n",
       "      <th>Bankruptcies</th>\n",
       "      <th>Tax.Liens</th>\n",
       "      <th>Loan.Status</th>\n",
       "    </tr>\n",
       "  </thead>\n",
       "  <tbody>\n",
       "    <tr>\n",
       "      <th>Loan.ID</th>\n",
       "      <td>1.000000</td>\n",
       "      <td>0.000936</td>\n",
       "      <td>-0.003251</td>\n",
       "      <td>0.006135</td>\n",
       "      <td>0.001170</td>\n",
       "      <td>0.005280</td>\n",
       "      <td>0.006854</td>\n",
       "      <td>0.003932</td>\n",
       "      <td>0.001031</td>\n",
       "      <td>0.000551</td>\n",
       "      <td>0.005857</td>\n",
       "      <td>0.001403</td>\n",
       "      <td>0.008172</td>\n",
       "      <td>0.003460</td>\n",
       "      <td>0.000274</td>\n",
       "      <td>0.004946</td>\n",
       "    </tr>\n",
       "    <tr>\n",
       "      <th>Current.Loan.Amount</th>\n",
       "      <td>0.000936</td>\n",
       "      <td>1.000000</td>\n",
       "      <td>0.060511</td>\n",
       "      <td>-0.105223</td>\n",
       "      <td>-0.009873</td>\n",
       "      <td>0.010002</td>\n",
       "      <td>-0.003866</td>\n",
       "      <td>-0.007464</td>\n",
       "      <td>0.018171</td>\n",
       "      <td>0.001045</td>\n",
       "      <td>0.004612</td>\n",
       "      <td>0.001571</td>\n",
       "      <td>0.000179</td>\n",
       "      <td>0.008889</td>\n",
       "      <td>-0.001618</td>\n",
       "      <td>0.209436</td>\n",
       "    </tr>\n",
       "    <tr>\n",
       "      <th>Term</th>\n",
       "      <td>-0.003251</td>\n",
       "      <td>0.060511</td>\n",
       "      <td>1.000000</td>\n",
       "      <td>-0.041236</td>\n",
       "      <td>0.117121</td>\n",
       "      <td>-0.069488</td>\n",
       "      <td>0.056910</td>\n",
       "      <td>-0.159331</td>\n",
       "      <td>-0.036304</td>\n",
       "      <td>-0.078650</td>\n",
       "      <td>0.021511</td>\n",
       "      <td>-0.106202</td>\n",
       "      <td>-0.006590</td>\n",
       "      <td>0.028545</td>\n",
       "      <td>-0.001153</td>\n",
       "      <td>0.123478</td>\n",
       "    </tr>\n",
       "    <tr>\n",
       "      <th>Credit.Score</th>\n",
       "      <td>0.006135</td>\n",
       "      <td>-0.105223</td>\n",
       "      <td>-0.041236</td>\n",
       "      <td>1.000000</td>\n",
       "      <td>0.029745</td>\n",
       "      <td>-0.011980</td>\n",
       "      <td>-0.014699</td>\n",
       "      <td>-0.002713</td>\n",
       "      <td>-0.019568</td>\n",
       "      <td>0.002984</td>\n",
       "      <td>-0.001764</td>\n",
       "      <td>-0.006530</td>\n",
       "      <td>-0.005418</td>\n",
       "      <td>-0.008169</td>\n",
       "      <td>0.010064</td>\n",
       "      <td>-0.461375</td>\n",
       "    </tr>\n",
       "    <tr>\n",
       "      <th>Home.Ownership</th>\n",
       "      <td>0.001170</td>\n",
       "      <td>-0.009873</td>\n",
       "      <td>0.117121</td>\n",
       "      <td>0.029745</td>\n",
       "      <td>1.000000</td>\n",
       "      <td>-0.141446</td>\n",
       "      <td>0.044083</td>\n",
       "      <td>-0.206417</td>\n",
       "      <td>-0.196590</td>\n",
       "      <td>-0.141449</td>\n",
       "      <td>-0.003527</td>\n",
       "      <td>-0.173279</td>\n",
       "      <td>-0.042010</td>\n",
       "      <td>0.003192</td>\n",
       "      <td>-0.005605</td>\n",
       "      <td>-0.054586</td>\n",
       "    </tr>\n",
       "    <tr>\n",
       "      <th>Annual.Income</th>\n",
       "      <td>0.005280</td>\n",
       "      <td>0.010002</td>\n",
       "      <td>-0.069488</td>\n",
       "      <td>-0.011980</td>\n",
       "      <td>-0.141446</td>\n",
       "      <td>1.000000</td>\n",
       "      <td>0.002309</td>\n",
       "      <td>0.389873</td>\n",
       "      <td>0.127342</td>\n",
       "      <td>0.117970</td>\n",
       "      <td>-0.015037</td>\n",
       "      <td>0.255597</td>\n",
       "      <td>0.053530</td>\n",
       "      <td>-0.040135</td>\n",
       "      <td>0.031292</td>\n",
       "      <td>0.040702</td>\n",
       "    </tr>\n",
       "    <tr>\n",
       "      <th>Purpose</th>\n",
       "      <td>0.006854</td>\n",
       "      <td>-0.003866</td>\n",
       "      <td>0.056910</td>\n",
       "      <td>-0.014699</td>\n",
       "      <td>0.044083</td>\n",
       "      <td>0.002309</td>\n",
       "      <td>1.000000</td>\n",
       "      <td>-0.102365</td>\n",
       "      <td>-0.026703</td>\n",
       "      <td>-0.111277</td>\n",
       "      <td>-0.004012</td>\n",
       "      <td>-0.084194</td>\n",
       "      <td>0.004990</td>\n",
       "      <td>-0.015117</td>\n",
       "      <td>0.001767</td>\n",
       "      <td>0.003284</td>\n",
       "    </tr>\n",
       "    <tr>\n",
       "      <th>Monthly.Debt</th>\n",
       "      <td>0.003932</td>\n",
       "      <td>-0.007464</td>\n",
       "      <td>-0.159331</td>\n",
       "      <td>-0.002713</td>\n",
       "      <td>-0.206417</td>\n",
       "      <td>0.389873</td>\n",
       "      <td>-0.102365</td>\n",
       "      <td>1.000000</td>\n",
       "      <td>0.198528</td>\n",
       "      <td>0.411829</td>\n",
       "      <td>-0.057784</td>\n",
       "      <td>0.487853</td>\n",
       "      <td>0.063082</td>\n",
       "      <td>-0.077685</td>\n",
       "      <td>0.015246</td>\n",
       "      <td>-0.009794</td>\n",
       "    </tr>\n",
       "    <tr>\n",
       "      <th>Years.of.Credit.History</th>\n",
       "      <td>0.001031</td>\n",
       "      <td>0.018171</td>\n",
       "      <td>-0.036304</td>\n",
       "      <td>-0.019568</td>\n",
       "      <td>-0.196590</td>\n",
       "      <td>0.127342</td>\n",
       "      <td>-0.026703</td>\n",
       "      <td>0.198528</td>\n",
       "      <td>1.000000</td>\n",
       "      <td>0.129628</td>\n",
       "      <td>0.060772</td>\n",
       "      <td>0.211815</td>\n",
       "      <td>0.047293</td>\n",
       "      <td>0.068539</td>\n",
       "      <td>0.015054</td>\n",
       "      <td>0.030603</td>\n",
       "    </tr>\n",
       "    <tr>\n",
       "      <th>Number.of.Open.Accounts</th>\n",
       "      <td>0.000551</td>\n",
       "      <td>0.001045</td>\n",
       "      <td>-0.078650</td>\n",
       "      <td>0.002984</td>\n",
       "      <td>-0.141449</td>\n",
       "      <td>0.117970</td>\n",
       "      <td>-0.111277</td>\n",
       "      <td>0.411829</td>\n",
       "      <td>0.129628</td>\n",
       "      <td>1.000000</td>\n",
       "      <td>-0.016702</td>\n",
       "      <td>0.227288</td>\n",
       "      <td>0.046539</td>\n",
       "      <td>-0.025044</td>\n",
       "      <td>0.006448</td>\n",
       "      <td>-0.016107</td>\n",
       "    </tr>\n",
       "    <tr>\n",
       "      <th>Number.of.Credit.Problems</th>\n",
       "      <td>0.005857</td>\n",
       "      <td>0.004612</td>\n",
       "      <td>0.021511</td>\n",
       "      <td>-0.001764</td>\n",
       "      <td>-0.003527</td>\n",
       "      <td>-0.015037</td>\n",
       "      <td>-0.004012</td>\n",
       "      <td>-0.057784</td>\n",
       "      <td>0.060772</td>\n",
       "      <td>-0.016702</td>\n",
       "      <td>1.000000</td>\n",
       "      <td>-0.116483</td>\n",
       "      <td>-0.019176</td>\n",
       "      <td>0.749123</td>\n",
       "      <td>0.582491</td>\n",
       "      <td>0.000712</td>\n",
       "    </tr>\n",
       "    <tr>\n",
       "      <th>Current.Credit.Balance</th>\n",
       "      <td>0.001403</td>\n",
       "      <td>0.001571</td>\n",
       "      <td>-0.106202</td>\n",
       "      <td>-0.006530</td>\n",
       "      <td>-0.173279</td>\n",
       "      <td>0.255597</td>\n",
       "      <td>-0.084194</td>\n",
       "      <td>0.487853</td>\n",
       "      <td>0.211815</td>\n",
       "      <td>0.227288</td>\n",
       "      <td>-0.116483</td>\n",
       "      <td>1.000000</td>\n",
       "      <td>0.196007</td>\n",
       "      <td>-0.125526</td>\n",
       "      <td>-0.018502</td>\n",
       "      <td>0.010737</td>\n",
       "    </tr>\n",
       "    <tr>\n",
       "      <th>Maximum.Open.Credit</th>\n",
       "      <td>0.008172</td>\n",
       "      <td>0.000179</td>\n",
       "      <td>-0.006590</td>\n",
       "      <td>-0.005418</td>\n",
       "      <td>-0.042010</td>\n",
       "      <td>0.053530</td>\n",
       "      <td>0.004990</td>\n",
       "      <td>0.063082</td>\n",
       "      <td>0.047293</td>\n",
       "      <td>0.046539</td>\n",
       "      <td>-0.019176</td>\n",
       "      <td>0.196007</td>\n",
       "      <td>1.000000</td>\n",
       "      <td>-0.023518</td>\n",
       "      <td>-0.003955</td>\n",
       "      <td>0.009187</td>\n",
       "    </tr>\n",
       "    <tr>\n",
       "      <th>Bankruptcies</th>\n",
       "      <td>0.003460</td>\n",
       "      <td>0.008889</td>\n",
       "      <td>0.028545</td>\n",
       "      <td>-0.008169</td>\n",
       "      <td>0.003192</td>\n",
       "      <td>-0.040135</td>\n",
       "      <td>-0.015117</td>\n",
       "      <td>-0.077685</td>\n",
       "      <td>0.068539</td>\n",
       "      <td>-0.025044</td>\n",
       "      <td>0.749123</td>\n",
       "      <td>-0.125526</td>\n",
       "      <td>-0.023518</td>\n",
       "      <td>1.000000</td>\n",
       "      <td>0.048697</td>\n",
       "      <td>0.011649</td>\n",
       "    </tr>\n",
       "    <tr>\n",
       "      <th>Tax.Liens</th>\n",
       "      <td>0.000274</td>\n",
       "      <td>-0.001618</td>\n",
       "      <td>-0.001153</td>\n",
       "      <td>0.010064</td>\n",
       "      <td>-0.005605</td>\n",
       "      <td>0.031292</td>\n",
       "      <td>0.001767</td>\n",
       "      <td>0.015246</td>\n",
       "      <td>0.015054</td>\n",
       "      <td>0.006448</td>\n",
       "      <td>0.582491</td>\n",
       "      <td>-0.018502</td>\n",
       "      <td>-0.003955</td>\n",
       "      <td>0.048697</td>\n",
       "      <td>1.000000</td>\n",
       "      <td>-0.013365</td>\n",
       "    </tr>\n",
       "    <tr>\n",
       "      <th>Loan.Status</th>\n",
       "      <td>0.004946</td>\n",
       "      <td>0.209436</td>\n",
       "      <td>0.123478</td>\n",
       "      <td>-0.461375</td>\n",
       "      <td>-0.054586</td>\n",
       "      <td>0.040702</td>\n",
       "      <td>0.003284</td>\n",
       "      <td>-0.009794</td>\n",
       "      <td>0.030603</td>\n",
       "      <td>-0.016107</td>\n",
       "      <td>0.000712</td>\n",
       "      <td>0.010737</td>\n",
       "      <td>0.009187</td>\n",
       "      <td>0.011649</td>\n",
       "      <td>-0.013365</td>\n",
       "      <td>1.000000</td>\n",
       "    </tr>\n",
       "  </tbody>\n",
       "</table>\n",
       "</div>"
      ],
      "text/plain": [
       "                            Loan.ID  Current.Loan.Amount      Term  \\\n",
       "Loan.ID                    1.000000             0.000936 -0.003251   \n",
       "Current.Loan.Amount        0.000936             1.000000  0.060511   \n",
       "Term                      -0.003251             0.060511  1.000000   \n",
       "Credit.Score               0.006135            -0.105223 -0.041236   \n",
       "Home.Ownership             0.001170            -0.009873  0.117121   \n",
       "Annual.Income              0.005280             0.010002 -0.069488   \n",
       "Purpose                    0.006854            -0.003866  0.056910   \n",
       "Monthly.Debt               0.003932            -0.007464 -0.159331   \n",
       "Years.of.Credit.History    0.001031             0.018171 -0.036304   \n",
       "Number.of.Open.Accounts    0.000551             0.001045 -0.078650   \n",
       "Number.of.Credit.Problems  0.005857             0.004612  0.021511   \n",
       "Current.Credit.Balance     0.001403             0.001571 -0.106202   \n",
       "Maximum.Open.Credit        0.008172             0.000179 -0.006590   \n",
       "Bankruptcies               0.003460             0.008889  0.028545   \n",
       "Tax.Liens                  0.000274            -0.001618 -0.001153   \n",
       "Loan.Status                0.004946             0.209436  0.123478   \n",
       "\n",
       "                           Credit.Score  Home.Ownership  Annual.Income  \\\n",
       "Loan.ID                        0.006135        0.001170       0.005280   \n",
       "Current.Loan.Amount           -0.105223       -0.009873       0.010002   \n",
       "Term                          -0.041236        0.117121      -0.069488   \n",
       "Credit.Score                   1.000000        0.029745      -0.011980   \n",
       "Home.Ownership                 0.029745        1.000000      -0.141446   \n",
       "Annual.Income                 -0.011980       -0.141446       1.000000   \n",
       "Purpose                       -0.014699        0.044083       0.002309   \n",
       "Monthly.Debt                  -0.002713       -0.206417       0.389873   \n",
       "Years.of.Credit.History       -0.019568       -0.196590       0.127342   \n",
       "Number.of.Open.Accounts        0.002984       -0.141449       0.117970   \n",
       "Number.of.Credit.Problems     -0.001764       -0.003527      -0.015037   \n",
       "Current.Credit.Balance        -0.006530       -0.173279       0.255597   \n",
       "Maximum.Open.Credit           -0.005418       -0.042010       0.053530   \n",
       "Bankruptcies                  -0.008169        0.003192      -0.040135   \n",
       "Tax.Liens                      0.010064       -0.005605       0.031292   \n",
       "Loan.Status                   -0.461375       -0.054586       0.040702   \n",
       "\n",
       "                            Purpose  Monthly.Debt  Years.of.Credit.History  \\\n",
       "Loan.ID                    0.006854      0.003932                 0.001031   \n",
       "Current.Loan.Amount       -0.003866     -0.007464                 0.018171   \n",
       "Term                       0.056910     -0.159331                -0.036304   \n",
       "Credit.Score              -0.014699     -0.002713                -0.019568   \n",
       "Home.Ownership             0.044083     -0.206417                -0.196590   \n",
       "Annual.Income              0.002309      0.389873                 0.127342   \n",
       "Purpose                    1.000000     -0.102365                -0.026703   \n",
       "Monthly.Debt              -0.102365      1.000000                 0.198528   \n",
       "Years.of.Credit.History   -0.026703      0.198528                 1.000000   \n",
       "Number.of.Open.Accounts   -0.111277      0.411829                 0.129628   \n",
       "Number.of.Credit.Problems -0.004012     -0.057784                 0.060772   \n",
       "Current.Credit.Balance    -0.084194      0.487853                 0.211815   \n",
       "Maximum.Open.Credit        0.004990      0.063082                 0.047293   \n",
       "Bankruptcies              -0.015117     -0.077685                 0.068539   \n",
       "Tax.Liens                  0.001767      0.015246                 0.015054   \n",
       "Loan.Status                0.003284     -0.009794                 0.030603   \n",
       "\n",
       "                           Number.of.Open.Accounts  Number.of.Credit.Problems  \\\n",
       "Loan.ID                                   0.000551                   0.005857   \n",
       "Current.Loan.Amount                       0.001045                   0.004612   \n",
       "Term                                     -0.078650                   0.021511   \n",
       "Credit.Score                              0.002984                  -0.001764   \n",
       "Home.Ownership                           -0.141449                  -0.003527   \n",
       "Annual.Income                             0.117970                  -0.015037   \n",
       "Purpose                                  -0.111277                  -0.004012   \n",
       "Monthly.Debt                              0.411829                  -0.057784   \n",
       "Years.of.Credit.History                   0.129628                   0.060772   \n",
       "Number.of.Open.Accounts                   1.000000                  -0.016702   \n",
       "Number.of.Credit.Problems                -0.016702                   1.000000   \n",
       "Current.Credit.Balance                    0.227288                  -0.116483   \n",
       "Maximum.Open.Credit                       0.046539                  -0.019176   \n",
       "Bankruptcies                             -0.025044                   0.749123   \n",
       "Tax.Liens                                 0.006448                   0.582491   \n",
       "Loan.Status                              -0.016107                   0.000712   \n",
       "\n",
       "                           Current.Credit.Balance  Maximum.Open.Credit  \\\n",
       "Loan.ID                                  0.001403             0.008172   \n",
       "Current.Loan.Amount                      0.001571             0.000179   \n",
       "Term                                    -0.106202            -0.006590   \n",
       "Credit.Score                            -0.006530            -0.005418   \n",
       "Home.Ownership                          -0.173279            -0.042010   \n",
       "Annual.Income                            0.255597             0.053530   \n",
       "Purpose                                 -0.084194             0.004990   \n",
       "Monthly.Debt                             0.487853             0.063082   \n",
       "Years.of.Credit.History                  0.211815             0.047293   \n",
       "Number.of.Open.Accounts                  0.227288             0.046539   \n",
       "Number.of.Credit.Problems               -0.116483            -0.019176   \n",
       "Current.Credit.Balance                   1.000000             0.196007   \n",
       "Maximum.Open.Credit                      0.196007             1.000000   \n",
       "Bankruptcies                            -0.125526            -0.023518   \n",
       "Tax.Liens                               -0.018502            -0.003955   \n",
       "Loan.Status                              0.010737             0.009187   \n",
       "\n",
       "                           Bankruptcies  Tax.Liens  Loan.Status  \n",
       "Loan.ID                        0.003460   0.000274     0.004946  \n",
       "Current.Loan.Amount            0.008889  -0.001618     0.209436  \n",
       "Term                           0.028545  -0.001153     0.123478  \n",
       "Credit.Score                  -0.008169   0.010064    -0.461375  \n",
       "Home.Ownership                 0.003192  -0.005605    -0.054586  \n",
       "Annual.Income                 -0.040135   0.031292     0.040702  \n",
       "Purpose                       -0.015117   0.001767     0.003284  \n",
       "Monthly.Debt                  -0.077685   0.015246    -0.009794  \n",
       "Years.of.Credit.History        0.068539   0.015054     0.030603  \n",
       "Number.of.Open.Accounts       -0.025044   0.006448    -0.016107  \n",
       "Number.of.Credit.Problems      0.749123   0.582491     0.000712  \n",
       "Current.Credit.Balance        -0.125526  -0.018502     0.010737  \n",
       "Maximum.Open.Credit           -0.023518  -0.003955     0.009187  \n",
       "Bankruptcies                   1.000000   0.048697     0.011649  \n",
       "Tax.Liens                      0.048697   1.000000    -0.013365  \n",
       "Loan.Status                    0.011649  -0.013365     1.000000  "
      ]
     },
     "execution_count": 174,
     "metadata": {},
     "output_type": "execute_result"
    }
   ],
   "source": [
    "df.corr()"
   ]
  },
  {
   "cell_type": "code",
   "execution_count": 175,
   "metadata": {},
   "outputs": [],
   "source": [
    "df['Years_in_job'].fillna(1, inplace = True)"
   ]
  },
  {
   "cell_type": "code",
   "execution_count": 176,
   "metadata": {},
   "outputs": [
    {
     "data": {
      "text/plain": [
       "Loan.ID                          0\n",
       "Current.Loan.Amount              0\n",
       "Term                             0\n",
       "Credit.Score                 12229\n",
       "Home.Ownership                   0\n",
       "Annual.Income                    0\n",
       "Purpose                          0\n",
       "Monthly.Debt                     0\n",
       "Years.of.Credit.History          0\n",
       "Number.of.Open.Accounts          0\n",
       "Number.of.Credit.Problems        0\n",
       "Current.Credit.Balance           0\n",
       "Maximum.Open.Credit              0\n",
       "Bankruptcies                     0\n",
       "Tax.Liens                        0\n",
       "Loan.Status                      0\n",
       "Years_in_job                     0\n",
       "Credit_Score_Cat                 0\n",
       "dtype: int64"
      ]
     },
     "execution_count": 176,
     "metadata": {},
     "output_type": "execute_result"
    }
   ],
   "source": [
    "df.isnull().sum()"
   ]
  },
  {
   "cell_type": "code",
   "execution_count": 177,
   "metadata": {},
   "outputs": [],
   "source": [
    "df.drop(['Credit.Score'], axis = 1, inplace = True)\n",
    "df.drop(['Loan.ID'], axis = 1, inplace = True)"
   ]
  },
  {
   "cell_type": "code",
   "execution_count": 178,
   "metadata": {},
   "outputs": [
    {
     "data": {
      "text/html": [
       "<div>\n",
       "<style scoped>\n",
       "    .dataframe tbody tr th:only-of-type {\n",
       "        vertical-align: middle;\n",
       "    }\n",
       "\n",
       "    .dataframe tbody tr th {\n",
       "        vertical-align: top;\n",
       "    }\n",
       "\n",
       "    .dataframe thead th {\n",
       "        text-align: right;\n",
       "    }\n",
       "</style>\n",
       "<table border=\"1\" class=\"dataframe\">\n",
       "  <thead>\n",
       "    <tr style=\"text-align: right;\">\n",
       "      <th></th>\n",
       "      <th>Current.Loan.Amount</th>\n",
       "      <th>Term</th>\n",
       "      <th>Home.Ownership</th>\n",
       "      <th>Annual.Income</th>\n",
       "      <th>Purpose</th>\n",
       "      <th>Monthly.Debt</th>\n",
       "      <th>Years.of.Credit.History</th>\n",
       "      <th>Number.of.Open.Accounts</th>\n",
       "      <th>Number.of.Credit.Problems</th>\n",
       "      <th>Current.Credit.Balance</th>\n",
       "      <th>Maximum.Open.Credit</th>\n",
       "      <th>Bankruptcies</th>\n",
       "      <th>Tax.Liens</th>\n",
       "      <th>Loan.Status</th>\n",
       "      <th>Years_in_job</th>\n",
       "      <th>Credit_Score_Cat</th>\n",
       "    </tr>\n",
       "  </thead>\n",
       "  <tbody>\n",
       "    <tr>\n",
       "      <th>0</th>\n",
       "      <td>17879</td>\n",
       "      <td>1</td>\n",
       "      <td>1</td>\n",
       "      <td>95357.0</td>\n",
       "      <td>0</td>\n",
       "      <td>1509.82</td>\n",
       "      <td>34.4</td>\n",
       "      <td>26</td>\n",
       "      <td>0</td>\n",
       "      <td>23986</td>\n",
       "      <td>40313</td>\n",
       "      <td>0.0</td>\n",
       "      <td>0.0</td>\n",
       "      <td>1</td>\n",
       "      <td>6</td>\n",
       "      <td>Good</td>\n",
       "    </tr>\n",
       "    <tr>\n",
       "      <th>1</th>\n",
       "      <td>99999999</td>\n",
       "      <td>0</td>\n",
       "      <td>3</td>\n",
       "      <td>54406.0</td>\n",
       "      <td>0</td>\n",
       "      <td>1065.45</td>\n",
       "      <td>12.7</td>\n",
       "      <td>8</td>\n",
       "      <td>0</td>\n",
       "      <td>22938</td>\n",
       "      <td>31250</td>\n",
       "      <td>0.0</td>\n",
       "      <td>0.0</td>\n",
       "      <td>1</td>\n",
       "      <td>6</td>\n",
       "      <td>Fair</td>\n",
       "    </tr>\n",
       "    <tr>\n",
       "      <th>2</th>\n",
       "      <td>99999999</td>\n",
       "      <td>1</td>\n",
       "      <td>3</td>\n",
       "      <td>40480.0</td>\n",
       "      <td>2</td>\n",
       "      <td>573.47</td>\n",
       "      <td>32.7</td>\n",
       "      <td>9</td>\n",
       "      <td>1</td>\n",
       "      <td>3963</td>\n",
       "      <td>5669</td>\n",
       "      <td>1.0</td>\n",
       "      <td>0.0</td>\n",
       "      <td>1</td>\n",
       "      <td>0</td>\n",
       "      <td>Good</td>\n",
       "    </tr>\n",
       "    <tr>\n",
       "      <th>3</th>\n",
       "      <td>11200</td>\n",
       "      <td>1</td>\n",
       "      <td>3</td>\n",
       "      <td>53965.0</td>\n",
       "      <td>0</td>\n",
       "      <td>1358.11</td>\n",
       "      <td>15.8</td>\n",
       "      <td>8</td>\n",
       "      <td>1</td>\n",
       "      <td>11782</td>\n",
       "      <td>25951</td>\n",
       "      <td>1.0</td>\n",
       "      <td>0.0</td>\n",
       "      <td>1</td>\n",
       "      <td>4</td>\n",
       "      <td>Good</td>\n",
       "    </tr>\n",
       "    <tr>\n",
       "      <th>4</th>\n",
       "      <td>3608</td>\n",
       "      <td>1</td>\n",
       "      <td>1</td>\n",
       "      <td>47709.0</td>\n",
       "      <td>1</td>\n",
       "      <td>339.93</td>\n",
       "      <td>16.1</td>\n",
       "      <td>6</td>\n",
       "      <td>0</td>\n",
       "      <td>22909</td>\n",
       "      <td>25568</td>\n",
       "      <td>0.0</td>\n",
       "      <td>0.0</td>\n",
       "      <td>1</td>\n",
       "      <td>10</td>\n",
       "      <td>Good</td>\n",
       "    </tr>\n",
       "  </tbody>\n",
       "</table>\n",
       "</div>"
      ],
      "text/plain": [
       "   Current.Loan.Amount  Term  Home.Ownership  Annual.Income  Purpose  \\\n",
       "0                17879     1               1        95357.0        0   \n",
       "1             99999999     0               3        54406.0        0   \n",
       "2             99999999     1               3        40480.0        2   \n",
       "3                11200     1               3        53965.0        0   \n",
       "4                 3608     1               1        47709.0        1   \n",
       "\n",
       "   Monthly.Debt  Years.of.Credit.History  Number.of.Open.Accounts  \\\n",
       "0       1509.82                     34.4                       26   \n",
       "1       1065.45                     12.7                        8   \n",
       "2        573.47                     32.7                        9   \n",
       "3       1358.11                     15.8                        8   \n",
       "4        339.93                     16.1                        6   \n",
       "\n",
       "   Number.of.Credit.Problems  Current.Credit.Balance  Maximum.Open.Credit  \\\n",
       "0                          0                   23986                40313   \n",
       "1                          0                   22938                31250   \n",
       "2                          1                    3963                 5669   \n",
       "3                          1                   11782                25951   \n",
       "4                          0                   22909                25568   \n",
       "\n",
       "   Bankruptcies  Tax.Liens  Loan.Status Years_in_job Credit_Score_Cat  \n",
       "0           0.0        0.0            1            6             Good  \n",
       "1           0.0        0.0            1            6             Fair  \n",
       "2           1.0        0.0            1            0             Good  \n",
       "3           1.0        0.0            1            4             Good  \n",
       "4           0.0        0.0            1           10             Good  "
      ]
     },
     "execution_count": 178,
     "metadata": {},
     "output_type": "execute_result"
    }
   ],
   "source": [
    "df.head()"
   ]
  },
  {
   "cell_type": "code",
   "execution_count": 179,
   "metadata": {},
   "outputs": [
    {
     "data": {
      "text/plain": [
       "0         6\n",
       "1         6\n",
       "2         0\n",
       "3         4\n",
       "4        10\n",
       "         ..\n",
       "60799     3\n",
       "60800     3\n",
       "60801     5\n",
       "60802     9\n",
       "60803     8\n",
       "Name: Years_in_job, Length: 60804, dtype: int32"
      ]
     },
     "execution_count": 179,
     "metadata": {},
     "output_type": "execute_result"
    }
   ],
   "source": [
    "df['Years_in_job'].astype(str).astype(int)"
   ]
  },
  {
   "cell_type": "code",
   "execution_count": 180,
   "metadata": {},
   "outputs": [],
   "source": [
    "df = pd.get_dummies(df, columns=['Credit_Score_Cat'], prefix = ['Credit_Score_Cat'])"
   ]
  },
  {
   "cell_type": "code",
   "execution_count": 181,
   "metadata": {},
   "outputs": [],
   "source": [
    "df.drop(['Credit_Score_Cat_Fair'], axis = 1,  inplace = True)"
   ]
  },
  {
   "cell_type": "code",
   "execution_count": 182,
   "metadata": {},
   "outputs": [],
   "source": [
    "from sklearn.model_selection import train_test_split"
   ]
  },
  {
   "cell_type": "code",
   "execution_count": 183,
   "metadata": {},
   "outputs": [
    {
     "data": {
      "text/plain": [
       "Index(['Current.Loan.Amount', 'Term', 'Home.Ownership', 'Annual.Income',\n",
       "       'Purpose', 'Monthly.Debt', 'Years.of.Credit.History',\n",
       "       'Number.of.Open.Accounts', 'Number.of.Credit.Problems',\n",
       "       'Current.Credit.Balance', 'Maximum.Open.Credit', 'Bankruptcies',\n",
       "       'Tax.Liens', 'Loan.Status', 'Years_in_job', 'Credit_Score_Cat_Good',\n",
       "       'Credit_Score_Cat_Very Good', 'Credit_Score_Cat_Poor'],\n",
       "      dtype='object')"
      ]
     },
     "execution_count": 183,
     "metadata": {},
     "output_type": "execute_result"
    }
   ],
   "source": [
    "df.columns"
   ]
  },
  {
   "cell_type": "code",
   "execution_count": 184,
   "metadata": {},
   "outputs": [],
   "source": [
    "X_label = ['Current.Loan.Amount', 'Term', 'Home.Ownership', 'Annual.Income',\n",
    "       'Purpose', 'Monthly.Debt', 'Years.of.Credit.History',\n",
    "       'Number.of.Open.Accounts', 'Number.of.Credit.Problems',\n",
    "       'Current.Credit.Balance', 'Maximum.Open.Credit', 'Bankruptcies',\n",
    "       'Tax.Liens', 'Years_in_job', 'Credit_Score_Cat_Good',\n",
    "       'Credit_Score_Cat_Very Good', 'Credit_Score_Cat_Poor']"
   ]
  },
  {
   "cell_type": "code",
   "execution_count": 185,
   "metadata": {},
   "outputs": [],
   "source": [
    "y_label = ['Loan.Status']"
   ]
  },
  {
   "cell_type": "code",
   "execution_count": 186,
   "metadata": {},
   "outputs": [],
   "source": [
    "X = df[X_label]"
   ]
  },
  {
   "cell_type": "code",
   "execution_count": 187,
   "metadata": {},
   "outputs": [],
   "source": [
    "y = df[y_label]"
   ]
  },
  {
   "cell_type": "code",
   "execution_count": 188,
   "metadata": {},
   "outputs": [],
   "source": [
    "X_train, X_test, y_train, y_test = train_test_split(X, y, test_size=0.2, random_state=42)"
   ]
  },
  {
   "cell_type": "code",
   "execution_count": 189,
   "metadata": {},
   "outputs": [],
   "source": [
    "from sklearn.ensemble import RandomForestClassifier\n",
    "\n",
    "clf=RandomForestClassifier(random_state = 1111)\n"
   ]
  },
  {
   "cell_type": "code",
   "execution_count": 190,
   "metadata": {},
   "outputs": [
    {
     "name": "stderr",
     "output_type": "stream",
     "text": [
      "C:\\Users\\LENOVO\\anaconda3\\lib\\site-packages\\ipykernel_launcher.py:1: DataConversionWarning: A column-vector y was passed when a 1d array was expected. Please change the shape of y to (n_samples,), for example using ravel().\n",
      "  \"\"\"Entry point for launching an IPython kernel.\n"
     ]
    },
    {
     "data": {
      "text/plain": [
       "RandomForestClassifier(bootstrap=True, ccp_alpha=0.0, class_weight=None,\n",
       "                       criterion='gini', max_depth=None, max_features='auto',\n",
       "                       max_leaf_nodes=None, max_samples=None,\n",
       "                       min_impurity_decrease=0.0, min_impurity_split=None,\n",
       "                       min_samples_leaf=1, min_samples_split=2,\n",
       "                       min_weight_fraction_leaf=0.0, n_estimators=100,\n",
       "                       n_jobs=None, oob_score=False, random_state=1111,\n",
       "                       verbose=0, warm_start=False)"
      ]
     },
     "execution_count": 190,
     "metadata": {},
     "output_type": "execute_result"
    }
   ],
   "source": [
    "clf.fit(X_train,y_train)"
   ]
  },
  {
   "cell_type": "code",
   "execution_count": 191,
   "metadata": {},
   "outputs": [],
   "source": [
    "y_pred = clf.predict(X_test)"
   ]
  },
  {
   "cell_type": "code",
   "execution_count": 192,
   "metadata": {},
   "outputs": [
    {
     "name": "stdout",
     "output_type": "stream",
     "text": [
      "Accuracy: 0.8137488693364032\n"
     ]
    }
   ],
   "source": [
    "from sklearn import metrics\n",
    "# Model Accuracy, how often is the classifier correct?\n",
    "print(\"Accuracy:\",metrics.accuracy_score(y_test, y_pred))"
   ]
  },
  {
   "cell_type": "code",
   "execution_count": 264,
   "metadata": {},
   "outputs": [
    {
     "name": "stdout",
     "output_type": "stream",
     "text": [
      "{'n_estimators': [200, 400, 600, 800, 1000, 1200, 1400, 1600, 1800, 2000], 'max_features': ['auto', 'sqrt'], 'max_depth': [10, 20, 30, 40, 50, 60, 70, 80, 90, 100, 110, None], 'min_samples_split': [2, 5, 10], 'min_samples_leaf': [1, 2, 4], 'bootstrap': [True, False]}\n"
     ]
    },
    {
     "data": {
      "text/plain": [
       "{'bootstrap': [True, False],\n",
       " 'max_depth': [5, 10, 20],\n",
       " 'max_features': ['auto'],\n",
       " 'min_samples_leaf': [1, 2, 4],\n",
       " 'min_samples_split': [2, 5, 10],\n",
       " 'n_estimators': [600, 800, 1400, 1800]}"
      ]
     },
     "execution_count": 264,
     "metadata": {},
     "output_type": "execute_result"
    }
   ],
   "source": [
    "from sklearn.model_selection import RandomizedSearchCV\n",
    "# Number of trees in random forest\n",
    "n_estimators = [int(x) for x in np.linspace(start = 200, stop = 2000, num = 10)]\n",
    "# Number of features to consider at every split\n",
    "max_features = ['auto', 'sqrt']\n",
    "# Maximum number of levels in tree\n",
    "max_depth = [int(x) for x in np.linspace(10, 110, num = 11)]\n",
    "max_depth.append(None)\n",
    "# Minimum number of samples required to split a node\n",
    "min_samples_split = [2, 5, 10]\n",
    "# Minimum number of samples required at each leaf node\n",
    "min_samples_leaf = [1, 2, 4]\n",
    "# Method of selecting samples for training each tree\n",
    "bootstrap = [True, False]\n",
    "# Create the random grid\n",
    "random_grid = {'n_estimators': n_estimators,\n",
    "               'max_features': max_features,\n",
    "               'max_depth': max_depth,\n",
    "               'min_samples_split': min_samples_split,\n",
    "               'min_samples_leaf': min_samples_leaf,\n",
    "               'bootstrap': bootstrap}\n",
    "print(random_grid)\n",
    "{'bootstrap': [True, False],\n",
    " 'max_depth': [5, 10, 20],\n",
    " 'max_features': ['auto'],\n",
    " 'min_samples_leaf': [1, 2, 4],\n",
    " 'min_samples_split': [2, 5, 10],\n",
    " 'n_estimators': [600, 800,1400, 1800]}"
   ]
  },
  {
   "cell_type": "code",
   "execution_count": null,
   "metadata": {},
   "outputs": [
    {
     "name": "stdout",
     "output_type": "stream",
     "text": [
      "Fitting 3 folds for each of 10 candidates, totalling 30 fits\n"
     ]
    },
    {
     "name": "stderr",
     "output_type": "stream",
     "text": [
      "[Parallel(n_jobs=-1)]: Using backend LokyBackend with 4 concurrent workers.\n",
      "C:\\Users\\LENOVO\\anaconda3\\lib\\site-packages\\joblib\\externals\\loky\\process_executor.py:706: UserWarning: A worker stopped while some jobs were given to the executor. This can be caused by a too short worker timeout or by a memory leak.\n",
      "  \"timeout or by a memory leak.\", UserWarning\n"
     ]
    }
   ],
   "source": [
    "# Use the random grid to search for best hyperparameters\n",
    "# First create the base model to tune\n",
    "rf = RandomForestClassifier()\n",
    "# Random search of parameters, using 3 fold      cross validation, \n",
    "# search across 100 different combinations, and use all available cores\n",
    "rf_random = RandomizedSearchCV(estimator = rf, param_distributions = random_grid, n_iter = 10, cv = 3, verbose=2, random_state=42, n_jobs = -1)\n",
    "# Fit the random search model\n",
    "rf_random.fit(X_train, y_train)"
   ]
  },
  {
   "cell_type": "code",
   "execution_count": 195,
   "metadata": {},
   "outputs": [
    {
     "data": {
      "text/plain": [
       "'rf_random.best_params_\\n'"
      ]
     },
     "execution_count": 195,
     "metadata": {},
     "output_type": "execute_result"
    }
   ],
   "source": [
    "rf_random.best_params_\n"
   ]
  },
  {
   "cell_type": "code",
   "execution_count": 208,
   "metadata": {},
   "outputs": [],
   "source": [
    "rf_best_cv = RandomForestClassifier(n_estimators = 1500, min_samples_split = 5, min_samples_leaf = 1, max_features = 'sqrt', max_depth = 50, bootstrap = True, random_state = 42 )"
   ]
  },
  {
   "cell_type": "code",
   "execution_count": 209,
   "metadata": {},
   "outputs": [
    {
     "name": "stderr",
     "output_type": "stream",
     "text": [
      "C:\\Users\\LENOVO\\anaconda3\\lib\\site-packages\\ipykernel_launcher.py:1: DataConversionWarning: A column-vector y was passed when a 1d array was expected. Please change the shape of y to (n_samples,), for example using ravel().\n",
      "  \"\"\"Entry point for launching an IPython kernel.\n"
     ]
    },
    {
     "data": {
      "text/plain": [
       "RandomForestClassifier(bootstrap=True, ccp_alpha=0.0, class_weight=None,\n",
       "                       criterion='gini', max_depth=50, max_features='sqrt',\n",
       "                       max_leaf_nodes=None, max_samples=None,\n",
       "                       min_impurity_decrease=0.0, min_impurity_split=None,\n",
       "                       min_samples_leaf=1, min_samples_split=5,\n",
       "                       min_weight_fraction_leaf=0.0, n_estimators=1500,\n",
       "                       n_jobs=None, oob_score=False, random_state=42, verbose=0,\n",
       "                       warm_start=False)"
      ]
     },
     "execution_count": 209,
     "metadata": {},
     "output_type": "execute_result"
    }
   ],
   "source": [
    "rf_best_cv.fit(X_train, y_train)"
   ]
  },
  {
   "cell_type": "code",
   "execution_count": 210,
   "metadata": {},
   "outputs": [],
   "source": [
    "y_pred_rf_best_cv = rf_best_cv.predict(X_test)"
   ]
  },
  {
   "cell_type": "code",
   "execution_count": 211,
   "metadata": {},
   "outputs": [
    {
     "name": "stdout",
     "output_type": "stream",
     "text": [
      "Accuracy: 0.8129265685387714\n"
     ]
    }
   ],
   "source": [
    "from sklearn import metrics\n",
    "# Model Accuracy, how often is the classifier correct?\n",
    "print(\"Accuracy:\",metrics.accuracy_score(y_test, y_pred_rf_best_cv))"
   ]
  },
  {
   "cell_type": "code",
   "execution_count": 163,
   "metadata": {},
   "outputs": [],
   "source": [
    "#Predicting for test set given by Tech Council"
   ]
  },
  {
   "cell_type": "code",
   "execution_count": 212,
   "metadata": {},
   "outputs": [],
   "source": [
    "df_test = pd.read_csv('test_TC.csv')"
   ]
  },
  {
   "cell_type": "code",
   "execution_count": 213,
   "metadata": {},
   "outputs": [
    {
     "data": {
      "text/html": [
       "<div>\n",
       "<style scoped>\n",
       "    .dataframe tbody tr th:only-of-type {\n",
       "        vertical-align: middle;\n",
       "    }\n",
       "\n",
       "    .dataframe tbody tr th {\n",
       "        vertical-align: top;\n",
       "    }\n",
       "\n",
       "    .dataframe thead th {\n",
       "        text-align: right;\n",
       "    }\n",
       "</style>\n",
       "<table border=\"1\" class=\"dataframe\">\n",
       "  <thead>\n",
       "    <tr style=\"text-align: right;\">\n",
       "      <th></th>\n",
       "      <th>Loan.ID</th>\n",
       "      <th>Current.Loan.Amount</th>\n",
       "      <th>Term</th>\n",
       "      <th>Credit.Score</th>\n",
       "      <th>Years.in.current.job</th>\n",
       "      <th>Home.Ownership</th>\n",
       "      <th>Annual.Income</th>\n",
       "      <th>Purpose</th>\n",
       "      <th>Monthly.Debt</th>\n",
       "      <th>Years.of.Credit.History</th>\n",
       "      <th>Months.since.last.delinquent</th>\n",
       "      <th>Number.of.Open.Accounts</th>\n",
       "      <th>Number.of.Credit.Problems</th>\n",
       "      <th>Current.Credit.Balance</th>\n",
       "      <th>Maximum.Open.Credit</th>\n",
       "      <th>Bankruptcies</th>\n",
       "      <th>Tax.Liens</th>\n",
       "      <th>Loan.Status</th>\n",
       "    </tr>\n",
       "  </thead>\n",
       "  <tbody>\n",
       "    <tr>\n",
       "      <th>0</th>\n",
       "      <td>2</td>\n",
       "      <td>6966</td>\n",
       "      <td>Short Term</td>\n",
       "      <td>673.0</td>\n",
       "      <td>1 year</td>\n",
       "      <td>Home Mortgage</td>\n",
       "      <td>54736.0</td>\n",
       "      <td>Home Improvements</td>\n",
       "      <td>839.28</td>\n",
       "      <td>16.4</td>\n",
       "      <td>8.0</td>\n",
       "      <td>6</td>\n",
       "      <td>0</td>\n",
       "      <td>2942</td>\n",
       "      <td>3881</td>\n",
       "      <td>0.0</td>\n",
       "      <td>0.0</td>\n",
       "      <td>NaN</td>\n",
       "    </tr>\n",
       "    <tr>\n",
       "      <th>1</th>\n",
       "      <td>6</td>\n",
       "      <td>9848</td>\n",
       "      <td>Short Term</td>\n",
       "      <td>NaN</td>\n",
       "      <td>6 years</td>\n",
       "      <td>Rent</td>\n",
       "      <td>NaN</td>\n",
       "      <td>Debt Consolidation</td>\n",
       "      <td>605.65</td>\n",
       "      <td>18.8</td>\n",
       "      <td>NaN</td>\n",
       "      <td>6</td>\n",
       "      <td>0</td>\n",
       "      <td>6957</td>\n",
       "      <td>8568</td>\n",
       "      <td>0.0</td>\n",
       "      <td>0.0</td>\n",
       "      <td>NaN</td>\n",
       "    </tr>\n",
       "    <tr>\n",
       "      <th>2</th>\n",
       "      <td>9</td>\n",
       "      <td>99999999</td>\n",
       "      <td>Short Term</td>\n",
       "      <td>724.0</td>\n",
       "      <td>3 years</td>\n",
       "      <td>Rent</td>\n",
       "      <td>27462.0</td>\n",
       "      <td>Debt Consolidation</td>\n",
       "      <td>338.69</td>\n",
       "      <td>10.8</td>\n",
       "      <td>NaN</td>\n",
       "      <td>10</td>\n",
       "      <td>0</td>\n",
       "      <td>11773</td>\n",
       "      <td>15369</td>\n",
       "      <td>0.0</td>\n",
       "      <td>0.0</td>\n",
       "      <td>NaN</td>\n",
       "    </tr>\n",
       "    <tr>\n",
       "      <th>3</th>\n",
       "      <td>12</td>\n",
       "      <td>6737</td>\n",
       "      <td>Short Term</td>\n",
       "      <td>NaN</td>\n",
       "      <td>3 years</td>\n",
       "      <td>Rent</td>\n",
       "      <td>NaN</td>\n",
       "      <td>Debt Consolidation</td>\n",
       "      <td>506.38</td>\n",
       "      <td>5.7</td>\n",
       "      <td>NaN</td>\n",
       "      <td>9</td>\n",
       "      <td>0</td>\n",
       "      <td>5841</td>\n",
       "      <td>10856</td>\n",
       "      <td>0.0</td>\n",
       "      <td>0.0</td>\n",
       "      <td>NaN</td>\n",
       "    </tr>\n",
       "    <tr>\n",
       "      <th>4</th>\n",
       "      <td>14</td>\n",
       "      <td>5878</td>\n",
       "      <td>Short Term</td>\n",
       "      <td>743.0</td>\n",
       "      <td>less than  1 year</td>\n",
       "      <td>Home Mortgage</td>\n",
       "      <td>107767.0</td>\n",
       "      <td>Home Improvements</td>\n",
       "      <td>1420.73</td>\n",
       "      <td>24.6</td>\n",
       "      <td>5.0</td>\n",
       "      <td>14</td>\n",
       "      <td>0</td>\n",
       "      <td>35963</td>\n",
       "      <td>89459</td>\n",
       "      <td>0.0</td>\n",
       "      <td>0.0</td>\n",
       "      <td>NaN</td>\n",
       "    </tr>\n",
       "  </tbody>\n",
       "</table>\n",
       "</div>"
      ],
      "text/plain": [
       "   Loan.ID  Current.Loan.Amount        Term  Credit.Score  \\\n",
       "0        2                 6966  Short Term         673.0   \n",
       "1        6                 9848  Short Term           NaN   \n",
       "2        9             99999999  Short Term         724.0   \n",
       "3       12                 6737  Short Term           NaN   \n",
       "4       14                 5878  Short Term         743.0   \n",
       "\n",
       "  Years.in.current.job Home.Ownership  Annual.Income             Purpose  \\\n",
       "0               1 year  Home Mortgage        54736.0   Home Improvements   \n",
       "1              6 years           Rent            NaN  Debt Consolidation   \n",
       "2              3 years           Rent        27462.0  Debt Consolidation   \n",
       "3              3 years           Rent            NaN  Debt Consolidation   \n",
       "4    less than  1 year  Home Mortgage       107767.0   Home Improvements   \n",
       "\n",
       "   Monthly.Debt  Years.of.Credit.History  Months.since.last.delinquent  \\\n",
       "0        839.28                     16.4                           8.0   \n",
       "1        605.65                     18.8                           NaN   \n",
       "2        338.69                     10.8                           NaN   \n",
       "3        506.38                      5.7                           NaN   \n",
       "4       1420.73                     24.6                           5.0   \n",
       "\n",
       "   Number.of.Open.Accounts  Number.of.Credit.Problems  Current.Credit.Balance  \\\n",
       "0                        6                          0                    2942   \n",
       "1                        6                          0                    6957   \n",
       "2                       10                          0                   11773   \n",
       "3                        9                          0                    5841   \n",
       "4                       14                          0                   35963   \n",
       "\n",
       "   Maximum.Open.Credit  Bankruptcies  Tax.Liens  Loan.Status  \n",
       "0                 3881           0.0        0.0          NaN  \n",
       "1                 8568           0.0        0.0          NaN  \n",
       "2                15369           0.0        0.0          NaN  \n",
       "3                10856           0.0        0.0          NaN  \n",
       "4                89459           0.0        0.0          NaN  "
      ]
     },
     "execution_count": 213,
     "metadata": {},
     "output_type": "execute_result"
    }
   ],
   "source": [
    "df_test.head()"
   ]
  },
  {
   "cell_type": "code",
   "execution_count": 214,
   "metadata": {},
   "outputs": [
    {
     "name": "stdout",
     "output_type": "stream",
     "text": [
      "<class 'pandas.core.frame.DataFrame'>\n",
      "RangeIndex: 23386 entries, 0 to 23385\n",
      "Data columns (total 18 columns):\n",
      " #   Column                        Non-Null Count  Dtype  \n",
      "---  ------                        --------------  -----  \n",
      " 0   Loan.ID                       23386 non-null  int64  \n",
      " 1   Current.Loan.Amount           23386 non-null  int64  \n",
      " 2   Term                          23386 non-null  object \n",
      " 3   Credit.Score                  18585 non-null  float64\n",
      " 4   Years.in.current.job          22370 non-null  object \n",
      " 5   Home.Ownership                23386 non-null  object \n",
      " 6   Annual.Income                 18585 non-null  float64\n",
      " 7   Purpose                       23386 non-null  object \n",
      " 8   Monthly.Debt                  23386 non-null  float64\n",
      " 9   Years.of.Credit.History       23386 non-null  float64\n",
      " 10  Months.since.last.delinquent  10858 non-null  float64\n",
      " 11  Number.of.Open.Accounts       23386 non-null  int64  \n",
      " 12  Number.of.Credit.Problems     23386 non-null  int64  \n",
      " 13  Current.Credit.Balance        23386 non-null  int64  \n",
      " 14  Maximum.Open.Credit           23386 non-null  int64  \n",
      " 15  Bankruptcies                  23332 non-null  float64\n",
      " 16  Tax.Liens                     23378 non-null  float64\n",
      " 17  Loan.Status                   0 non-null      float64\n",
      "dtypes: float64(8), int64(6), object(4)\n",
      "memory usage: 3.2+ MB\n"
     ]
    }
   ],
   "source": [
    "df_test.info()"
   ]
  },
  {
   "cell_type": "code",
   "execution_count": 215,
   "metadata": {},
   "outputs": [],
   "source": [
    "df_test['Years.in.current.job'].fillna('Not Available', inplace = True)"
   ]
  },
  {
   "cell_type": "code",
   "execution_count": 216,
   "metadata": {},
   "outputs": [],
   "source": [
    "df_test['Years.in.current.job'] = df_test['Years.in.current.job'].replace('less than  1 year', '0 years')"
   ]
  },
  {
   "cell_type": "code",
   "execution_count": 217,
   "metadata": {},
   "outputs": [],
   "source": [
    "df_test['Years_in_job'] = df_test['Years.in.current.job'].str.extract('(\\d+)')"
   ]
  },
  {
   "cell_type": "code",
   "execution_count": 218,
   "metadata": {},
   "outputs": [],
   "source": [
    "df_test['Purpose'] = df_test['Purpose'].replace('other', 'Other')"
   ]
  },
  {
   "cell_type": "code",
   "execution_count": 219,
   "metadata": {},
   "outputs": [],
   "source": [
    "df_test['Purpose'] = df_test['Purpose'].replace('Business Loan', 'Misc')\n",
    "df_test['Purpose'] = df_test['Purpose'].replace('Buy a Car', 'Misc')\n",
    "df_test['Purpose'] = df_test['Purpose'].replace('Medical Bills', 'Misc')\n",
    "df_test['Purpose'] = df_test['Purpose'].replace('Buy House', 'Misc')\n",
    "df_test['Purpose'] = df_test['Purpose'].replace('Take a Trip', 'Misc')\n",
    "df_test['Purpose'] = df_test['Purpose'].replace('major_purchase', 'Misc')\n",
    "df_test['Purpose'] = df_test['Purpose'].replace('small_business', 'Misc')\n",
    "df_test['Purpose'] = df_test['Purpose'].replace('moving', 'Misc')\n",
    "df_test['Purpose'] = df_test['Purpose'].replace('Educational Expenses', 'Misc')\n",
    "df_test['Purpose'] = df_test['Purpose'].replace('vacation', 'Misc')\n",
    "df_test['Purpose'] = df_test['Purpose'].replace('renewable_energy', 'Misc')\n",
    "df_test['Purpose'] = df_test['Purpose'].replace('wedding', 'Misc')"
   ]
  },
  {
   "cell_type": "code",
   "execution_count": 220,
   "metadata": {},
   "outputs": [
    {
     "data": {
      "text/plain": [
       "\"df_test = pd.get_dummies(df_test, columns=['Purpose'], prefix = ['Purpose'])\""
      ]
     },
     "execution_count": 220,
     "metadata": {},
     "output_type": "execute_result"
    }
   ],
   "source": [
    "'''df_test = pd.get_dummies(df_test, columns=['Purpose'], prefix = ['Purpose'])'''"
   ]
  },
  {
   "cell_type": "code",
   "execution_count": 221,
   "metadata": {},
   "outputs": [
    {
     "data": {
      "text/plain": [
       "\"df_test = pd.get_dummies(df_test, columns=['Term'], prefix = ['Term'])\""
      ]
     },
     "execution_count": 221,
     "metadata": {},
     "output_type": "execute_result"
    }
   ],
   "source": [
    "'''df_test = pd.get_dummies(df_test, columns=['Term'], prefix = ['Term'])'''"
   ]
  },
  {
   "cell_type": "code",
   "execution_count": 222,
   "metadata": {},
   "outputs": [
    {
     "data": {
      "text/plain": [
       "\"df_test = pd.get_dummies(df_test, columns=['Home.Ownership'], prefix = ['Home.Ownership'])\""
      ]
     },
     "execution_count": 222,
     "metadata": {},
     "output_type": "execute_result"
    }
   ],
   "source": [
    "'''df_test = pd.get_dummies(df_test, columns=['Home.Ownership'], prefix = ['Home.Ownership'])'''"
   ]
  },
  {
   "cell_type": "code",
   "execution_count": 223,
   "metadata": {},
   "outputs": [],
   "source": [
    "label_encoder_term_test = preprocessing.LabelEncoder() \n",
    "label_encoder_Purpose_test = preprocessing.LabelEncoder() \n",
    "label_encoder_HO_test = preprocessing.LabelEncoder() \n",
    "\n",
    "df_test['Term']= label_encoder_term_test.fit_transform(df_test['Term']) \n",
    "df_test['Purpose']= label_encoder_Purpose_test.fit_transform(df_test['Purpose']) \n",
    "df_test['Home.Ownership']= label_encoder_HO_test.fit_transform(df_test['Home.Ownership']) "
   ]
  },
  {
   "cell_type": "code",
   "execution_count": 224,
   "metadata": {},
   "outputs": [],
   "source": [
    "df_test.drop([ 'Months.since.last.delinquent', 'Years.in.current.job'], axis = 1, inplace = True) "
   ]
  },
  {
   "cell_type": "code",
   "execution_count": 225,
   "metadata": {},
   "outputs": [],
   "source": [
    "df_test['Bankruptcies'].fillna(float(0.0), inplace = True)"
   ]
  },
  {
   "cell_type": "code",
   "execution_count": 226,
   "metadata": {},
   "outputs": [],
   "source": [
    "df_test.loc[ (pd.isnull(df_test['Years_in_job'])) & (pd.isnull(df_test['Annual.Income'])), 'Years_in_job'] = 0"
   ]
  },
  {
   "cell_type": "code",
   "execution_count": 227,
   "metadata": {},
   "outputs": [],
   "source": [
    "df_test['Years_in_job'] = df_test['Years_in_job'].replace('0', 0)"
   ]
  },
  {
   "cell_type": "code",
   "execution_count": 228,
   "metadata": {},
   "outputs": [],
   "source": [
    "cut_labels_5 = ['Fair', 'Good', 'Very Good', 'Poor']\n",
    "cut_bins = [579, 669, 739, 799, 8000]\n",
    "df_test['Credit_Score_Cat'] = pd.cut(df_test['Credit.Score'], bins=cut_bins, labels=cut_labels_5)"
   ]
  },
  {
   "cell_type": "code",
   "execution_count": 229,
   "metadata": {},
   "outputs": [],
   "source": [
    "df_test['Credit_Score_Cat'].fillna('Good', inplace = True)"
   ]
  },
  {
   "cell_type": "code",
   "execution_count": 230,
   "metadata": {},
   "outputs": [],
   "source": [
    "df_test['Annual.Income'].fillna(df_test['Annual.Income'].mean(), inplace = True)"
   ]
  },
  {
   "cell_type": "code",
   "execution_count": 231,
   "metadata": {},
   "outputs": [],
   "source": [
    "df_test['Years_in_job'].fillna(1, inplace = True)"
   ]
  },
  {
   "cell_type": "code",
   "execution_count": 232,
   "metadata": {},
   "outputs": [
    {
     "data": {
      "text/plain": [
       "0        1\n",
       "1        6\n",
       "2        3\n",
       "3        3\n",
       "4        0\n",
       "        ..\n",
       "23381    8\n",
       "23382    5\n",
       "23383    0\n",
       "23384    1\n",
       "23385    1\n",
       "Name: Years_in_job, Length: 23386, dtype: int32"
      ]
     },
     "execution_count": 232,
     "metadata": {},
     "output_type": "execute_result"
    }
   ],
   "source": [
    "df_test['Years_in_job'].astype(str).astype(int)"
   ]
  },
  {
   "cell_type": "code",
   "execution_count": 233,
   "metadata": {},
   "outputs": [],
   "source": [
    "df_test = pd.get_dummies(df_test, columns=['Credit_Score_Cat'], prefix = ['Credit_Score_Cat'])"
   ]
  },
  {
   "cell_type": "code",
   "execution_count": 234,
   "metadata": {},
   "outputs": [],
   "source": [
    "df_test.drop(['Credit.Score'], axis = 1, inplace = True)\n",
    "df_test.drop(['Loan.ID'], axis = 1, inplace = True)\n"
   ]
  },
  {
   "cell_type": "code",
   "execution_count": 220,
   "metadata": {},
   "outputs": [],
   "source": [
    "df_test.drop(['Credit_Score_Cat_Fair'], axis = 1,  inplace = True)"
   ]
  },
  {
   "cell_type": "code",
   "execution_count": 235,
   "metadata": {},
   "outputs": [
    {
     "data": {
      "text/plain": [
       "0        1\n",
       "1        6\n",
       "2        3\n",
       "3        3\n",
       "4        0\n",
       "        ..\n",
       "23381    8\n",
       "23382    5\n",
       "23383    0\n",
       "23384    1\n",
       "23385    1\n",
       "Name: Years_in_job, Length: 23386, dtype: int32"
      ]
     },
     "execution_count": 235,
     "metadata": {},
     "output_type": "execute_result"
    }
   ],
   "source": [
    "df_test['Years_in_job'].astype(str).astype(int)"
   ]
  },
  {
   "cell_type": "code",
   "execution_count": 236,
   "metadata": {},
   "outputs": [
    {
     "data": {
      "text/plain": [
       "Current.Loan.Amount               0\n",
       "Term                              0\n",
       "Home.Ownership                    0\n",
       "Annual.Income                     0\n",
       "Purpose                           0\n",
       "Monthly.Debt                      0\n",
       "Years.of.Credit.History           0\n",
       "Number.of.Open.Accounts           0\n",
       "Number.of.Credit.Problems         0\n",
       "Current.Credit.Balance            0\n",
       "Maximum.Open.Credit               0\n",
       "Bankruptcies                      0\n",
       "Tax.Liens                         8\n",
       "Loan.Status                   23386\n",
       "Years_in_job                      0\n",
       "Credit_Score_Cat_Fair             0\n",
       "Credit_Score_Cat_Good             0\n",
       "Credit_Score_Cat_Very Good        0\n",
       "Credit_Score_Cat_Poor             0\n",
       "dtype: int64"
      ]
     },
     "execution_count": 236,
     "metadata": {},
     "output_type": "execute_result"
    }
   ],
   "source": [
    "df_test.isnull().sum()"
   ]
  },
  {
   "cell_type": "code",
   "execution_count": 237,
   "metadata": {},
   "outputs": [
    {
     "data": {
      "text/plain": [
       "Index(['Current.Loan.Amount', 'Term', 'Home.Ownership', 'Annual.Income',\n",
       "       'Purpose', 'Monthly.Debt', 'Years.of.Credit.History',\n",
       "       'Number.of.Open.Accounts', 'Number.of.Credit.Problems',\n",
       "       'Current.Credit.Balance', 'Maximum.Open.Credit', 'Bankruptcies',\n",
       "       'Tax.Liens', 'Loan.Status', 'Years_in_job', 'Credit_Score_Cat_Fair',\n",
       "       'Credit_Score_Cat_Good', 'Credit_Score_Cat_Very Good',\n",
       "       'Credit_Score_Cat_Poor'],\n",
       "      dtype='object')"
      ]
     },
     "execution_count": 237,
     "metadata": {},
     "output_type": "execute_result"
    }
   ],
   "source": [
    "df_test.columns"
   ]
  },
  {
   "cell_type": "code",
   "execution_count": 254,
   "metadata": {},
   "outputs": [],
   "source": [
    "X_test_label = ['Current.Loan.Amount', 'Term', 'Home.Ownership', 'Annual.Income',\n",
    "       'Purpose', 'Monthly.Debt', 'Years.of.Credit.History',\n",
    "       'Number.of.Open.Accounts', 'Number.of.Credit.Problems',\n",
    "       'Current.Credit.Balance', 'Maximum.Open.Credit', 'Bankruptcies',\n",
    "       'Tax.Liens', 'Years_in_job',\n",
    "       'Credit_Score_Cat_Good', 'Credit_Score_Cat_Very Good',\n",
    "       'Credit_Score_Cat_Poor']"
   ]
  },
  {
   "cell_type": "code",
   "execution_count": 255,
   "metadata": {},
   "outputs": [],
   "source": [
    "X_test_final = df_test[X_test_label]"
   ]
  },
  {
   "cell_type": "code",
   "execution_count": 256,
   "metadata": {},
   "outputs": [
    {
     "data": {
      "text/html": [
       "<div>\n",
       "<style scoped>\n",
       "    .dataframe tbody tr th:only-of-type {\n",
       "        vertical-align: middle;\n",
       "    }\n",
       "\n",
       "    .dataframe tbody tr th {\n",
       "        vertical-align: top;\n",
       "    }\n",
       "\n",
       "    .dataframe thead th {\n",
       "        text-align: right;\n",
       "    }\n",
       "</style>\n",
       "<table border=\"1\" class=\"dataframe\">\n",
       "  <thead>\n",
       "    <tr style=\"text-align: right;\">\n",
       "      <th></th>\n",
       "      <th>Current.Loan.Amount</th>\n",
       "      <th>Term</th>\n",
       "      <th>Home.Ownership</th>\n",
       "      <th>Annual.Income</th>\n",
       "      <th>Purpose</th>\n",
       "      <th>Monthly.Debt</th>\n",
       "      <th>Years.of.Credit.History</th>\n",
       "      <th>Number.of.Open.Accounts</th>\n",
       "      <th>Number.of.Credit.Problems</th>\n",
       "      <th>Current.Credit.Balance</th>\n",
       "      <th>Maximum.Open.Credit</th>\n",
       "      <th>Bankruptcies</th>\n",
       "      <th>Tax.Liens</th>\n",
       "      <th>Years_in_job</th>\n",
       "      <th>Credit_Score_Cat_Good</th>\n",
       "      <th>Credit_Score_Cat_Very Good</th>\n",
       "      <th>Credit_Score_Cat_Poor</th>\n",
       "    </tr>\n",
       "  </thead>\n",
       "  <tbody>\n",
       "    <tr>\n",
       "      <th>0</th>\n",
       "      <td>6966.0</td>\n",
       "      <td>1.0</td>\n",
       "      <td>1.0</td>\n",
       "      <td>54736.000000</td>\n",
       "      <td>1.0</td>\n",
       "      <td>839.280029</td>\n",
       "      <td>16.400000</td>\n",
       "      <td>6.0</td>\n",
       "      <td>0.0</td>\n",
       "      <td>2942.0</td>\n",
       "      <td>3881.0</td>\n",
       "      <td>0.0</td>\n",
       "      <td>0.0</td>\n",
       "      <td>1.0</td>\n",
       "      <td>1.0</td>\n",
       "      <td>0.0</td>\n",
       "      <td>0.0</td>\n",
       "    </tr>\n",
       "    <tr>\n",
       "      <th>1</th>\n",
       "      <td>9848.0</td>\n",
       "      <td>1.0</td>\n",
       "      <td>3.0</td>\n",
       "      <td>72245.546875</td>\n",
       "      <td>0.0</td>\n",
       "      <td>605.650024</td>\n",
       "      <td>18.799999</td>\n",
       "      <td>6.0</td>\n",
       "      <td>0.0</td>\n",
       "      <td>6957.0</td>\n",
       "      <td>8568.0</td>\n",
       "      <td>0.0</td>\n",
       "      <td>0.0</td>\n",
       "      <td>6.0</td>\n",
       "      <td>1.0</td>\n",
       "      <td>0.0</td>\n",
       "      <td>0.0</td>\n",
       "    </tr>\n",
       "    <tr>\n",
       "      <th>2</th>\n",
       "      <td>100000000.0</td>\n",
       "      <td>1.0</td>\n",
       "      <td>3.0</td>\n",
       "      <td>27462.000000</td>\n",
       "      <td>0.0</td>\n",
       "      <td>338.690002</td>\n",
       "      <td>10.800000</td>\n",
       "      <td>10.0</td>\n",
       "      <td>0.0</td>\n",
       "      <td>11773.0</td>\n",
       "      <td>15369.0</td>\n",
       "      <td>0.0</td>\n",
       "      <td>0.0</td>\n",
       "      <td>3.0</td>\n",
       "      <td>1.0</td>\n",
       "      <td>0.0</td>\n",
       "      <td>0.0</td>\n",
       "    </tr>\n",
       "    <tr>\n",
       "      <th>3</th>\n",
       "      <td>6737.0</td>\n",
       "      <td>1.0</td>\n",
       "      <td>3.0</td>\n",
       "      <td>72245.546875</td>\n",
       "      <td>0.0</td>\n",
       "      <td>506.380005</td>\n",
       "      <td>5.700000</td>\n",
       "      <td>9.0</td>\n",
       "      <td>0.0</td>\n",
       "      <td>5841.0</td>\n",
       "      <td>10856.0</td>\n",
       "      <td>0.0</td>\n",
       "      <td>0.0</td>\n",
       "      <td>3.0</td>\n",
       "      <td>1.0</td>\n",
       "      <td>0.0</td>\n",
       "      <td>0.0</td>\n",
       "    </tr>\n",
       "    <tr>\n",
       "      <th>4</th>\n",
       "      <td>5878.0</td>\n",
       "      <td>1.0</td>\n",
       "      <td>1.0</td>\n",
       "      <td>107767.000000</td>\n",
       "      <td>1.0</td>\n",
       "      <td>1420.729980</td>\n",
       "      <td>24.600000</td>\n",
       "      <td>14.0</td>\n",
       "      <td>0.0</td>\n",
       "      <td>35963.0</td>\n",
       "      <td>89459.0</td>\n",
       "      <td>0.0</td>\n",
       "      <td>0.0</td>\n",
       "      <td>0.0</td>\n",
       "      <td>0.0</td>\n",
       "      <td>1.0</td>\n",
       "      <td>0.0</td>\n",
       "    </tr>\n",
       "    <tr>\n",
       "      <th>...</th>\n",
       "      <td>...</td>\n",
       "      <td>...</td>\n",
       "      <td>...</td>\n",
       "      <td>...</td>\n",
       "      <td>...</td>\n",
       "      <td>...</td>\n",
       "      <td>...</td>\n",
       "      <td>...</td>\n",
       "      <td>...</td>\n",
       "      <td>...</td>\n",
       "      <td>...</td>\n",
       "      <td>...</td>\n",
       "      <td>...</td>\n",
       "      <td>...</td>\n",
       "      <td>...</td>\n",
       "      <td>...</td>\n",
       "      <td>...</td>\n",
       "    </tr>\n",
       "    <tr>\n",
       "      <th>23381</th>\n",
       "      <td>19600.0</td>\n",
       "      <td>1.0</td>\n",
       "      <td>1.0</td>\n",
       "      <td>72245.546875</td>\n",
       "      <td>0.0</td>\n",
       "      <td>2041.660034</td>\n",
       "      <td>19.400000</td>\n",
       "      <td>24.0</td>\n",
       "      <td>0.0</td>\n",
       "      <td>19405.0</td>\n",
       "      <td>42555.0</td>\n",
       "      <td>0.0</td>\n",
       "      <td>0.0</td>\n",
       "      <td>8.0</td>\n",
       "      <td>1.0</td>\n",
       "      <td>0.0</td>\n",
       "      <td>0.0</td>\n",
       "    </tr>\n",
       "    <tr>\n",
       "      <th>23382</th>\n",
       "      <td>14727.0</td>\n",
       "      <td>1.0</td>\n",
       "      <td>1.0</td>\n",
       "      <td>78544.000000</td>\n",
       "      <td>0.0</td>\n",
       "      <td>988.349976</td>\n",
       "      <td>13.000000</td>\n",
       "      <td>11.0</td>\n",
       "      <td>0.0</td>\n",
       "      <td>17083.0</td>\n",
       "      <td>31991.0</td>\n",
       "      <td>0.0</td>\n",
       "      <td>0.0</td>\n",
       "      <td>5.0</td>\n",
       "      <td>0.0</td>\n",
       "      <td>1.0</td>\n",
       "      <td>0.0</td>\n",
       "    </tr>\n",
       "    <tr>\n",
       "      <th>23383</th>\n",
       "      <td>23065.0</td>\n",
       "      <td>0.0</td>\n",
       "      <td>1.0</td>\n",
       "      <td>85823.000000</td>\n",
       "      <td>2.0</td>\n",
       "      <td>172.360001</td>\n",
       "      <td>14.000000</td>\n",
       "      <td>6.0</td>\n",
       "      <td>0.0</td>\n",
       "      <td>969.0</td>\n",
       "      <td>6726.0</td>\n",
       "      <td>0.0</td>\n",
       "      <td>0.0</td>\n",
       "      <td>0.0</td>\n",
       "      <td>0.0</td>\n",
       "      <td>0.0</td>\n",
       "      <td>0.0</td>\n",
       "    </tr>\n",
       "    <tr>\n",
       "      <th>23384</th>\n",
       "      <td>11318.0</td>\n",
       "      <td>1.0</td>\n",
       "      <td>3.0</td>\n",
       "      <td>84949.000000</td>\n",
       "      <td>0.0</td>\n",
       "      <td>842.409973</td>\n",
       "      <td>16.000000</td>\n",
       "      <td>17.0</td>\n",
       "      <td>0.0</td>\n",
       "      <td>5903.0</td>\n",
       "      <td>22194.0</td>\n",
       "      <td>0.0</td>\n",
       "      <td>0.0</td>\n",
       "      <td>1.0</td>\n",
       "      <td>0.0</td>\n",
       "      <td>1.0</td>\n",
       "      <td>0.0</td>\n",
       "    </tr>\n",
       "    <tr>\n",
       "      <th>23385</th>\n",
       "      <td>8254.0</td>\n",
       "      <td>1.0</td>\n",
       "      <td>1.0</td>\n",
       "      <td>58151.000000</td>\n",
       "      <td>2.0</td>\n",
       "      <td>852.890015</td>\n",
       "      <td>14.700000</td>\n",
       "      <td>11.0</td>\n",
       "      <td>0.0</td>\n",
       "      <td>4990.0</td>\n",
       "      <td>34180.0</td>\n",
       "      <td>0.0</td>\n",
       "      <td>0.0</td>\n",
       "      <td>1.0</td>\n",
       "      <td>0.0</td>\n",
       "      <td>1.0</td>\n",
       "      <td>0.0</td>\n",
       "    </tr>\n",
       "  </tbody>\n",
       "</table>\n",
       "<p>23386 rows × 17 columns</p>\n",
       "</div>"
      ],
      "text/plain": [
       "       Current.Loan.Amount  Term  Home.Ownership  Annual.Income  Purpose  \\\n",
       "0                   6966.0   1.0             1.0   54736.000000      1.0   \n",
       "1                   9848.0   1.0             3.0   72245.546875      0.0   \n",
       "2              100000000.0   1.0             3.0   27462.000000      0.0   \n",
       "3                   6737.0   1.0             3.0   72245.546875      0.0   \n",
       "4                   5878.0   1.0             1.0  107767.000000      1.0   \n",
       "...                    ...   ...             ...            ...      ...   \n",
       "23381              19600.0   1.0             1.0   72245.546875      0.0   \n",
       "23382              14727.0   1.0             1.0   78544.000000      0.0   \n",
       "23383              23065.0   0.0             1.0   85823.000000      2.0   \n",
       "23384              11318.0   1.0             3.0   84949.000000      0.0   \n",
       "23385               8254.0   1.0             1.0   58151.000000      2.0   \n",
       "\n",
       "       Monthly.Debt  Years.of.Credit.History  Number.of.Open.Accounts  \\\n",
       "0        839.280029                16.400000                      6.0   \n",
       "1        605.650024                18.799999                      6.0   \n",
       "2        338.690002                10.800000                     10.0   \n",
       "3        506.380005                 5.700000                      9.0   \n",
       "4       1420.729980                24.600000                     14.0   \n",
       "...             ...                      ...                      ...   \n",
       "23381   2041.660034                19.400000                     24.0   \n",
       "23382    988.349976                13.000000                     11.0   \n",
       "23383    172.360001                14.000000                      6.0   \n",
       "23384    842.409973                16.000000                     17.0   \n",
       "23385    852.890015                14.700000                     11.0   \n",
       "\n",
       "       Number.of.Credit.Problems  Current.Credit.Balance  Maximum.Open.Credit  \\\n",
       "0                            0.0                  2942.0               3881.0   \n",
       "1                            0.0                  6957.0               8568.0   \n",
       "2                            0.0                 11773.0              15369.0   \n",
       "3                            0.0                  5841.0              10856.0   \n",
       "4                            0.0                 35963.0              89459.0   \n",
       "...                          ...                     ...                  ...   \n",
       "23381                        0.0                 19405.0              42555.0   \n",
       "23382                        0.0                 17083.0              31991.0   \n",
       "23383                        0.0                   969.0               6726.0   \n",
       "23384                        0.0                  5903.0              22194.0   \n",
       "23385                        0.0                  4990.0              34180.0   \n",
       "\n",
       "       Bankruptcies  Tax.Liens  Years_in_job  Credit_Score_Cat_Good  \\\n",
       "0               0.0        0.0           1.0                    1.0   \n",
       "1               0.0        0.0           6.0                    1.0   \n",
       "2               0.0        0.0           3.0                    1.0   \n",
       "3               0.0        0.0           3.0                    1.0   \n",
       "4               0.0        0.0           0.0                    0.0   \n",
       "...             ...        ...           ...                    ...   \n",
       "23381           0.0        0.0           8.0                    1.0   \n",
       "23382           0.0        0.0           5.0                    0.0   \n",
       "23383           0.0        0.0           0.0                    0.0   \n",
       "23384           0.0        0.0           1.0                    0.0   \n",
       "23385           0.0        0.0           1.0                    0.0   \n",
       "\n",
       "       Credit_Score_Cat_Very Good  Credit_Score_Cat_Poor  \n",
       "0                             0.0                    0.0  \n",
       "1                             0.0                    0.0  \n",
       "2                             0.0                    0.0  \n",
       "3                             0.0                    0.0  \n",
       "4                             1.0                    0.0  \n",
       "...                           ...                    ...  \n",
       "23381                         0.0                    0.0  \n",
       "23382                         1.0                    0.0  \n",
       "23383                         0.0                    0.0  \n",
       "23384                         1.0                    0.0  \n",
       "23385                         1.0                    0.0  \n",
       "\n",
       "[23386 rows x 17 columns]"
      ]
     },
     "execution_count": 256,
     "metadata": {},
     "output_type": "execute_result"
    }
   ],
   "source": [
    "X_test_final.astype(np.float32)"
   ]
  },
  {
   "cell_type": "code",
   "execution_count": 257,
   "metadata": {},
   "outputs": [
    {
     "data": {
      "text/plain": [
       "Current.Loan.Amount               0\n",
       "Term                              0\n",
       "Home.Ownership                    0\n",
       "Annual.Income                     0\n",
       "Purpose                           0\n",
       "Monthly.Debt                      0\n",
       "Years.of.Credit.History           0\n",
       "Number.of.Open.Accounts           0\n",
       "Number.of.Credit.Problems         0\n",
       "Current.Credit.Balance            0\n",
       "Maximum.Open.Credit               0\n",
       "Bankruptcies                      0\n",
       "Tax.Liens                         8\n",
       "Loan.Status                   23386\n",
       "Years_in_job                      0\n",
       "Credit_Score_Cat_Fair             0\n",
       "Credit_Score_Cat_Good             0\n",
       "Credit_Score_Cat_Very Good        0\n",
       "Credit_Score_Cat_Poor             0\n",
       "dtype: int64"
      ]
     },
     "execution_count": 257,
     "metadata": {},
     "output_type": "execute_result"
    }
   ],
   "source": [
    "df_test.isnull().sum()"
   ]
  },
  {
   "cell_type": "code",
   "execution_count": 258,
   "metadata": {},
   "outputs": [],
   "source": [
    "new_X_test = np.nan_to_num(X_test_final.astype(np.float32))"
   ]
  },
  {
   "cell_type": "code",
   "execution_count": 259,
   "metadata": {},
   "outputs": [],
   "source": [
    "y_submission_clf = clf.predict(new_X_test)"
   ]
  },
  {
   "cell_type": "code",
   "execution_count": 261,
   "metadata": {},
   "outputs": [],
   "source": [
    "np.savetxt(\"Submission_6.csv\", y_submission_clf, delimiter=\",\")"
   ]
  },
  {
   "cell_type": "code",
   "execution_count": 267,
   "metadata": {},
   "outputs": [
    {
     "data": {
      "text/plain": [
       "array([0.78, 0.82, 0.95, ..., 0.62, 0.82, 0.93])"
      ]
     },
     "execution_count": 267,
     "metadata": {},
     "output_type": "execute_result"
    }
   ],
   "source": [
    "y_pred_final"
   ]
  },
  {
   "cell_type": "code",
   "execution_count": 268,
   "metadata": {},
   "outputs": [],
   "source": [
    "np.savetxt(\"Submission_1.csv\", y_pred_final, delimiter=\",\")"
   ]
  },
  {
   "cell_type": "code",
   "execution_count": 293,
   "metadata": {},
   "outputs": [],
   "source": [
    "y_pred_final = rf_best_cv.predict(new_X_test)"
   ]
  },
  {
   "cell_type": "code",
   "execution_count": 294,
   "metadata": {},
   "outputs": [],
   "source": [
    "np.savetxt(\"Submission_2_Status.csv\", y_pred_final, delimiter=\",\")"
   ]
  },
  {
   "cell_type": "code",
   "execution_count": null,
   "metadata": {},
   "outputs": [],
   "source": []
  }
 ],
 "metadata": {
  "kernelspec": {
   "display_name": "Python 3",
   "language": "python",
   "name": "python3"
  },
  "language_info": {
   "codemirror_mode": {
    "name": "ipython",
    "version": 3
   },
   "file_extension": ".py",
   "mimetype": "text/x-python",
   "name": "python",
   "nbconvert_exporter": "python",
   "pygments_lexer": "ipython3",
   "version": "3.7.6"
  }
 },
 "nbformat": 4,
 "nbformat_minor": 4
}
